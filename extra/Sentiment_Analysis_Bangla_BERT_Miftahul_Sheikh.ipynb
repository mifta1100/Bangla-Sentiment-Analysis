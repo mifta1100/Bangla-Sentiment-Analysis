{
  "cells": [
    {
      "cell_type": "markdown",
      "source": [
        "# **Essentials Libraries**"
      ],
      "metadata": {
        "id": "DR5eo9ow7KJW"
      }
    },
    {
      "cell_type": "markdown",
      "source": [
        "**Importing necessary libraries**\n",
        "*  **pandas:** Manipulate and analyze data tables.\n",
        "*  **re (regular expressions):** Search and manipulate strings using patterns.\n",
        "*  **unicodedata:** Normalize and process Unicode text.\n",
        "*  **transformers (AutoTokenizer):** Tokenize text using pre-trained NLP models.\n",
        "*  **imblearn.over_sampling (SMOTE):** Balance dataset by creating synthetic samples of the minority class.\n",
        "*  **imblearn.under_sampling (RandomUnderSampler):** Reduce majority class to balance dataset.\n",
        "*  **sklearn.model_selection (train_test_split):** Split dataset into training and testing sets.\n",
        "*  **sklearn.feature_extraction.text (TfidfVectorizer):** Convert text to numerical features using TF-IDF.\n",
        "*  **sklearn.linear_model (LogisticRegression):** Train a classification model using logistic regression.\n",
        "*  **sklearn.metrics:** Evaluate model performance (accuracy, precision, recall, F1, confusion matrix, report).\n",
        "*  **random:** Perform random operations like shuffling and sampling.\n",
        "*  **matplotlib.pyplot:** Create visualizations and plots.\n",
        "*  **seaborn:** Enhanced statistical data visualization based on matplotlib.\n",
        "*  **joblib:** Save and load Python objects efficiently\n"
      ],
      "metadata": {
        "id": "VSt7NfQB_9K9"
      }
    },
    {
      "cell_type": "code",
      "source": [
        "import pandas as pd\n",
        "import re\n",
        "import unicodedata\n",
        "from transformers import AutoTokenizer\n",
        "from imblearn.over_sampling import SMOTE\n",
        "from sklearn.model_selection import train_test_split\n",
        "from sklearn.feature_extraction.text import TfidfVectorizer\n",
        "from imblearn.under_sampling import RandomUnderSampler\n",
        "from sklearn.linear_model import LogisticRegression\n",
        "from sklearn.metrics import accuracy_score, precision_score, recall_score, f1_score, confusion_matrix, classification_report\n",
        "import random\n",
        "import matplotlib.pyplot as plt\n",
        "import seaborn as sns\n",
        "from joblib import dump"
      ],
      "metadata": {
        "id": "ZoGEFz5A7OzA"
      },
      "execution_count": 1,
      "outputs": []
    },
    {
      "cell_type": "markdown",
      "metadata": {
        "id": "r-ZAV3-MqyVI"
      },
      "source": [
        "# **Mount from Drive**"
      ]
    },
    {
      "cell_type": "code",
      "execution_count": 2,
      "metadata": {
        "colab": {
          "base_uri": "https://localhost:8080/"
        },
        "id": "G1op7bFvm-8l",
        "outputId": "56608d84-620f-4dba-ad65-b2e971f975c7"
      },
      "outputs": [
        {
          "output_type": "stream",
          "name": "stdout",
          "text": [
            "Mounted at /content/drive\n"
          ]
        }
      ],
      "source": [
        "from google.colab import drive\n",
        "drive.mount('/content/drive')"
      ]
    },
    {
      "cell_type": "markdown",
      "metadata": {
        "id": "uTvnV-0Kq4q8"
      },
      "source": [
        "# **Load the Dataset**"
      ]
    },
    {
      "cell_type": "code",
      "execution_count": 3,
      "metadata": {
        "colab": {
          "base_uri": "https://localhost:8080/",
          "height": 380
        },
        "id": "oJGhEBZgnDVk",
        "outputId": "9fb6a9ba-b4c3-4dda-d10c-475eb8cb38e8"
      },
      "outputs": [
        {
          "output_type": "stream",
          "name": "stdout",
          "text": [
            "First few rows of the dataset:\n"
          ]
        },
        {
          "output_type": "execute_result",
          "data": {
            "text/plain": [
              "                                             comment    Category  Gender  \\\n",
              "0  ওই হালার পুত এখন কি মদ খাওয়ার সময় রাতের বেলা...       Actor  Female   \n",
              "1  ঘরে বসে শুট করতে কেমন লেগেছে? ক্যামেরাতে কে ছি...      Singer    Male   \n",
              "2                       অরে বাবা, এই টা কোন পাগল????       Actor  Female   \n",
              "3                              ক্যাপ্টেন অফ বাংলাদেশ      Sports    Male   \n",
              "4                                           পটকা মাছ  Politician    Male   \n",
              "5                         অন্যরকম .. ভালো লাগলো ..❤️      Singer    Male   \n",
              "6  সাংবাদিক ভাইদের বলছি এই সংবাদ গুলি প্রচার না ক...       Actor  Female   \n",
              "7  মোহাম্মদ কফিল উদ্দীন মাহমুদRidwan RomelDwaipay...       Actor  Female   \n",
              "8  ঢাকায় এত ঘনো ঘনো আগুন লাগার মূল কারন টা এতদিনে...       Actor  Female   \n",
              "9      হিরো আলম তুমি এগিয়ে চলো, আমরা আছি তোমার সাথে।      Social    Male   \n",
              "\n",
              "   comment react number      label  \n",
              "0                   1.0     sexual  \n",
              "1                   2.0  not bully  \n",
              "2                   2.0  not bully  \n",
              "3                   0.0  not bully  \n",
              "4                   0.0      troll  \n",
              "5                   1.0  not bully  \n",
              "6                   9.0      troll  \n",
              "7                   0.0  not bully  \n",
              "8                   4.0  religious  \n",
              "9                   0.0  not bully  "
            ],
            "text/html": [
              "\n",
              "  <div id=\"df-b71352d5-2f62-499a-af79-065e95b34f39\" class=\"colab-df-container\">\n",
              "    <div>\n",
              "<style scoped>\n",
              "    .dataframe tbody tr th:only-of-type {\n",
              "        vertical-align: middle;\n",
              "    }\n",
              "\n",
              "    .dataframe tbody tr th {\n",
              "        vertical-align: top;\n",
              "    }\n",
              "\n",
              "    .dataframe thead th {\n",
              "        text-align: right;\n",
              "    }\n",
              "</style>\n",
              "<table border=\"1\" class=\"dataframe\">\n",
              "  <thead>\n",
              "    <tr style=\"text-align: right;\">\n",
              "      <th></th>\n",
              "      <th>comment</th>\n",
              "      <th>Category</th>\n",
              "      <th>Gender</th>\n",
              "      <th>comment react number</th>\n",
              "      <th>label</th>\n",
              "    </tr>\n",
              "  </thead>\n",
              "  <tbody>\n",
              "    <tr>\n",
              "      <th>0</th>\n",
              "      <td>ওই হালার পুত এখন কি মদ খাওয়ার সময় রাতের বেলা...</td>\n",
              "      <td>Actor</td>\n",
              "      <td>Female</td>\n",
              "      <td>1.0</td>\n",
              "      <td>sexual</td>\n",
              "    </tr>\n",
              "    <tr>\n",
              "      <th>1</th>\n",
              "      <td>ঘরে বসে শুট করতে কেমন লেগেছে? ক্যামেরাতে কে ছি...</td>\n",
              "      <td>Singer</td>\n",
              "      <td>Male</td>\n",
              "      <td>2.0</td>\n",
              "      <td>not bully</td>\n",
              "    </tr>\n",
              "    <tr>\n",
              "      <th>2</th>\n",
              "      <td>অরে বাবা, এই টা কোন পাগল????</td>\n",
              "      <td>Actor</td>\n",
              "      <td>Female</td>\n",
              "      <td>2.0</td>\n",
              "      <td>not bully</td>\n",
              "    </tr>\n",
              "    <tr>\n",
              "      <th>3</th>\n",
              "      <td>ক্যাপ্টেন অফ বাংলাদেশ</td>\n",
              "      <td>Sports</td>\n",
              "      <td>Male</td>\n",
              "      <td>0.0</td>\n",
              "      <td>not bully</td>\n",
              "    </tr>\n",
              "    <tr>\n",
              "      <th>4</th>\n",
              "      <td>পটকা মাছ</td>\n",
              "      <td>Politician</td>\n",
              "      <td>Male</td>\n",
              "      <td>0.0</td>\n",
              "      <td>troll</td>\n",
              "    </tr>\n",
              "    <tr>\n",
              "      <th>5</th>\n",
              "      <td>অন্যরকম .. ভালো লাগলো ..❤️</td>\n",
              "      <td>Singer</td>\n",
              "      <td>Male</td>\n",
              "      <td>1.0</td>\n",
              "      <td>not bully</td>\n",
              "    </tr>\n",
              "    <tr>\n",
              "      <th>6</th>\n",
              "      <td>সাংবাদিক ভাইদের বলছি এই সংবাদ গুলি প্রচার না ক...</td>\n",
              "      <td>Actor</td>\n",
              "      <td>Female</td>\n",
              "      <td>9.0</td>\n",
              "      <td>troll</td>\n",
              "    </tr>\n",
              "    <tr>\n",
              "      <th>7</th>\n",
              "      <td>মোহাম্মদ কফিল উদ্দীন মাহমুদRidwan RomelDwaipay...</td>\n",
              "      <td>Actor</td>\n",
              "      <td>Female</td>\n",
              "      <td>0.0</td>\n",
              "      <td>not bully</td>\n",
              "    </tr>\n",
              "    <tr>\n",
              "      <th>8</th>\n",
              "      <td>ঢাকায় এত ঘনো ঘনো আগুন লাগার মূল কারন টা এতদিনে...</td>\n",
              "      <td>Actor</td>\n",
              "      <td>Female</td>\n",
              "      <td>4.0</td>\n",
              "      <td>religious</td>\n",
              "    </tr>\n",
              "    <tr>\n",
              "      <th>9</th>\n",
              "      <td>হিরো আলম তুমি এগিয়ে চলো, আমরা আছি তোমার সাথে।</td>\n",
              "      <td>Social</td>\n",
              "      <td>Male</td>\n",
              "      <td>0.0</td>\n",
              "      <td>not bully</td>\n",
              "    </tr>\n",
              "  </tbody>\n",
              "</table>\n",
              "</div>\n",
              "    <div class=\"colab-df-buttons\">\n",
              "\n",
              "  <div class=\"colab-df-container\">\n",
              "    <button class=\"colab-df-convert\" onclick=\"convertToInteractive('df-b71352d5-2f62-499a-af79-065e95b34f39')\"\n",
              "            title=\"Convert this dataframe to an interactive table.\"\n",
              "            style=\"display:none;\">\n",
              "\n",
              "  <svg xmlns=\"http://www.w3.org/2000/svg\" height=\"24px\" viewBox=\"0 -960 960 960\">\n",
              "    <path d=\"M120-120v-720h720v720H120Zm60-500h600v-160H180v160Zm220 220h160v-160H400v160Zm0 220h160v-160H400v160ZM180-400h160v-160H180v160Zm440 0h160v-160H620v160ZM180-180h160v-160H180v160Zm440 0h160v-160H620v160Z\"/>\n",
              "  </svg>\n",
              "    </button>\n",
              "\n",
              "  <style>\n",
              "    .colab-df-container {\n",
              "      display:flex;\n",
              "      gap: 12px;\n",
              "    }\n",
              "\n",
              "    .colab-df-convert {\n",
              "      background-color: #E8F0FE;\n",
              "      border: none;\n",
              "      border-radius: 50%;\n",
              "      cursor: pointer;\n",
              "      display: none;\n",
              "      fill: #1967D2;\n",
              "      height: 32px;\n",
              "      padding: 0 0 0 0;\n",
              "      width: 32px;\n",
              "    }\n",
              "\n",
              "    .colab-df-convert:hover {\n",
              "      background-color: #E2EBFA;\n",
              "      box-shadow: 0px 1px 2px rgba(60, 64, 67, 0.3), 0px 1px 3px 1px rgba(60, 64, 67, 0.15);\n",
              "      fill: #174EA6;\n",
              "    }\n",
              "\n",
              "    .colab-df-buttons div {\n",
              "      margin-bottom: 4px;\n",
              "    }\n",
              "\n",
              "    [theme=dark] .colab-df-convert {\n",
              "      background-color: #3B4455;\n",
              "      fill: #D2E3FC;\n",
              "    }\n",
              "\n",
              "    [theme=dark] .colab-df-convert:hover {\n",
              "      background-color: #434B5C;\n",
              "      box-shadow: 0px 1px 3px 1px rgba(0, 0, 0, 0.15);\n",
              "      filter: drop-shadow(0px 1px 2px rgba(0, 0, 0, 0.3));\n",
              "      fill: #FFFFFF;\n",
              "    }\n",
              "  </style>\n",
              "\n",
              "    <script>\n",
              "      const buttonEl =\n",
              "        document.querySelector('#df-b71352d5-2f62-499a-af79-065e95b34f39 button.colab-df-convert');\n",
              "      buttonEl.style.display =\n",
              "        google.colab.kernel.accessAllowed ? 'block' : 'none';\n",
              "\n",
              "      async function convertToInteractive(key) {\n",
              "        const element = document.querySelector('#df-b71352d5-2f62-499a-af79-065e95b34f39');\n",
              "        const dataTable =\n",
              "          await google.colab.kernel.invokeFunction('convertToInteractive',\n",
              "                                                    [key], {});\n",
              "        if (!dataTable) return;\n",
              "\n",
              "        const docLinkHtml = 'Like what you see? Visit the ' +\n",
              "          '<a target=\"_blank\" href=https://colab.research.google.com/notebooks/data_table.ipynb>data table notebook</a>'\n",
              "          + ' to learn more about interactive tables.';\n",
              "        element.innerHTML = '';\n",
              "        dataTable['output_type'] = 'display_data';\n",
              "        await google.colab.output.renderOutput(dataTable, element);\n",
              "        const docLink = document.createElement('div');\n",
              "        docLink.innerHTML = docLinkHtml;\n",
              "        element.appendChild(docLink);\n",
              "      }\n",
              "    </script>\n",
              "  </div>\n",
              "\n",
              "\n",
              "    <div id=\"df-42f5bb85-6ecf-4232-9d34-29d066c22767\">\n",
              "      <button class=\"colab-df-quickchart\" onclick=\"quickchart('df-42f5bb85-6ecf-4232-9d34-29d066c22767')\"\n",
              "                title=\"Suggest charts\"\n",
              "                style=\"display:none;\">\n",
              "\n",
              "<svg xmlns=\"http://www.w3.org/2000/svg\" height=\"24px\"viewBox=\"0 0 24 24\"\n",
              "     width=\"24px\">\n",
              "    <g>\n",
              "        <path d=\"M19 3H5c-1.1 0-2 .9-2 2v14c0 1.1.9 2 2 2h14c1.1 0 2-.9 2-2V5c0-1.1-.9-2-2-2zM9 17H7v-7h2v7zm4 0h-2V7h2v10zm4 0h-2v-4h2v4z\"/>\n",
              "    </g>\n",
              "</svg>\n",
              "      </button>\n",
              "\n",
              "<style>\n",
              "  .colab-df-quickchart {\n",
              "      --bg-color: #E8F0FE;\n",
              "      --fill-color: #1967D2;\n",
              "      --hover-bg-color: #E2EBFA;\n",
              "      --hover-fill-color: #174EA6;\n",
              "      --disabled-fill-color: #AAA;\n",
              "      --disabled-bg-color: #DDD;\n",
              "  }\n",
              "\n",
              "  [theme=dark] .colab-df-quickchart {\n",
              "      --bg-color: #3B4455;\n",
              "      --fill-color: #D2E3FC;\n",
              "      --hover-bg-color: #434B5C;\n",
              "      --hover-fill-color: #FFFFFF;\n",
              "      --disabled-bg-color: #3B4455;\n",
              "      --disabled-fill-color: #666;\n",
              "  }\n",
              "\n",
              "  .colab-df-quickchart {\n",
              "    background-color: var(--bg-color);\n",
              "    border: none;\n",
              "    border-radius: 50%;\n",
              "    cursor: pointer;\n",
              "    display: none;\n",
              "    fill: var(--fill-color);\n",
              "    height: 32px;\n",
              "    padding: 0;\n",
              "    width: 32px;\n",
              "  }\n",
              "\n",
              "  .colab-df-quickchart:hover {\n",
              "    background-color: var(--hover-bg-color);\n",
              "    box-shadow: 0 1px 2px rgba(60, 64, 67, 0.3), 0 1px 3px 1px rgba(60, 64, 67, 0.15);\n",
              "    fill: var(--button-hover-fill-color);\n",
              "  }\n",
              "\n",
              "  .colab-df-quickchart-complete:disabled,\n",
              "  .colab-df-quickchart-complete:disabled:hover {\n",
              "    background-color: var(--disabled-bg-color);\n",
              "    fill: var(--disabled-fill-color);\n",
              "    box-shadow: none;\n",
              "  }\n",
              "\n",
              "  .colab-df-spinner {\n",
              "    border: 2px solid var(--fill-color);\n",
              "    border-color: transparent;\n",
              "    border-bottom-color: var(--fill-color);\n",
              "    animation:\n",
              "      spin 1s steps(1) infinite;\n",
              "  }\n",
              "\n",
              "  @keyframes spin {\n",
              "    0% {\n",
              "      border-color: transparent;\n",
              "      border-bottom-color: var(--fill-color);\n",
              "      border-left-color: var(--fill-color);\n",
              "    }\n",
              "    20% {\n",
              "      border-color: transparent;\n",
              "      border-left-color: var(--fill-color);\n",
              "      border-top-color: var(--fill-color);\n",
              "    }\n",
              "    30% {\n",
              "      border-color: transparent;\n",
              "      border-left-color: var(--fill-color);\n",
              "      border-top-color: var(--fill-color);\n",
              "      border-right-color: var(--fill-color);\n",
              "    }\n",
              "    40% {\n",
              "      border-color: transparent;\n",
              "      border-right-color: var(--fill-color);\n",
              "      border-top-color: var(--fill-color);\n",
              "    }\n",
              "    60% {\n",
              "      border-color: transparent;\n",
              "      border-right-color: var(--fill-color);\n",
              "    }\n",
              "    80% {\n",
              "      border-color: transparent;\n",
              "      border-right-color: var(--fill-color);\n",
              "      border-bottom-color: var(--fill-color);\n",
              "    }\n",
              "    90% {\n",
              "      border-color: transparent;\n",
              "      border-bottom-color: var(--fill-color);\n",
              "    }\n",
              "  }\n",
              "</style>\n",
              "\n",
              "      <script>\n",
              "        async function quickchart(key) {\n",
              "          const quickchartButtonEl =\n",
              "            document.querySelector('#' + key + ' button');\n",
              "          quickchartButtonEl.disabled = true;  // To prevent multiple clicks.\n",
              "          quickchartButtonEl.classList.add('colab-df-spinner');\n",
              "          try {\n",
              "            const charts = await google.colab.kernel.invokeFunction(\n",
              "                'suggestCharts', [key], {});\n",
              "          } catch (error) {\n",
              "            console.error('Error during call to suggestCharts:', error);\n",
              "          }\n",
              "          quickchartButtonEl.classList.remove('colab-df-spinner');\n",
              "          quickchartButtonEl.classList.add('colab-df-quickchart-complete');\n",
              "        }\n",
              "        (() => {\n",
              "          let quickchartButtonEl =\n",
              "            document.querySelector('#df-42f5bb85-6ecf-4232-9d34-29d066c22767 button');\n",
              "          quickchartButtonEl.style.display =\n",
              "            google.colab.kernel.accessAllowed ? 'block' : 'none';\n",
              "        })();\n",
              "      </script>\n",
              "    </div>\n",
              "\n",
              "    </div>\n",
              "  </div>\n"
            ],
            "application/vnd.google.colaboratory.intrinsic+json": {
              "type": "dataframe",
              "variable_name": "df",
              "summary": "{\n  \"name\": \"df\",\n  \"rows\": 44001,\n  \"fields\": [\n    {\n      \"column\": \"comment\",\n      \"properties\": {\n        \"dtype\": \"string\",\n        \"num_unique_values\": 43567,\n        \"samples\": [\n          \"\\u09a4\\u09c7\\u09be\\u09b0 \\u09ac\\u09be\\u09aa \\u09af\\u09c7 \\u09a4\\u09c7\\u09be\\u09b0\\u09c7 \\u099c\\u09a8\\u09cd\\u09ae \\u09a6\\u09bf\\u099b\\u09c7 \\u09b8\\u09c7\\u099f\\u09be \\u0995\\u09bf \\u09a4\\u09c1\\u0987 \\u09a6\\u09c7\\u0996\\u099b\\u09c7\\u09be\\u09b8.......\\u09b8\\u09c7\\u09b9\\u09c7\\u09a4\\u09c1 \\u09a4\\u09c1\\u0987 \\u09a6\\u09c7\\u0996\\u09c7\\u09be\\u09b8 \\u09a8\\u09be\\u0987 ...\\u09a4\\u09be\\u09b9\\u09b2\\u09c7 \\u09a4\\u09c7\\u09be\\u09b0 \\u098f\\u0987 \\u09ac\\u09be\\u09aa \\u09a4\\u09c7\\u09be\\u09b0 \\u0986\\u09b8\\u09b2 \\u09ac\\u09be\\u09aa \\u09a8\\u09be....\\u09a4\\u09be\\u0987 \\u098f\\u09b0 \\u09ae\\u09be\\u09a8\\u09c7 \\u09a6\\u09be\\u09dc\\u09be\\u09b2\\u09cb \\u09a4\\u09c1\\u0987 \\u099c\\u09be\\u09b0\\u099c \\u09b8\\u09a8\\u09cd\\u09a4\\u09be\\u09a8....\\u09a4\\u09c7\\u09be\\u09b0 \\u099c\\u09a8\\u09cd\\u09ae \\u0995\\u09a8\\u09a1\\u09ae \\u09b0\\u09cd\\u09a6\\u09c2\\u0998\\u099f\\u09a8\\u09be\\u09df....\",\n          \"\\u098f\\u09b8\\u09ac \\u0995\\u09c1\\u09b2\\u09be\\u0999\\u09cd\\u0997\\u09be\\u09b0\\u09a6\\u09c7\\u09b0 \\u099c\\u09a8\\u09cd\\u09af\\u0987 \\u0986\\u099c\\u0995\\u09be\\u09b2 \\u09af\\u09a4 \\u09a6\\u09c1\\u09b0\\u09cd\\u09af\\u09cb\\u0997 \\u0986\\u09b0 \\u09a6\\u09c1\\u09b0\\u09cd\\u09ad\\u09cb\\u0997\",\n          \"\\u0986\\u09b2\\u09cd\\u09b2\\u09be\\u09b9 \\u09ac\\u09b2\\u09c7 \\u09a6\\u09bf\\u09df\\u09c7\\u099b\\u09c7\\u09a8,, \\u0986\\u09b0\\u09ac \\u099c\\u09be\\u09a4\\u09bf \\u098f\\u0995\\u09a6\\u09bf\\u09a8 \\u0985\\u09a8\\u09c7\\u0995 \\u09ac\\u09dc\\u09b2\\u09cb\\u0995 \\u09b9\\u09ac\\u09c7, \\u09a4\\u09be\\u09b0\\u09be \\u099c\\u09c0\\u09a8\\u09be \\u09ac\\u09cd\\u09af\\u09be\\u09ad\\u09bf\\u099a\\u09be\\u09b0\\u09c7 \\u09b2\\u09bf\\u09aa\\u09cd\\u09a4 \\u09b9\\u09ac\\u09c7, \\u0986\\u0995\\u09be\\u09b6\\u099a\\u09c1\\u09ae\\u09cd\\u09ac\\u09bf \\u09a6\\u09be\\u09b2\\u09be\\u09a8 \\u09ac\\u09be\\u09a8\\u09be\\u09ac\\u09c7, \\u0987\\u09b9\\u09c1\\u09a6\\u09c0\\u09b0\\u09be \\u09a5\\u09be\\u09b0\\u09cd\\u09a1 \\u099f\\u09cd\\u09af\\u09be\\u09ae\\u09cd\\u09aa\\u09b2 \\u09ac\\u09be\\u09a8\\u09be\\u09ac\\u09c7, \\u09ae\\u09b9\\u09bf\\u09b2\\u09be\\u09a6\\u09c7\\u09b0 \\u09ac\\u09bf\\u0995\\u09cd\\u09b0\\u09df\\u0995\\u09b0\\u09cd\\u09ae\\u09c0 \\u09ac\\u09be\\u09a8\\u09bf\\u09df\\u09c7 \\u0995\\u09cd\\u09b0\\u09c7\\u09a4\\u09be \\u0986\\u0995\\u09b0\\u09cd\\u09b7\\u09a8 \\u0995\\u09b0\\u09be \\u09b9\\u09ac\\u09c7\\u0964 \\u098f\\u09b8\\u09ac \\u0995\\u09bf\\u09a8\\u09cd\\u09a4\\u09c1 \\u0986\\u09b2\\u09cd\\u09b2\\u09be\\u09b9 \\u09b9\\u09be\\u099c\\u09be\\u09b0 \\u09ac\\u099b\\u09b0 \\u0986\\u0997\\u09c7\\u0987 \\u09ac\\u09b2\\u09c7 \\u09a6\\u09bf\\u09df\\u09c7\\u099b\\u09bf\\u09b2\\u09c7\\u09a8\\u0964 \\u09af\\u09be \\u098f\\u0996\\u09a8 \\u09aa\\u09cd\\u09b0\\u09ae\\u09be\\u09a8\\u09bf\\u09a4 \\u09b9\\u09df\\u0964 \\u098f\\u09b8\\u09ac \\u099c\\u09bf\\u09a8\\u09bf\\u09b8 \\u0995\\u09cb\\u09a8 \\u09a7\\u09b0\\u09cd\\u09ae \\u09a4\\u09c7 \\u0986\\u0997\\u09c7\\u0987 \\u09ac\\u09b2\\u09be \\u0986\\u099b\\u09c7 \\u0986\\u09ae\\u09bf \\u099c\\u09be\\u09a8\\u09bf \\u09a8\\u09be\\u0964 \\u0995\\u09bf\\u09a8\\u09cd\\u09a4\\u09c1 \\u098f\\u0997\\u09c1\\u09b2\\u09cb \\u09a6\\u09c7\\u0996\\u09be\\u09b0 \\u09aa\\u09b0\\u09c7\\u0993 \\u09af\\u09be\\u09a6\\u09c7\\u09b0 \\u099a\\u09cb\\u0996 \\u0996\\u09cb\\u09b2\\u09c7 \\u09a8\\u09be \\u09a4\\u09be\\u09b0\\u09be \\u09a4\\u09cb \\u09ac\\u09dc\\u0987 \\u09ae\\u09c2\\u09b0\\u09cd\\u0996\\u0964\\u0995\\u09be\\u09b0\\u09a8 \\u0986\\u09b2\\u09cd\\u09b2\\u09be\\u09b9 \\u09ac\\u09b2\\u09c7\\u099b\\u09c7\\u09a8, \\u0995\\u09c1\\u09b0\\u0986\\u09a8 \\u09b6\\u09b0\\u09c0\\u09ab \\u09a4\\u09bf\\u09a8\\u09bf \\u0995\\u09bf\\u09df\\u09be\\u09ae\\u09a4\\u09c7\\u09b0 \\u0986\\u0997 \\u09aa\\u09b0\\u09cd\\u09af\\u09a8\\u09cd\\u09a4 \\u09ac\\u09b2\\u09ac\\u09a4 \\u09b0\\u09be\\u0996\\u09ac\\u09c7\\u09a8\\u0964 \\u0987\\u09b8\\u09b2\\u09be\\u09ae\\u09c7 \\u09ea\\u099f\\u09be \\u09ac\\u09bf\\u09df\\u09c7 \\u0995\\u09b0\\u09a4\\u09c7 \\u09ac\\u09b2\\u09be \\u0986\\u099b\\u09c7 \\u09af\\u09be\\u09a4\\u09c7 \\u09a8\\u099c\\u09b0 \\u09a8\\u09bf\\u099a\\u09c1 \\u09b9\\u09df\\u0964 \\u09aa\\u09b0\\u09a8\\u09be\\u09b0\\u09c0\\u09b0 \\u09a6\\u09bf\\u0995\\u09c7 \\u09a4\\u09be\\u0995\\u09be\\u09a4\\u09c7 \\u09a8\\u09be \\u09b9\\u09df\\u0964 \\u09aa\\u09b0\\u0995\\u09c0\\u09df\\u09be \\u0995\\u09b0\\u09a4\\u09c7 \\u09ac\\u09b2\\u09be \\u09b9\\u09df\\u09a8\\u09bf \\u09a4\\u09cb! \\u098f\\u0995\\u099f\\u09be \\u0985\\u09ac\\u09c8\\u09a7 \\u09b8\\u09ae\\u09cd\\u09aa\\u09b0\\u09cd\\u0995\\u09c7\\u09b0 \\u099a\\u09c7\\u09df\\u09c7 \\u09ea\\u099f\\u09be \\u09ac\\u09c8\\u09a7 \\u09b8\\u09ae\\u09cd\\u09aa\\u09b0\\u09cd\\u0995 \\u0985\\u09a8\\u09c7\\u0995 \\u09ad\\u09be\\u09b2\\u09cb\\u0964\"\n        ],\n        \"semantic_type\": \"\",\n        \"description\": \"\"\n      }\n    },\n    {\n      \"column\": \"Category\",\n      \"properties\": {\n        \"dtype\": \"category\",\n        \"num_unique_values\": 5,\n        \"samples\": [\n          \"Singer\",\n          \"Social\",\n          \"Sports\"\n        ],\n        \"semantic_type\": \"\",\n        \"description\": \"\"\n      }\n    },\n    {\n      \"column\": \"Gender\",\n      \"properties\": {\n        \"dtype\": \"category\",\n        \"num_unique_values\": 2,\n        \"samples\": [\n          \"Male\",\n          \"Female\"\n        ],\n        \"semantic_type\": \"\",\n        \"description\": \"\"\n      }\n    },\n    {\n      \"column\": \"comment react number\",\n      \"properties\": {\n        \"dtype\": \"number\",\n        \"std\": 6.671492115197327,\n        \"min\": 0.0,\n        \"max\": 428.0,\n        \"num_unique_values\": 114,\n        \"samples\": [\n          91.0,\n          4.0\n        ],\n        \"semantic_type\": \"\",\n        \"description\": \"\"\n      }\n    },\n    {\n      \"column\": \"label\",\n      \"properties\": {\n        \"dtype\": \"category\",\n        \"num_unique_values\": 5,\n        \"samples\": [\n          \"not bully\",\n          \"threat\"\n        ],\n        \"semantic_type\": \"\",\n        \"description\": \"\"\n      }\n    }\n  ]\n}"
            }
          },
          "metadata": {},
          "execution_count": 3
        }
      ],
      "source": [
        "# Load the dataset\n",
        "file_path = '/content/drive/MyDrive/Technohaven/Bangla-Text-Dataset-main/dataset.csv'\n",
        "df = pd.read_csv(file_path)\n",
        "\n",
        "# Display the dataset\n",
        "print(\"First few rows of the dataset:\")\n",
        "df.head(10)"
      ]
    },
    {
      "cell_type": "markdown",
      "source": [
        "# **Data Analysis**"
      ],
      "metadata": {
        "id": "FQNfaOSCBp9R"
      }
    },
    {
      "cell_type": "markdown",
      "source": [
        "**Print the shape of the dataset**"
      ],
      "metadata": {
        "id": "rREvXZgIAiXj"
      }
    },
    {
      "cell_type": "code",
      "source": [
        "df.shape"
      ],
      "metadata": {
        "colab": {
          "base_uri": "https://localhost:8080/"
        },
        "id": "rFxdwb0GAkKC",
        "outputId": "9f59f4ba-cdc0-49dd-9854-95fe49f4a98b"
      },
      "execution_count": 4,
      "outputs": [
        {
          "output_type": "execute_result",
          "data": {
            "text/plain": [
              "(44001, 5)"
            ]
          },
          "metadata": {},
          "execution_count": 4
        }
      ]
    },
    {
      "cell_type": "markdown",
      "source": [
        "**Calculate the percentage of Male and Female members and plot**"
      ],
      "metadata": {
        "id": "OjdxZTFXBJMB"
      }
    },
    {
      "cell_type": "code",
      "source": [
        "# Calculate the total number of entries\n",
        "total_entries = len(df)\n",
        "\n",
        "# Count the number of males and females\n",
        "gender_counts = df['Gender'].value_counts()\n",
        "\n",
        "# Calculate the percentage of each class\n",
        "gender_percentages = (gender_counts / total_entries) * 100\n",
        "\n",
        "# Print the results\n",
        "for gender, percentage in gender_percentages.items():\n",
        "    print(f\"Percentage of gender '{gender}': {percentage:.2f}%\")\n",
        "\n",
        "print()"
      ],
      "metadata": {
        "colab": {
          "base_uri": "https://localhost:8080/"
        },
        "id": "SkBapaDZA2qw",
        "outputId": "325a62c2-55ad-4b3d-f642-ba544d3a6084"
      },
      "execution_count": 5,
      "outputs": [
        {
          "output_type": "stream",
          "name": "stdout",
          "text": [
            "Percentage of gender 'Female': 68.07%\n",
            "Percentage of gender 'Male': 31.93%\n",
            "\n"
          ]
        }
      ]
    },
    {
      "cell_type": "code",
      "source": [
        "# Plot the pie chart\n",
        "plt.figure(figsize=(5, 5))\n",
        "plt.pie(gender_percentages, labels=gender_percentages.index, autopct='%1.1f%%', startangle=140, colors=['#ff0000','#0000ff'])\n",
        "plt.title('Gender Distribution')\n",
        "plt.axis('equal')  # Equal aspect ratio ensures that pie is drawn as a circle.\n",
        "plt.show()"
      ],
      "metadata": {
        "colab": {
          "base_uri": "https://localhost:8080/",
          "height": 450
        },
        "id": "hhyrFxrvBPAC",
        "outputId": "feea8608-efec-4c29-a5f9-b1c7377bf63e"
      },
      "execution_count": 6,
      "outputs": [
        {
          "output_type": "display_data",
          "data": {
            "text/plain": [
              "<Figure size 500x500 with 1 Axes>"
            ],
            "image/png": "[encoded data removed]"
          },
          "metadata": {}
        }
      ]
    },
    {
      "cell_type": "markdown",
      "metadata": {
        "id": "GbW-Rcqi9O3z"
      },
      "source": [
        "**Dataset Review:**\n",
        "The dataset consists of social media comments written in Bangla, which serve as the input texts. Each comment represents an individual piece of text expressing opinions, reactions, or statements related to celebrities, politicians, athletes, or social issues.\n",
        "\n",
        "\n",
        "**Comment:** The comment column holds the actual text from social media that will be analyzed or classified.\n",
        "\n",
        "**Label:** The label column shows the category of each comment. such as:\n",
        "*   sexual\n",
        "*   not bully\n",
        "*   troll\n",
        "*   religious\n",
        "*   threat"
      ]
    },
    {
      "cell_type": "markdown",
      "metadata": {
        "id": "bOyXKcLvquf6"
      },
      "source": [
        "**label structure:**\n",
        "The dataset uses a multiclass label structure because the comments are categorized into different types of bullying or sentiments. This means that each comment is labeled with one specific category, such as offensive language, hate speech, neutral, positive, or negative."
      ]
    },
    {
      "cell_type": "markdown",
      "source": [
        "**Calculate the percentage of each classes and plot**"
      ],
      "metadata": {
        "id": "7Bb9S6SxBgXr"
      }
    },
    {
      "cell_type": "code",
      "source": [
        "# Get distinct classes in the label\n",
        "distinct_classes = df['label'].nunique()\n",
        "\n",
        "# Print result\n",
        "print(f\"Number of classes: {distinct_classes}\")\n",
        "\n",
        "# Count of each distinct class\n",
        "class_counts = df['label'].value_counts()\n",
        "\n",
        "# Calculate the percentage of each class\n",
        "class_percentages = (class_counts / total_entries) * 100\n",
        "\n",
        "# Print results\n",
        "for label, percentage in class_percentages.items():\n",
        "    print(f\"Percentage of class '{label}': {percentage:.2f}%\")\n",
        "\n",
        "print()"
      ],
      "metadata": {
        "colab": {
          "base_uri": "https://localhost:8080/"
        },
        "id": "o9Xi2xArBYbd",
        "outputId": "ce23cbab-6ddc-4ee1-e63c-f153ec3c7cdd"
      },
      "execution_count": 7,
      "outputs": [
        {
          "output_type": "stream",
          "name": "stdout",
          "text": [
            "Number of classes: 5\n",
            "Percentage of class 'not bully': 34.86%\n",
            "Percentage of class 'troll': 23.78%\n",
            "Percentage of class 'sexual': 20.29%\n",
            "Percentage of class 'religious': 17.22%\n",
            "Percentage of class 'threat': 3.85%\n",
            "\n"
          ]
        }
      ]
    },
    {
      "cell_type": "code",
      "source": [
        "# Plot the histogram\n",
        "plt.figure(figsize=(7,4))\n",
        "plt.bar(class_percentages.index, class_percentages, color='orange')\n",
        "plt.xlabel('Class Labels')\n",
        "plt.ylabel('Percentage')\n",
        "plt.title('Distribution of Classes')\n",
        "plt.xticks(rotation=45)\n",
        "plt.show()"
      ],
      "metadata": {
        "colab": {
          "base_uri": "https://localhost:8080/",
          "height": 449
        },
        "id": "kH88lHpzBaOZ",
        "outputId": "25480de8-73bf-4425-db22-3766322e86e0"
      },
      "execution_count": 8,
      "outputs": [
        {
          "output_type": "display_data",
          "data": {
            "text/plain": [
              "<Figure size 700x400 with 1 Axes>"
            ],
            "image/png": "[encoded data removed]"
          },
          "metadata": {}
        }
      ]
    },
    {
      "cell_type": "markdown",
      "metadata": {
        "id": "Z3UrBY8gqwmn"
      },
      "source": [
        "# **Data Preprocessing**"
      ]
    },
    {
      "cell_type": "markdown",
      "source": [
        "**Normalization**"
      ],
      "metadata": {
        "id": "OT8ge0xl53Tt"
      }
    },
    {
      "cell_type": "markdown",
      "metadata": {
        "id": "rSa4boxa_Ke_"
      },
      "source": [
        "**Remove: Digits, Punctuations, Web Links, Non-Bengali Letters and Emoji's**"
      ]
    },
    {
      "cell_type": "code",
      "execution_count": 9,
      "metadata": {
        "id": "wbZs8qRI_JwD"
      },
      "outputs": [],
      "source": [
        "def normalize_bangla_text(text):\n",
        "    text = str(text)\n",
        "\n",
        "    # Remove Links\n",
        "    text = re.sub(r'http\\S+|www\\S+|https\\S+', '', text, flags=re.MULTILINE)\n",
        "\n",
        "    # Remove digits\n",
        "    text = re.sub(r'\\d+', '', text)\n",
        "\n",
        "    # Remove punctuation and symbols\n",
        "    text = re.sub(r'[^\\u0980-\\u09FF\\s]', '', text)\n",
        "\n",
        "    # Remove Non-Bengali letters\n",
        "    text = re.sub(r'[a-zA-Z]', '', text)\n",
        "\n",
        "    # Remove extra spaces\n",
        "    text = re.sub(r'\\s+', ' ', text).strip()\n",
        "\n",
        "    return text"
      ]
    },
    {
      "cell_type": "code",
      "source": [
        "df['comment_normalized'] = df['comment'].apply(normalize_bangla_text)"
      ],
      "metadata": {
        "id": "Snpw9--Z5miq"
      },
      "execution_count": 10,
      "outputs": []
    },
    {
      "cell_type": "markdown",
      "source": [
        "**Test Normalized Data**"
      ],
      "metadata": {
        "id": "cS0P2wjc421B"
      }
    },
    {
      "cell_type": "code",
      "execution_count": 11,
      "metadata": {
        "colab": {
          "base_uri": "https://localhost:8080/"
        },
        "id": "INRS8jPCESIm",
        "outputId": "1641241e-20e2-4826-a16f-09f71cc4a424"
      },
      "outputs": [
        {
          "output_type": "stream",
          "name": "stdout",
          "text": [
            "Original: ওই হালার পুত এখন কি মদ খাওয়ার সময় রাতের বেলা মদ খাই দিনের বেলাও মাঝেমধ্যে খায় এখন ম*** চ**** সময় safa কে একটু চুদাম যার ইচ্ছা আছে চুদার লাইনে দারা একজন একজন করে জাবি\n",
            "Normalized: ওই হালার পুত এখন কি মদ খাওয়ার সময় রাতের বেলা মদ খাই দিনের বেলাও মাঝেমধ্যে খায় এখন ম চ সময় কে একটু চুদাম যার ইচ্ছা আছে চুদার লাইনে দারা একজন একজন করে জাবি\n",
            "--------------------------------------------------\n",
            "Original: ঘরে বসে শুট করতে কেমন লেগেছে? ক্যামেরাতে কে ছিলেন?\n",
            "Normalized: ঘরে বসে শুট করতে কেমন লেগেছে ক্যামেরাতে কে ছিলেন\n",
            "--------------------------------------------------\n",
            "Original: অরে বাবা, এই টা কোন পাগল????\n",
            "Normalized: অরে বাবা এই টা কোন পাগল\n",
            "--------------------------------------------------\n",
            "Original: ক্যাপ্টেন অফ বাংলাদেশ\n",
            "Normalized: ক্যাপ্টেন অফ বাংলাদেশ\n",
            "--------------------------------------------------\n",
            "Original: পটকা মাছ\n",
            "Normalized: পটকা মাছ\n",
            "--------------------------------------------------\n",
            "Original: অন্যরকম .. ভালো লাগলো ..❤️\n",
            "Normalized: অন্যরকম ভালো লাগলো\n",
            "--------------------------------------------------\n",
            "Original: সাংবাদিক ভাইদের বলছি এই সংবাদ গুলি প্রচার না করলেই নয় কি?আর এই সব ৪ থ গ্রেডের অভিনেত্রী অভিনেতা দের আপনারা জনপ্রিয় শব্দটা কেন ব্যবহার করছেন।এরা কি জনপ্রিয়? এরা কাস্টিং কাউচের সুযোগে অভিনেত্রী বা অভিনেতা। প্লিজ তেলবাজি নিউজ আর এদের ইম্পোরটেন্ট দেয়া বন্ধ করুন।\n",
            "Normalized: সাংবাদিক ভাইদের বলছি এই সংবাদ গুলি প্রচার না করলেই নয় কিআর এই সব থ গ্রেডের অভিনেত্রী অভিনেতা দের আপনারা জনপ্রিয় শব্দটা কেন ব্যবহার করছেনএরা কি জনপ্রিয় এরা কাস্টিং কাউচের সুযোগে অভিনেত্রী বা অভিনেতা প্লিজ তেলবাজি নিউজ আর এদের ইম্পোরটেন্ট দেয়া বন্ধ করুন\n",
            "--------------------------------------------------\n",
            "Original: মোহাম্মদ কফিল উদ্দীন মাহমুদRidwan RomelDwaipayan PaulEku ChowdhuryKamrul HasanJony Jony\n",
            "Normalized: মোহাম্মদ কফিল উদ্দীন মাহমুদ\n",
            "--------------------------------------------------\n",
            "Original: ঢাকায় এত ঘনো ঘনো আগুন লাগার মূল কারন টা এতদিনে জানতে পারলাম..এই সবই আল্লাহর গজব..ফাবি আইয়ে আলায়ে রাব্বি কুমাতু কায্জিবান\n",
            "Normalized: ঢাকায় এত ঘনো ঘনো আগুন লাগার মূল কারন টা এতদিনে জানতে পারলামএই সবই আল্লাহর গজবফাবি আইয়ে আলায়ে রাব্বি কুমাতু কায্জিবান\n",
            "--------------------------------------------------\n",
            "Original: হিরো আলম তুমি এগিয়ে চলো, আমরা আছি তোমার সাথে।\n",
            "Normalized: হিরো আলম তুমি এগিয়ে চলো আমরা আছি তোমার সাথে\n",
            "--------------------------------------------------\n"
          ]
        }
      ],
      "source": [
        "for i, row in df[['comment', 'comment_normalized']].head(10).iterrows():\n",
        "    print(f\"Original: {row['comment']}\")\n",
        "    print(f\"Normalized: {row['comment_normalized']}\")\n",
        "    print(\"-\" * 50)"
      ]
    },
    {
      "cell_type": "markdown",
      "metadata": {
        "id": "vQuTLK42B5Ny"
      },
      "source": [
        "**Remove Stopwords**"
      ]
    },
    {
      "cell_type": "markdown",
      "source": [
        "Here, I have used a Bangla Stopword Dataset for better Preprocessing. I have attatched the dataset in the data folder of my project."
      ],
      "metadata": {
        "id": "LlhGeGHaJsRj"
      }
    },
    {
      "cell_type": "code",
      "execution_count": 12,
      "metadata": {
        "id": "WIhgWvbhBTB4"
      },
      "outputs": [],
      "source": [
        "# Load Bangla stopwords\n",
        "stopwords_df = pd.read_excel('/content/drive/MyDrive/Technohaven/Bangla-Text-Dataset-main/Stopwords.xlsx')\n",
        "stopwords_list = stopwords_df.iloc[:, 0].astype(str).tolist()\n",
        "\n",
        "def remove_stopwords(text):\n",
        "    words = text.split()\n",
        "    filtered_words = [word for word in words if word not in stopwords_list]\n",
        "    return ' '.join(filtered_words)"
      ]
    },
    {
      "cell_type": "code",
      "source": [
        "df['comment_no_stopwords'] = df['comment_normalized'].apply(remove_stopwords)"
      ],
      "metadata": {
        "id": "w8JVTd-15kBM"
      },
      "execution_count": 13,
      "outputs": []
    },
    {
      "cell_type": "markdown",
      "source": [
        "**Test Normalized Data**"
      ],
      "metadata": {
        "id": "fRlPlfoh5S3d"
      }
    },
    {
      "cell_type": "code",
      "execution_count": 14,
      "metadata": {
        "colab": {
          "base_uri": "https://localhost:8080/"
        },
        "id": "obTP_G_AEd1L",
        "outputId": "8585cb97-7133-4cb3-c85f-94860172277a"
      },
      "outputs": [
        {
          "output_type": "stream",
          "name": "stdout",
          "text": [
            "Normalized: ওই হালার পুত এখন কি মদ খাওয়ার সময় রাতের বেলা মদ খাই দিনের বেলাও মাঝেমধ্যে খায় এখন ম চ সময় কে একটু চুদাম যার ইচ্ছা আছে চুদার লাইনে দারা একজন একজন করে জাবি\n",
            "Without Stopwords: হালার পুত মদ খাওয়ার সময় রাতের বেলা মদ খাই দিনের বেলাও মাঝেমধ্যে খায় ম চ সময় একটু চুদাম ইচ্ছা চুদার লাইনে দারা একজন একজন জাবি\n",
            "--------------------------------------------------\n",
            "Normalized: ঘরে বসে শুট করতে কেমন লেগেছে ক্যামেরাতে কে ছিলেন\n",
            "Without Stopwords: ঘরে শুট কেমন লেগেছে ক্যামেরাতে\n",
            "--------------------------------------------------\n",
            "Normalized: অরে বাবা এই টা কোন পাগল\n",
            "Without Stopwords: অরে বাবা টা পাগল\n",
            "--------------------------------------------------\n",
            "Normalized: ক্যাপ্টেন অফ বাংলাদেশ\n",
            "Without Stopwords: ক্যাপ্টেন অফ বাংলাদেশ\n",
            "--------------------------------------------------\n",
            "Normalized: পটকা মাছ\n",
            "Without Stopwords: পটকা মাছ\n",
            "--------------------------------------------------\n"
          ]
        }
      ],
      "source": [
        "for i, row in df[['comment_normalized', 'comment_no_stopwords']].head(5).iterrows():\n",
        "    print(f\"Normalized: {row['comment_normalized']}\")\n",
        "    print(f\"Without Stopwords: {row['comment_no_stopwords']}\")\n",
        "    print(\"-\" * 50)"
      ]
    },
    {
      "cell_type": "markdown",
      "metadata": {
        "id": "qjSfGUocBxwC"
      },
      "source": [
        "**Unicode Normalization**"
      ]
    },
    {
      "cell_type": "code",
      "execution_count": 15,
      "metadata": {
        "id": "0SkPEmXVB3ma"
      },
      "outputs": [],
      "source": [
        "def unicode_normalize(text):\n",
        "    return unicodedata.normalize('NFC', text)"
      ]
    },
    {
      "cell_type": "code",
      "source": [
        "df['comment_unicode_normalized'] = df['comment_no_stopwords'].apply(unicode_normalize)"
      ],
      "metadata": {
        "id": "rAkT063n5sWL"
      },
      "execution_count": 16,
      "outputs": []
    },
    {
      "cell_type": "markdown",
      "metadata": {
        "id": "JoYk_0IRCGAJ"
      },
      "source": [
        "**Spell Correction**"
      ]
    },
    {
      "cell_type": "markdown",
      "source": [
        "I skipped this stage because after applying SpellChecker it decreases my models accuracy."
      ],
      "metadata": {
        "id": "qcav3l2NKDxs"
      }
    },
    {
      "cell_type": "code",
      "execution_count": 17,
      "metadata": {
        "id": "IudW6MFMCHBn",
        "colab": {
          "base_uri": "https://localhost:8080/",
          "height": 87
        },
        "outputId": "53405202-f75e-4799-c37f-c3a78e4e16a0"
      },
      "outputs": [
        {
          "output_type": "execute_result",
          "data": {
            "text/plain": [
              "\"\\nfrom spellchecker import SpellChecker\\n\\nspell = SpellChecker(language=None)  # None because Bangla is unsupported by default\\n# Load Bangla dictionary words from your stopwords or custom word list\\nspell.word_frequency.load_words(stopwords_list)\\n\\ndef bangla_spell_correct(text):\\n    corrected_words = []\\n    for word in text.split():\\n        corrected_word = spell.correction(word)\\n        corrected_words.append(corrected_word if corrected_word else word)\\n    return ' '.join(corrected_words)\\n\\n# Apply spell correction (optional, experimental)\\ndf['comment_spell_corrected'] = df['comment_unicode_normalized'].apply(bangla_spell_correct)\\n\\n\""
            ],
            "application/vnd.google.colaboratory.intrinsic+json": {
              "type": "string"
            }
          },
          "metadata": {},
          "execution_count": 17
        }
      ],
      "source": [
        "'''\n",
        "from spellchecker import SpellChecker\n",
        "\n",
        "spell = SpellChecker(language=None)  # None because Bangla is unsupported by default\n",
        "# Load Bangla dictionary words from your stopwords or custom word list\n",
        "spell.word_frequency.load_words(stopwords_list)\n",
        "\n",
        "def bangla_spell_correct(text):\n",
        "    corrected_words = []\n",
        "    for word in text.split():\n",
        "        corrected_word = spell.correction(word)\n",
        "        corrected_words.append(corrected_word if corrected_word else word)\n",
        "    return ' '.join(corrected_words)\n",
        "\n",
        "# Apply spell correction (optional, experimental)\n",
        "df['comment_spell_corrected'] = df['comment_unicode_normalized'].apply(bangla_spell_correct)\n",
        "\n",
        "'''"
      ]
    },
    {
      "cell_type": "markdown",
      "source": [
        "**Save the Final Preprocessed data**"
      ],
      "metadata": {
        "id": "yS4njBWOEk9m"
      }
    },
    {
      "cell_type": "code",
      "source": [
        "# Save the preprocessed DataFrame to CSV\n",
        "output_file = '/content/drive/MyDrive/Technohaven/Bangla-Text-Dataset-main/preprocessed_dataset.csv'\n",
        "df.to_csv(output_file, index=False, encoding='utf-8-sig')\n",
        "print(f\"Preprocessed data saved to {output_file}\")"
      ],
      "metadata": {
        "colab": {
          "base_uri": "https://localhost:8080/"
        },
        "id": "ojER0giJEolp",
        "outputId": "fac99a8f-dfdc-4861-8cb7-6dfcd8695da4"
      },
      "execution_count": 18,
      "outputs": [
        {
          "output_type": "stream",
          "name": "stdout",
          "text": [
            "Preprocessed data saved to /content/drive/MyDrive/Technohaven/Bangla-Text-Dataset-main/preprocessed_dataset.csv\n"
          ]
        }
      ]
    },
    {
      "cell_type": "markdown",
      "source": [
        "# **Tokenization**"
      ],
      "metadata": {
        "id": "RZboGquB6DoW"
      }
    },
    {
      "cell_type": "markdown",
      "metadata": {
        "id": "dD46i4KmCN1I"
      },
      "source": [
        "**Tokenize Using Bangla-Bert:**"
      ]
    },
    {
      "cell_type": "code",
      "execution_count": 19,
      "metadata": {
        "colab": {
          "base_uri": "https://localhost:8080/",
          "height": 344,
          "referenced_widgets": [
            "0a0a72d3a65a48798cfbf56926aa2214",
            "2f9dfacee1eb4b3393ba6b9027ac9cc4",
            "e4b2f09e8d684c5c996616e96b27a3ff",
            "626b5ab509884febadb67353f6471df3",
            "a6c78fbf4e62424bac90b7e534ddefaf",
            "630b5acfbfa14d97ac158a3fe80bcb4c",
            "9beb52d3848443729980140b012bd303",
            "983fff5f4dc94dd58aedebe096fae6f9",
            "8c3500242d30409790ce064f66b8d623",
            "9827152534e041b09875a3a69f620966",
            "c84efdf987ad482baf7cc2960ade41a0",
            "803a8132324340b7b8932b351987de2a",
            "f9b1e8f007f84de29f8288f7b2511f64",
            "5c7c3c976317429eb73d835d4e6839a5",
            "1b92c6b281f045c784cfba2ca4370870",
            "fabf2920dea5443ea5677cc5321917bb",
            "8536a1cbafd6496bb00a5e075b1adb65",
            "6e47f07afe534cc9ac10b5d1fdaf2ac3",
            "cc4e73b38eda46a597cb6d63a1910e13",
            "7d4293a5f86e41df93b66b1b73b5ebfb",
            "28f710860b4d4883b84c449ffc43cc35",
            "812190c429dd4b399e2186a44861f55b"
          ]
        },
        "id": "iOdD4TtFDTqz",
        "outputId": "0bdba902-1a52-4861-90d1-48c2a17877c4"
      },
      "outputs": [
        {
          "output_type": "stream",
          "name": "stderr",
          "text": [
            "/usr/local/lib/python3.11/dist-packages/huggingface_hub/utils/_auth.py:94: UserWarning: \n",
            "The secret `HF_TOKEN` does not exist in your Colab secrets.\n",
            "To authenticate with the Hugging Face Hub, create a token in your settings tab (https://huggingface.co/settings/tokens), set it as secret in your Google Colab and restart your session.\n",
            "You will be able to reuse this secret in all of your notebooks.\n",
            "Please note that authentication is recommended but still optional to access public models or datasets.\n",
            "  warnings.warn(\n"
          ]
        },
        {
          "output_type": "display_data",
          "data": {
            "text/plain": [
              "config.json:   0%|          | 0.00/491 [00:00<?, ?B/s]"
            ],
            "application/vnd.jupyter.widget-view+json": {
              "version_major": 2,
              "version_minor": 0,
              "model_id": "0a0a72d3a65a48798cfbf56926aa2214"
            }
          },
          "metadata": {}
        },
        {
          "output_type": "display_data",
          "data": {
            "text/plain": [
              "vocab.txt:   0%|          | 0.00/2.24M [00:00<?, ?B/s]"
            ],
            "application/vnd.jupyter.widget-view+json": {
              "version_major": 2,
              "version_minor": 0,
              "model_id": "803a8132324340b7b8932b351987de2a"
            }
          },
          "metadata": {}
        },
        {
          "output_type": "stream",
          "name": "stdout",
          "text": [
            "Original Text:\n",
            " হালার পুত মদ খাওয়ার সময় রাতের বেলা মদ খাই দিনের বেলাও মাঝেমধ্যে খায় ম চ সময় একটু চুদাম ইচ্ছা চুদার লাইনে দারা একজন একজন জাবি\n",
            "\n",
            "Tokens:\n",
            " ['হালা', '##র', 'পত', 'মদ', 'খাও', '##যার', 'সময', 'রাতের', 'বেলা', 'মদ', 'খাই', 'দিনের', 'বেলা', '##ও', 'মাঝে', '##মধ', '##যে', 'খা', '##য', 'ম', 'চ', 'সময', 'একট', 'চ', '##দাম', 'ইচ', '##ছা', 'চ', '##দার', 'লাইনে', 'দারা', 'একজন', 'একজন', 'জাবি']\n",
            "\n",
            "Token IDs:\n",
            " [68013, 2046, 55923, 5589, 31331, 14979, 94306, 5226, 2918, 5589, 11978, 2522, 2918, 2058, 3025, 97718, 8844, 18362, 9294, 3110, 10273, 94306, 50364, 10273, 19251, 67305, 14380, 10273, 7538, 8710, 22055, 2141, 2141, 34904]\n"
          ]
        }
      ],
      "source": [
        "# Load Bangla-BERT tokenizer\n",
        "tokenizer = AutoTokenizer.from_pretrained(\"sagorsarker/bangla-bert-base\")\n",
        "\n",
        "sample_text = df.loc[0, 'comment_unicode_normalized']\n",
        "\n",
        "tokens = tokenizer.tokenize(sample_text)\n",
        "token_ids = tokenizer.convert_tokens_to_ids(tokens)\n",
        "\n",
        "print(\"Original Text:\\n\", sample_text)\n",
        "print(\"\\nTokens:\\n\", tokens)\n",
        "print(\"\\nToken IDs:\\n\", token_ids)"
      ]
    },
    {
      "cell_type": "markdown",
      "source": [
        "**Test Tokenized Data**"
      ],
      "metadata": {
        "id": "88Jea1N-6P2e"
      }
    },
    {
      "cell_type": "code",
      "execution_count": 20,
      "metadata": {
        "colab": {
          "base_uri": "https://localhost:8080/"
        },
        "id": "IO3vTRs7Dtqj",
        "outputId": "fe5c2fe2-689b-4cca-c522-63b2c9649e64"
      },
      "outputs": [
        {
          "output_type": "stream",
          "name": "stdout",
          "text": [
            "Comment 1 Original Text:\n",
            "হালার পুত মদ খাওয়ার সময় রাতের বেলা মদ খাই দিনের বেলাও মাঝেমধ্যে খায় ম চ সময় একটু চুদাম ইচ্ছা চুদার লাইনে দারা একজন একজন জাবি\n",
            "\n",
            "Tokens:\n",
            "['হালা', '##র', 'পত', 'মদ', 'খাও', '##যার', 'সময', 'রাতের', 'বেলা', 'মদ', 'খাই', 'দিনের', 'বেলা', '##ও', 'মাঝে', '##মধ', '##যে', 'খা', '##য', 'ম', 'চ', 'সময', 'একট', 'চ', '##দাম', 'ইচ', '##ছা', 'চ', '##দার', 'লাইনে', 'দারা', 'একজন', 'একজন', 'জাবি']\n",
            "\n",
            "--------------------------------------------------\n",
            "Comment 2 Original Text:\n",
            "ঘরে শুট কেমন লেগেছে ক্যামেরাতে\n",
            "\n",
            "Tokens:\n",
            "['ঘরে', 'শট', 'কেমন', 'লেগেছে', 'ক', '##যাম', '##েরা', '##তে']\n",
            "\n",
            "--------------------------------------------------\n",
            "Comment 3 Original Text:\n",
            "অরে বাবা টা পাগল\n",
            "\n",
            "Tokens:\n",
            "['অর', '##ে', 'বাবা', 'টা', 'পাগল']\n",
            "\n",
            "--------------------------------------------------\n",
            "Comment 4 Original Text:\n",
            "ক্যাপ্টেন অফ বাংলাদেশ\n",
            "\n",
            "Tokens:\n",
            "['ক', '##যা', '##পটে', '##ন', 'অফ', 'বাংলাদেশ']\n",
            "\n",
            "--------------------------------------------------\n",
            "Comment 5 Original Text:\n",
            "পটকা মাছ\n",
            "\n",
            "Tokens:\n",
            "['পটকা', 'মাছ']\n",
            "\n",
            "--------------------------------------------------\n",
            "Comment 6 Original Text:\n",
            "অন্যরকম ভালো লাগলো\n",
            "\n",
            "Tokens:\n",
            "['অন', '##যর', '##কম', 'ভাল', '##ে', '##া', 'লাগলে', '##া']\n",
            "\n",
            "--------------------------------------------------\n",
            "Comment 7 Original Text:\n",
            "সাংবাদিক ভাইদের বলছি সংবাদ প্রচার করলেই কিআর থ গ্রেডের অভিনেত্রী অভিনেতা দের আপনারা জনপ্রিয় শব্দটা করছেনএরা জনপ্রিয় কাস্টিং কাউচের সুযোগে অভিনেত্রী অভিনেতা প্লিজ তেলবাজি নিউজ ইম্পোরটেন্ট দেয়া বন্ধ করুন\n",
            "\n",
            "Tokens:\n",
            "['সাংবাদিক', 'ভাইদের', 'বলছি', 'সংবাদ', 'পরচা', '##র', 'করলেই', 'কি', '##আর', 'থ', 'গর', '##েড', '##ের', 'অভিন', '##েত', '##রী', 'অভিনেতা', 'দে', '##র', 'আপনারা', 'জন', '##পরি', '##য', 'শব', '##দ', '##টা', 'করছেন', '##এরা', 'জন', '##পরি', '##য', 'কাস', '##টিং', 'কাউচ', '##ের', 'স', '##যে', '##াগ', '##ে', 'অভিন', '##েত', '##রী', 'অভিনেতা', 'পলি', '##জ', 'তেল', '##বাজি', 'নিউজ', 'ইমপে', '##ার', '##টেন', '##ট', 'দে', '##যা', 'বনধ', 'করন']\n",
            "\n",
            "--------------------------------------------------\n",
            "Comment 8 Original Text:\n",
            "মোহাম্মদ কফিল উদ্দীন মাহমুদ\n",
            "\n",
            "Tokens:\n",
            "['মে', '##াহা', '##মম', '##দ', 'কফিল', 'উদ', '##দীন', 'মাহ', '##মদ']\n",
            "\n",
            "--------------------------------------------------\n",
            "Comment 9 Original Text:\n",
            "ঢাকায় ঘনো ঘনো আগুন লাগার মূল কারন টা এতদিনে পারলামএই সবই আল্লাহর গজবফাবি আইয়ে আলায়ে রাব্বি কুমাতু কায্জিবান\n",
            "\n",
            "Tokens:\n",
            "['ঢাকা', '##য', 'ঘন', '##ে', '##া', 'ঘন', '##ে', '##া', 'আগ', '##ন', 'লাগার', 'মল', 'কারন', 'টা', 'এতদিন', '##ে', 'পারলাম', '##এই', 'সবই', 'আল', '##লাহ', '##র', 'গজব', '##ফা', '##বি', 'আই', '##যে', 'আলা', '##যে', 'রাব', '##বি', 'কমা', '##ত', 'কায', '##জিব', '##ান']\n",
            "\n",
            "--------------------------------------------------\n",
            "Comment 10 Original Text:\n",
            "হিরো আলম এগিয়ে চলো আছি সাথে\n",
            "\n",
            "Tokens:\n",
            "['হিরে', '##া', 'আলম', 'এগ', '##িয', '##ে', 'চলে', '##া', 'আছি', 'সাথে']\n",
            "\n",
            "--------------------------------------------------\n"
          ]
        }
      ],
      "source": [
        "for i in range(10):\n",
        "    text = df.loc[i, 'comment_unicode_normalized']\n",
        "    tokens = tokenizer.tokenize(text)\n",
        "    print(f\"Comment {i+1} Original Text:\\n{text}\\n\")\n",
        "    print(f\"Tokens:\\n{tokens}\\n\")\n",
        "    print(\"-\" * 50)"
      ]
    },
    {
      "cell_type": "markdown",
      "metadata": {
        "id": "HF9p2bdhFx9v"
      },
      "source": [
        "**Encode to Binary**"
      ]
    },
    {
      "cell_type": "code",
      "execution_count": 21,
      "metadata": {
        "colab": {
          "base_uri": "https://localhost:8080/"
        },
        "id": "2fmcjacoFxWx",
        "outputId": "b1efac7a-7a5f-44bc-feef-ab8edb832298"
      },
      "outputs": [
        {
          "output_type": "stream",
          "name": "stdout",
          "text": [
            "binary_label\n",
            "0    24268\n",
            "1    19733\n",
            "Name: count, dtype: int64\n",
            "       label  binary_label\n",
            "0     sexual             0\n",
            "1  not bully             0\n",
            "2  not bully             0\n",
            "3  not bully             0\n",
            "4      troll             1\n",
            "5  not bully             0\n",
            "6      troll             1\n",
            "7  not bully             0\n",
            "8  religious             1\n",
            "9  not bully             0\n"
          ]
        }
      ],
      "source": [
        "# Define bullying labels\n",
        "bullying_labels = ['threat', 'religious', 'bully', 'troll']\n",
        "\n",
        "df['binary_label'] = df['label'].apply(lambda x: 1 if x in bullying_labels else 0)\n",
        "\n",
        "# Check label counts\n",
        "print(df['binary_label'].value_counts())\n",
        "\n",
        "print(df[['label', 'binary_label']].head(10))"
      ]
    },
    {
      "cell_type": "markdown",
      "metadata": {
        "id": "Yc8krCqNGAKl"
      },
      "source": [
        "1.   Positive class (1) = threat, religious, bully, troll\n",
        "2.   Negative class (0) = not bully"
      ]
    },
    {
      "cell_type": "markdown",
      "source": [
        "**After Binarization**"
      ],
      "metadata": {
        "id": "nbThkxApHzfc"
      }
    },
    {
      "cell_type": "code",
      "source": [
        "# Count plot for binary_label\n",
        "plt.figure(figsize=(6, 4))\n",
        "sns.countplot(data=df, x='binary_label', palette='Set2')\n",
        "\n",
        "# Set axis labels and title\n",
        "plt.xticks([0, 1], ['Non-Bullying', 'Bullying'])\n",
        "plt.xlabel('Class')\n",
        "plt.ylabel('Count')\n",
        "plt.title('Distribution of Bullying vs Non-Bullying Labels')\n",
        "\n",
        "# Display the plot\n",
        "plt.tight_layout()\n",
        "plt.show()"
      ],
      "metadata": {
        "id": "kWN9rWY9Hu8S",
        "colab": {
          "base_uri": "https://localhost:8080/",
          "height": 494
        },
        "outputId": "af8fa8ca-c4d2-4eed-d6ee-f1bd6907d543"
      },
      "execution_count": 22,
      "outputs": [
        {
          "output_type": "stream",
          "name": "stderr",
          "text": [
            "<ipython-input-22-6a6634380cd4>:3: FutureWarning: \n",
            "\n",
            "Passing `palette` without assigning `hue` is deprecated and will be removed in v0.14.0. Assign the `x` variable to `hue` and set `legend=False` for the same effect.\n",
            "\n",
            "  sns.countplot(data=df, x='binary_label', palette='Set2')\n"
          ]
        },
        {
          "output_type": "display_data",
          "data": {
            "text/plain": [
              "<Figure size 600x400 with 1 Axes>"
            ],
            "image/png": "[encoded data removed]"
          },
          "metadata": {}
        }
      ]
    },
    {
      "cell_type": "markdown",
      "metadata": {
        "id": "EahsgGhnHcIl"
      },
      "source": [
        "**Encode to Multiclass**"
      ]
    },
    {
      "cell_type": "code",
      "execution_count": 23,
      "metadata": {
        "colab": {
          "base_uri": "https://localhost:8080/"
        },
        "id": "Pja0gdzvHZbe",
        "outputId": "cbf26f9b-5230-4fd5-f403-ddfeefa5d4e7"
      },
      "outputs": [
        {
          "output_type": "stream",
          "name": "stdout",
          "text": [
            "Label to ID mapping:\n",
            "{'not bully': np.int64(0), 'religious': np.int64(1), 'sexual': np.int64(2), 'threat': np.int64(3), 'troll': np.int64(4)}\n",
            "        label  multiclass_label\n",
            "0      sexual                 2\n",
            "1   not bully                 0\n",
            "2   not bully                 0\n",
            "3   not bully                 0\n",
            "4       troll                 4\n",
            "5   not bully                 0\n",
            "6       troll                 4\n",
            "7   not bully                 0\n",
            "8   religious                 1\n",
            "9   not bully                 0\n",
            "10  religious                 1\n",
            "11  religious                 1\n",
            "12  not bully                 0\n",
            "13  not bully                 0\n",
            "14  not bully                 0\n",
            "15     sexual                 2\n",
            "16     sexual                 2\n",
            "17  not bully                 0\n",
            "18      troll                 4\n",
            "19     sexual                 2\n"
          ]
        }
      ],
      "source": [
        "from sklearn.preprocessing import LabelEncoder\n",
        "\n",
        "# Initialize the encoder\n",
        "le = LabelEncoder()\n",
        "\n",
        "df['multiclass_label'] = le.fit_transform(df['label'])\n",
        "\n",
        "# Check the mapping\n",
        "label_mapping = dict(zip(le.classes_, le.transform(le.classes_)))\n",
        "print(\"Label to ID mapping:\")\n",
        "print(label_mapping)\n",
        "\n",
        "print(df[['label', 'multiclass_label']].head(20))"
      ]
    },
    {
      "cell_type": "markdown",
      "source": [
        "**After Multi-Class Classification**"
      ],
      "metadata": {
        "id": "z1nWFn3aIDHm"
      }
    },
    {
      "cell_type": "code",
      "source": [
        "# Set figure size\n",
        "plt.figure(figsize=(8, 5))\n",
        "\n",
        "# Count plot for multiclass labels\n",
        "sns.countplot(data=df, x='multiclass_label', palette='Set3')\n",
        "\n",
        "# Add labels and title\n",
        "plt.xlabel('Label Categories')\n",
        "plt.ylabel('Count')\n",
        "plt.title('Distribution of Multiclass Labels')\n",
        "\n",
        "# Display plot\n",
        "plt.tight_layout()\n",
        "plt.show()"
      ],
      "metadata": {
        "id": "G2PQT9QjIGqQ",
        "colab": {
          "base_uri": "https://localhost:8080/",
          "height": 594
        },
        "outputId": "a2aa218e-e465-4f66-fb8d-ab577efcf530"
      },
      "execution_count": 24,
      "outputs": [
        {
          "output_type": "stream",
          "name": "stderr",
          "text": [
            "<ipython-input-24-fddda02c4bf9>:5: FutureWarning: \n",
            "\n",
            "Passing `palette` without assigning `hue` is deprecated and will be removed in v0.14.0. Assign the `x` variable to `hue` and set `legend=False` for the same effect.\n",
            "\n",
            "  sns.countplot(data=df, x='multiclass_label', palette='Set3')\n"
          ]
        },
        {
          "output_type": "display_data",
          "data": {
            "text/plain": [
              "<Figure size 800x500 with 1 Axes>"
            ],
            "image/png": "[encoded data removed]"
          },
          "metadata": {}
        }
      ]
    },
    {
      "cell_type": "markdown",
      "source": [
        "\n",
        "\n",
        "---\n",
        "\n",
        "\n",
        "\n",
        "***Note: Although I encode the labels for both binary and multiclass classification, I focus only on the binary labels for feature extraction.***\n",
        "\n",
        "\n",
        "\n",
        "---\n",
        "\n"
      ],
      "metadata": {
        "id": "Q3cslUvUCh4k"
      }
    },
    {
      "cell_type": "markdown",
      "source": [
        "**Data Imbalance Problem Solve**"
      ],
      "metadata": {
        "id": "4fm2zNSUsTSV"
      }
    },
    {
      "cell_type": "code",
      "source": [
        "!pip install imbalanced-learn"
      ],
      "metadata": {
        "colab": {
          "base_uri": "https://localhost:8080/"
        },
        "id": "hgBk35wp7uu6",
        "outputId": "7b5e47b8-f4d7-40d9-c00e-8cd5c87cb935"
      },
      "execution_count": 25,
      "outputs": [
        {
          "output_type": "stream",
          "name": "stdout",
          "text": [
            "Requirement already satisfied: imbalanced-learn in /usr/local/lib/python3.11/dist-packages (0.13.0)\n",
            "Requirement already satisfied: numpy<3,>=1.24.3 in /usr/local/lib/python3.11/dist-packages (from imbalanced-learn) (2.0.2)\n",
            "Requirement already satisfied: scipy<2,>=1.10.1 in /usr/local/lib/python3.11/dist-packages (from imbalanced-learn) (1.15.3)\n",
            "Requirement already satisfied: scikit-learn<2,>=1.3.2 in /usr/local/lib/python3.11/dist-packages (from imbalanced-learn) (1.6.1)\n",
            "Requirement already satisfied: sklearn-compat<1,>=0.1 in /usr/local/lib/python3.11/dist-packages (from imbalanced-learn) (0.1.3)\n",
            "Requirement already satisfied: joblib<2,>=1.1.1 in /usr/local/lib/python3.11/dist-packages (from imbalanced-learn) (1.5.0)\n",
            "Requirement already satisfied: threadpoolctl<4,>=2.0.0 in /usr/local/lib/python3.11/dist-packages (from imbalanced-learn) (3.6.0)\n"
          ]
        }
      ]
    },
    {
      "cell_type": "code",
      "source": [
        "# Vectorize normalized text into TF-IDF\n",
        "vectorizer = TfidfVectorizer(max_features=5000)\n",
        "X_vectorized = vectorizer.fit_transform(df['comment_unicode_normalized'])\n",
        "\n",
        "y = df['binary_label']\n",
        "\n",
        "\n",
        "# Split data\n",
        "X_train, X_test, y_train, y_test = train_test_split(X_vectorized, y, test_size=0.2, stratify=y, random_state=42)\n",
        "\n",
        "# Apply SMOTE on training set\n",
        "smote = SMOTE(random_state=42)\n",
        "X_train_res, y_train_res = smote.fit_resample(X_train, y_train)\n",
        "\n",
        "print(\"Before SMOTE:\", y_train.value_counts())\n",
        "print(\"After SMOTE:\", y_train_res.value_counts())"
      ],
      "metadata": {
        "colab": {
          "base_uri": "https://localhost:8080/"
        },
        "id": "pss7r-jKsZtX",
        "outputId": "d6432805-6ece-49a8-d28b-77651ce4d7c4"
      },
      "execution_count": 26,
      "outputs": [
        {
          "output_type": "stream",
          "name": "stdout",
          "text": [
            "Before SMOTE: binary_label\n",
            "0    19414\n",
            "1    15786\n",
            "Name: count, dtype: int64\n",
            "After SMOTE: binary_label\n",
            "0    19414\n",
            "1    19414\n",
            "Name: count, dtype: int64\n"
          ]
        }
      ]
    },
    {
      "cell_type": "code",
      "source": [
        "rus = RandomUnderSampler(random_state=42)\n",
        "X_res, y_res = rus.fit_resample(X_vectorized, y)\n",
        "\n",
        "print(\"After undersampling:\", y_res.value_counts())"
      ],
      "metadata": {
        "colab": {
          "base_uri": "https://localhost:8080/"
        },
        "id": "oAaIejg18JPV",
        "outputId": "979331bc-b91f-4ed7-91f7-ff6a0eb37bb2"
      },
      "execution_count": 27,
      "outputs": [
        {
          "output_type": "stream",
          "name": "stdout",
          "text": [
            "After undersampling: binary_label\n",
            "0    19733\n",
            "1    19733\n",
            "Name: count, dtype: int64\n"
          ]
        }
      ]
    },
    {
      "cell_type": "markdown",
      "source": [
        "**Visualization**"
      ],
      "metadata": {
        "id": "ubwRkrD9Bydp"
      }
    },
    {
      "cell_type": "code",
      "source": [
        "# Count the classes after undersampling\n",
        "class_counts = y_res.value_counts()\n",
        "\n",
        "# Plot\n",
        "plt.figure(figsize=(6,4))\n",
        "class_counts.plot(kind='bar')\n",
        "plt.title('Class Distribution After Undersampling')\n",
        "plt.xlabel('Class')\n",
        "plt.ylabel('Number of Samples')\n",
        "plt.xticks(rotation=0)\n",
        "plt.show()"
      ],
      "metadata": {
        "id": "n2r0iHfFB0CH",
        "colab": {
          "base_uri": "https://localhost:8080/",
          "height": 410
        },
        "outputId": "d4b71419-562e-40b1-a2d5-a94861f3bca8"
      },
      "execution_count": 28,
      "outputs": [
        {
          "output_type": "display_data",
          "data": {
            "text/plain": [
              "<Figure size 600x400 with 1 Axes>"
            ],
            "image/png": "[encoded data removed]"
          },
          "metadata": {}
        }
      ]
    },
    {
      "cell_type": "markdown",
      "source": [
        "# **Bangla-BERT**"
      ],
      "metadata": {
        "id": "pRiSRu-4TZ94"
      }
    },
    {
      "cell_type": "markdown",
      "source": [
        "**Bangla-BERT Model**"
      ],
      "metadata": {
        "id": "_Q0CfSLUSKaa"
      }
    },
    {
      "cell_type": "code",
      "source": [
        "import numpy as np\n",
        "import torch\n",
        "from torch.utils.data import Dataset, DataLoader\n",
        "from torch.optim import AdamW\n",
        "from transformers import AutoTokenizer, AutoModelForSequenceClassification, get_linear_schedule_with_warmup\n",
        "from sklearn.metrics import accuracy_score, precision_recall_fscore_support, confusion_matrix\n",
        "import re\n",
        "import unicodedata"
      ],
      "metadata": {
        "id": "7z_RBLedRoiA"
      },
      "execution_count": null,
      "outputs": []
    },
    {
      "cell_type": "code",
      "source": [
        "comments = df['comment_unicode_normalized'].tolist()\n",
        "labels = df['binary_label'].tolist()\n",
        "\n",
        "# Define class\n",
        "class BanglaDataset(Dataset):\n",
        "    def __init__(self, comments, labels, tokenizer, max_length=128):\n",
        "        self.comments = comments\n",
        "        self.labels = labels\n",
        "        self.tokenizer = tokenizer\n",
        "        self.max_length = max_length\n",
        "\n",
        "    def __len__(self):\n",
        "        return len(self.comments)\n",
        "\n",
        "    def __getitem__(self, idx):\n",
        "        comment = self.comments[idx]\n",
        "        label = self.labels[idx]\n",
        "        encoding = self.tokenizer.encode_plus(\n",
        "            comment,\n",
        "            max_length=self.max_length,\n",
        "            add_special_tokens=True,\n",
        "            padding='max_length',\n",
        "            return_attention_mask=True,\n",
        "            truncation=True,\n",
        "            return_tensors='pt'\n",
        "        )\n",
        "        return {\n",
        "            'input_ids': encoding['input_ids'].squeeze(0),\n",
        "            'attention_mask': encoding['attention_mask'].squeeze(0),\n",
        "            'labels': torch.tensor(label, dtype=torch.long)\n",
        "        }\n",
        "\n",
        "# Initialize tokenizer and dataset\n",
        "tokenizer = AutoTokenizer.from_pretrained('sagorsarker/bangla-bert-base')\n",
        "dataset = BanglaDataset(comments, labels, tokenizer, max_length=128)\n",
        "\n",
        "\n",
        "train_size = int(0.8 * len(dataset))\n",
        "val_size = int(0.1 * len(dataset))\n",
        "test_size = len(dataset) - train_size - val_size\n",
        "train_dataset, val_dataset, test_dataset = torch.utils.data.random_split(dataset, [train_size, val_size, test_size])\n",
        "\n",
        "# DataLoaders\n",
        "train_loader = DataLoader(train_dataset, batch_size=16, shuffle=True)\n",
        "val_loader = DataLoader(val_dataset, batch_size=16, shuffle=False)\n",
        "test_loader = DataLoader(test_dataset, batch_size=16, shuffle=False)\n",
        "\n",
        "# Load model and prepare optimizer, scheduler, loss\n",
        "model = AutoModelForSequenceClassification.from_pretrained('sagorsarker/bangla-bert-base', num_labels=2)\n",
        "device = torch.device('cuda' if torch.cuda.is_available() else 'cpu')\n",
        "model.to(device)\n",
        "\n",
        "optimizer = AdamW(model.parameters(), lr=2e-5)\n",
        "total_steps = len(train_loader) * 4\n",
        "\n",
        "scheduler = get_linear_schedule_with_warmup(\n",
        "    optimizer,\n",
        "    num_warmup_steps=0,\n",
        "    num_training_steps=total_steps\n",
        ")\n",
        "\n",
        "loss_fn = torch.nn.CrossEntropyLoss().to(device)\n",
        "\n",
        "# Training and evaluation functions\n",
        "def train_epoch(model, data_loader, loss_fn, optimizer, device, scheduler):\n",
        "    model.train()\n",
        "    losses = []\n",
        "    correct_predictions = 0\n",
        "\n",
        "    for batch in data_loader:\n",
        "        input_ids = batch['input_ids'].to(device)\n",
        "        attention_mask = batch['attention_mask'].to(device)\n",
        "        labels = batch['labels'].to(device)\n",
        "\n",
        "        outputs = model(input_ids=input_ids, attention_mask=attention_mask)\n",
        "        logits = outputs.logits\n",
        "        loss = loss_fn(logits, labels)\n",
        "\n",
        "        _, preds = torch.max(logits, dim=1)\n",
        "        correct_predictions += torch.sum(preds == labels)\n",
        "        losses.append(loss.item())\n",
        "\n",
        "        loss.backward()\n",
        "        torch.nn.utils.clip_grad_norm_(model.parameters(), max_norm=1.0)\n",
        "        optimizer.step()\n",
        "        scheduler.step()\n",
        "        optimizer.zero_grad()\n",
        "\n",
        "    accuracy = correct_predictions.double() / len(data_loader.dataset)\n",
        "    return accuracy.item(), np.mean(losses)\n",
        "\n",
        "def eval_model(model, data_loader, loss_fn, device):\n",
        "    model.eval()\n",
        "    losses = []\n",
        "    correct_predictions = 0\n",
        "\n",
        "    with torch.no_grad():\n",
        "        for batch in data_loader:\n",
        "            input_ids = batch['input_ids'].to(device)\n",
        "            attention_mask = batch['attention_mask'].to(device)\n",
        "            labels = batch['labels'].to(device)\n",
        "\n",
        "            outputs = model(input_ids=input_ids, attention_mask=attention_mask)\n",
        "            logits = outputs.logits\n",
        "            loss = loss_fn(logits, labels)\n",
        "\n",
        "            _, preds = torch.max(logits, dim=1)\n",
        "            correct_predictions += torch.sum(preds == labels)\n",
        "            losses.append(loss.item())\n",
        "\n",
        "    accuracy = correct_predictions.double() / len(data_loader.dataset)\n",
        "    return accuracy.item(), np.mean(losses)\n",
        "\n",
        "# Training loop\n",
        "EPOCHS = 4\n",
        "\n",
        "for epoch in range(EPOCHS):\n",
        "    train_acc, train_loss = train_epoch(model, train_loader, loss_fn, optimizer, device, scheduler)\n",
        "    val_acc, val_loss = eval_model(model, val_loader, loss_fn, device)\n",
        "\n",
        "    print(f\"Epoch {epoch+1}/{EPOCHS}\")\n",
        "    print(f\"Train Loss: {train_loss:.4f}, Train Accuracy: {train_acc:.4f}\")\n",
        "    print(f\"Val Loss: {val_loss:.4f}, Val Accuracy: {val_acc:.4f}\")\n",
        "\n",
        "# Final test evaluation\n",
        "test_acc, test_loss = eval_model(model, test_loader, loss_fn, device)\n",
        "print(f\"Test Loss: {test_loss:.4f}, Test Accuracy: {test_acc:.4f}\")\n",
        "\n",
        "# Save the fine-tuned model and tokenizer\n",
        "model.save_pretrained('./models/bangla_bert_finetuned')\n",
        "tokenizer.save_pretrained('./models/bangla_bert_finetuned')"
      ],
      "metadata": {
        "colab": {
          "base_uri": "https://localhost:8080/"
        },
        "id": "zsIQYJHC-ywX",
        "outputId": "c6e82e62-367b-4cde-9a5b-5a51a9b45d85"
      },
      "execution_count": 32,
      "outputs": [
        {
          "output_type": "stream",
          "name": "stderr",
          "text": [
            "Some weights of BertForSequenceClassification were not initialized from the model checkpoint at sagorsarker/bangla-bert-base and are newly initialized: ['classifier.bias', 'classifier.weight']\n",
            "You should probably TRAIN this model on a down-stream task to be able to use it for predictions and inference.\n"
          ]
        },
        {
          "output_type": "stream",
          "name": "stdout",
          "text": [
            "Epoch 1/4\n",
            "Train Loss: 0.3721, Train Accuracy: 0.8357\n",
            "Val Loss: 0.3273, Val Accuracy: 0.8693\n",
            "Epoch 2/4\n",
            "Train Loss: 0.2574, Train Accuracy: 0.9015\n",
            "Val Loss: 0.3281, Val Accuracy: 0.8718\n",
            "Epoch 3/4\n",
            "Train Loss: 0.1929, Train Accuracy: 0.9366\n",
            "Val Loss: 0.4522, Val Accuracy: 0.8784\n",
            "Epoch 4/4\n",
            "Train Loss: 0.1369, Train Accuracy: 0.9603\n",
            "Val Loss: 0.5614, Val Accuracy: 0.8705\n",
            "Test Loss: 0.5306, Test Accuracy: 0.8778\n"
          ]
        },
        {
          "output_type": "execute_result",
          "data": {
            "text/plain": [
              "('./models/bangla_bert_finetuned/tokenizer_config.json',\n",
              " './models/bangla_bert_finetuned/special_tokens_map.json',\n",
              " './models/bangla_bert_finetuned/vocab.txt',\n",
              " './models/bangla_bert_finetuned/added_tokens.json',\n",
              " './models/bangla_bert_finetuned/tokenizer.json')"
            ]
          },
          "metadata": {},
          "execution_count": 32
        }
      ]
    },
    {
      "cell_type": "markdown",
      "source": [
        "**Print Evaluation Matrix**"
      ],
      "metadata": {
        "id": "iOa678o4SGDW"
      }
    },
    {
      "cell_type": "code",
      "source": [
        "def evaluate_performance(model, data_loader, device):\n",
        "    model.eval()\n",
        "    all_labels = []\n",
        "    all_preds = []\n",
        "\n",
        "    with torch.no_grad():\n",
        "        for batch in data_loader:\n",
        "            input_ids = batch['input_ids'].to(device)\n",
        "            attention_mask = batch['attention_mask'].to(device)\n",
        "            labels = batch['labels'].to(device)\n",
        "\n",
        "            outputs = model(input_ids=input_ids, attention_mask=attention_mask)\n",
        "            logits = outputs.logits\n",
        "            preds = torch.argmax(logits, dim=1)\n",
        "\n",
        "            all_labels.extend(labels.cpu().numpy())\n",
        "            all_preds.extend(preds.cpu().numpy())\n",
        "\n",
        "    accuracy = accuracy_score(all_labels, all_preds)\n",
        "    precision, recall, f1, _ = precision_recall_fscore_support(all_labels, all_preds, average='binary')\n",
        "    cm = confusion_matrix(all_labels, all_preds)\n",
        "\n",
        "    print(f\"Accuracy:  {accuracy:.4f}\")\n",
        "    print(f\"Precision: {precision:.4f}\")\n",
        "    print(f\"Recall:    {recall:.4f}\")\n",
        "    print(f\"F1-score:  {f1:.4f}\")\n",
        "    print(\"Confusion Matrix:\")\n",
        "    print(cm)\n",
        "\n",
        "    return accuracy, precision, recall, f1, cm\n",
        "\n",
        "# Usage example:\n",
        "evaluate_performance(model, test_loader, device)"
      ],
      "metadata": {
        "colab": {
          "base_uri": "https://localhost:8080/"
        },
        "id": "XM5Nimv3PBAN",
        "outputId": "d7f85158-804c-4147-ada6-ca07d0c7a02e"
      },
      "execution_count": 34,
      "outputs": [
        {
          "output_type": "stream",
          "name": "stdout",
          "text": [
            "Accuracy:  0.8778\n",
            "Precision: 0.8737\n",
            "Recall:    0.8535\n",
            "F1-score:  0.8635\n",
            "Confusion Matrix:\n",
            "[[2162  246]\n",
            " [ 292 1701]]\n"
          ]
        },
        {
          "output_type": "execute_result",
          "data": {
            "text/plain": [
              "(0.8777550556691661,\n",
              " 0.8736517719568567,\n",
              " 0.8534872052182639,\n",
              " 0.8634517766497461,\n",
              " array([[2162,  246],\n",
              "        [ 292, 1701]]))"
            ]
          },
          "metadata": {},
          "execution_count": 34
        }
      ]
    },
    {
      "cell_type": "markdown",
      "source": [
        "**Test**"
      ],
      "metadata": {
        "id": "YBqBbARZRDtg"
      }
    },
    {
      "cell_type": "code",
      "source": [
        "def preprocess_text(text):\n",
        "    # Remove links\n",
        "    text = re.sub(r'http\\S+|www\\S+|https\\S+', '', text)\n",
        "    # Remove digits\n",
        "    text = re.sub(r'\\d+', '', text)\n",
        "    # Remove punctuation and symbols\n",
        "    text = re.sub(r'[^\\u0980-\\u09FF\\s]', '', text)\n",
        "    # Remove English letters\n",
        "    text = re.sub(r'[a-zA-Z]', '', text)\n",
        "    # Remove extra spaces\n",
        "    text = re.sub(r'\\s+', ' ', text).strip()\n",
        "    # Unicode normalize\n",
        "    text = unicodedata.normalize('NFC', text)\n",
        "\n",
        "    return text\n",
        "\n",
        "def predict_bullying(text, model, tokenizer, device, max_length=128):\n",
        "    model.eval()\n",
        "    text = preprocess_text(text)\n",
        "    encoding = tokenizer.encode_plus(\n",
        "        text,\n",
        "        max_length=max_length,\n",
        "        padding='max_length',\n",
        "        truncation=True,\n",
        "        return_tensors='pt'\n",
        "    )\n",
        "    input_ids = encoding['input_ids'].to(device)\n",
        "    attention_mask = encoding['attention_mask'].to(device)\n",
        "\n",
        "    with torch.no_grad():\n",
        "        outputs = model(input_ids=input_ids, attention_mask=attention_mask)\n",
        "        logits = outputs.logits\n",
        "        predicted_class = torch.argmax(logits, dim=1).cpu().item()\n",
        "\n",
        "    return \"Bullying\" if predicted_class == 1 else \"Non-Bullying\"\n",
        "\n",
        "# Example usage:\n",
        "user_input = input(\"Enter a Bangla comment: \")\n",
        "result = predict_bullying(user_input, model, tokenizer, device)\n",
        "print(f\"Prediction: {result}\")"
      ],
      "metadata": {
        "colab": {
          "base_uri": "https://localhost:8080/"
        },
        "id": "wFrZVAmVRE0U",
        "outputId": "9c61c981-8be2-48ff-f228-c5a0559decc5"
      },
      "execution_count": 38,
      "outputs": [
        {
          "output_type": "stream",
          "name": "stdout",
          "text": [
            "Enter a Bangla comment: বালের তামাশা শুরু করছস\n",
            "Prediction: Bullying\n"
          ]
        }
      ]
    },
    {
      "cell_type": "markdown",
      "source": [
        "# **Convert to ONNX**"
      ],
      "metadata": {
        "id": "Y-kIASRAUZq9"
      }
    },
    {
      "cell_type": "code",
      "source": [
        "!pip install skl2onnx onnxruntime"
      ],
      "metadata": {
        "colab": {
          "base_uri": "https://localhost:8080/"
        },
        "id": "JMkOWvHHc3KU",
        "outputId": "5eae4052-8a9b-4ae4-cdd7-9b1714c5df3e"
      },
      "execution_count": 39,
      "outputs": [
        {
          "output_type": "stream",
          "name": "stdout",
          "text": [
            "Collecting skl2onnx\n",
            "  Downloading skl2onnx-1.18.0-py2.py3-none-any.whl.metadata (3.2 kB)\n",
            "Collecting onnxruntime\n",
            "  Downloading onnxruntime-1.22.0-cp311-cp311-manylinux_2_27_x86_64.manylinux_2_28_x86_64.whl.metadata (4.5 kB)\n",
            "Collecting onnx>=1.2.1 (from skl2onnx)\n",
            "  Downloading onnx-1.18.0-cp311-cp311-manylinux_2_17_x86_64.manylinux2014_x86_64.whl.metadata (6.9 kB)\n",
            "Requirement already satisfied: scikit-learn>=1.1 in /usr/local/lib/python3.11/dist-packages (from skl2onnx) (1.6.1)\n",
            "Collecting onnxconverter-common>=1.7.0 (from skl2onnx)\n",
            "  Downloading onnxconverter_common-1.14.0-py2.py3-none-any.whl.metadata (4.2 kB)\n",
            "Collecting coloredlogs (from onnxruntime)\n",
            "  Downloading coloredlogs-15.0.1-py2.py3-none-any.whl.metadata (12 kB)\n",
            "Requirement already satisfied: flatbuffers in /usr/local/lib/python3.11/dist-packages (from onnxruntime) (25.2.10)\n",
            "Requirement already satisfied: numpy>=1.21.6 in /usr/local/lib/python3.11/dist-packages (from onnxruntime) (2.0.2)\n",
            "Requirement already satisfied: packaging in /usr/local/lib/python3.11/dist-packages (from onnxruntime) (24.2)\n",
            "Requirement already satisfied: protobuf in /usr/local/lib/python3.11/dist-packages (from onnxruntime) (5.29.4)\n",
            "Requirement already satisfied: sympy in /usr/local/lib/python3.11/dist-packages (from onnxruntime) (1.13.1)\n",
            "Requirement already satisfied: typing_extensions>=4.7.1 in /usr/local/lib/python3.11/dist-packages (from onnx>=1.2.1->skl2onnx) (4.13.2)\n",
            "INFO: pip is looking at multiple versions of onnxconverter-common to determine which version is compatible with other requirements. This could take a while.\n",
            "Collecting onnxconverter-common>=1.7.0 (from skl2onnx)\n",
            "  Downloading onnxconverter_common-1.13.0-py2.py3-none-any.whl.metadata (2.6 kB)\n",
            "Requirement already satisfied: scipy>=1.6.0 in /usr/local/lib/python3.11/dist-packages (from scikit-learn>=1.1->skl2onnx) (1.15.3)\n",
            "Requirement already satisfied: joblib>=1.2.0 in /usr/local/lib/python3.11/dist-packages (from scikit-learn>=1.1->skl2onnx) (1.5.0)\n",
            "Requirement already satisfied: threadpoolctl>=3.1.0 in /usr/local/lib/python3.11/dist-packages (from scikit-learn>=1.1->skl2onnx) (3.6.0)\n",
            "Collecting humanfriendly>=9.1 (from coloredlogs->onnxruntime)\n",
            "  Downloading humanfriendly-10.0-py2.py3-none-any.whl.metadata (9.2 kB)\n",
            "Requirement already satisfied: mpmath<1.4,>=1.1.0 in /usr/local/lib/python3.11/dist-packages (from sympy->onnxruntime) (1.3.0)\n",
            "Downloading skl2onnx-1.18.0-py2.py3-none-any.whl (300 kB)\n",
            "\u001b[2K   \u001b[90m━━━━━━━━━━━━━━━━━━━━━━━━━━━━━━━━━━━━━━━━\u001b[0m \u001b[32m300.3/300.3 kB\u001b[0m \u001b[31m12.5 MB/s\u001b[0m eta \u001b[36m0:00:00\u001b[0m\n",
            "\u001b[?25hDownloading onnxruntime-1.22.0-cp311-cp311-manylinux_2_27_x86_64.manylinux_2_28_x86_64.whl (16.4 MB)\n",
            "\u001b[2K   \u001b[90m━━━━━━━━━━━━━━━━━━━━━━━━━━━━━━━━━━━━━━━━\u001b[0m \u001b[32m16.4/16.4 MB\u001b[0m \u001b[31m110.7 MB/s\u001b[0m eta \u001b[36m0:00:00\u001b[0m\n",
            "\u001b[?25hDownloading onnx-1.18.0-cp311-cp311-manylinux_2_17_x86_64.manylinux2014_x86_64.whl (17.6 MB)\n",
            "\u001b[2K   \u001b[90m━━━━━━━━━━━━━━━━━━━━━━━━━━━━━━━━━━━━━━━━\u001b[0m \u001b[32m17.6/17.6 MB\u001b[0m \u001b[31m119.9 MB/s\u001b[0m eta \u001b[36m0:00:00\u001b[0m\n",
            "\u001b[?25hDownloading onnxconverter_common-1.13.0-py2.py3-none-any.whl (83 kB)\n",
            "\u001b[2K   \u001b[90m━━━━━━━━━━━━━━━━━━━━━━━━━━━━━━━━━━━━━━━━\u001b[0m \u001b[32m83.8/83.8 kB\u001b[0m \u001b[31m8.9 MB/s\u001b[0m eta \u001b[36m0:00:00\u001b[0m\n",
            "\u001b[?25hDownloading coloredlogs-15.0.1-py2.py3-none-any.whl (46 kB)\n",
            "\u001b[2K   \u001b[90m━━━━━━━━━━━━━━━━━━━━━━━━━━━━━━━━━━━━━━━━\u001b[0m \u001b[32m46.0/46.0 kB\u001b[0m \u001b[31m4.2 MB/s\u001b[0m eta \u001b[36m0:00:00\u001b[0m\n",
            "\u001b[?25hDownloading humanfriendly-10.0-py2.py3-none-any.whl (86 kB)\n",
            "\u001b[2K   \u001b[90m━━━━━━━━━━━━━━━━━━━━━━━━━━━━━━━━━━━━━━━━\u001b[0m \u001b[32m86.8/86.8 kB\u001b[0m \u001b[31m9.1 MB/s\u001b[0m eta \u001b[36m0:00:00\u001b[0m\n",
            "\u001b[?25hInstalling collected packages: onnx, humanfriendly, onnxconverter-common, coloredlogs, skl2onnx, onnxruntime\n",
            "Successfully installed coloredlogs-15.0.1 humanfriendly-10.0 onnx-1.18.0 onnxconverter-common-1.13.0 onnxruntime-1.22.0 skl2onnx-1.18.0\n"
          ]
        }
      ]
    },
    {
      "cell_type": "code",
      "source": [
        "pip uninstall onnx skl2onnx -y"
      ],
      "metadata": {
        "colab": {
          "base_uri": "https://localhost:8080/"
        },
        "id": "LWjbRR4idouz",
        "outputId": "0763a5c5-4a90-4877-8d7c-617a57c6f207"
      },
      "execution_count": 40,
      "outputs": [
        {
          "output_type": "stream",
          "name": "stdout",
          "text": [
            "Found existing installation: onnx 1.18.0\n",
            "Uninstalling onnx-1.18.0:\n",
            "  Successfully uninstalled onnx-1.18.0\n",
            "Found existing installation: skl2onnx 1.18.0\n",
            "Uninstalling skl2onnx-1.18.0:\n",
            "  Successfully uninstalled skl2onnx-1.18.0\n"
          ]
        }
      ]
    },
    {
      "cell_type": "code",
      "source": [
        "pip install onnx==1.14.1 skl2onnx==1.18.0"
      ],
      "metadata": {
        "colab": {
          "base_uri": "https://localhost:8080/"
        },
        "id": "I32_f57jdrJH",
        "outputId": "bba26eab-d171-4d91-bfad-4ed984407376"
      },
      "execution_count": 41,
      "outputs": [
        {
          "output_type": "stream",
          "name": "stdout",
          "text": [
            "Collecting onnx==1.14.1\n",
            "  Downloading onnx-1.14.1-cp311-cp311-manylinux_2_17_x86_64.manylinux2014_x86_64.whl.metadata (15 kB)\n",
            "Collecting skl2onnx==1.18.0\n",
            "  Using cached skl2onnx-1.18.0-py2.py3-none-any.whl.metadata (3.2 kB)\n",
            "Requirement already satisfied: numpy in /usr/local/lib/python3.11/dist-packages (from onnx==1.14.1) (2.0.2)\n",
            "Requirement already satisfied: protobuf>=3.20.2 in /usr/local/lib/python3.11/dist-packages (from onnx==1.14.1) (5.29.4)\n",
            "Requirement already satisfied: typing-extensions>=3.6.2.1 in /usr/local/lib/python3.11/dist-packages (from onnx==1.14.1) (4.13.2)\n",
            "Requirement already satisfied: scikit-learn>=1.1 in /usr/local/lib/python3.11/dist-packages (from skl2onnx==1.18.0) (1.6.1)\n",
            "Requirement already satisfied: onnxconverter-common>=1.7.0 in /usr/local/lib/python3.11/dist-packages (from skl2onnx==1.18.0) (1.13.0)\n",
            "Requirement already satisfied: packaging in /usr/local/lib/python3.11/dist-packages (from onnxconverter-common>=1.7.0->skl2onnx==1.18.0) (24.2)\n",
            "Requirement already satisfied: scipy>=1.6.0 in /usr/local/lib/python3.11/dist-packages (from scikit-learn>=1.1->skl2onnx==1.18.0) (1.15.3)\n",
            "Requirement already satisfied: joblib>=1.2.0 in /usr/local/lib/python3.11/dist-packages (from scikit-learn>=1.1->skl2onnx==1.18.0) (1.5.0)\n",
            "Requirement already satisfied: threadpoolctl>=3.1.0 in /usr/local/lib/python3.11/dist-packages (from scikit-learn>=1.1->skl2onnx==1.18.0) (3.6.0)\n",
            "Downloading onnx-1.14.1-cp311-cp311-manylinux_2_17_x86_64.manylinux2014_x86_64.whl (14.6 MB)\n",
            "\u001b[2K   \u001b[90m━━━━━━━━━━━━━━━━━━━━━━━━━━━━━━━━━━━━━━━━\u001b[0m \u001b[32m14.6/14.6 MB\u001b[0m \u001b[31m60.1 MB/s\u001b[0m eta \u001b[36m0:00:00\u001b[0m\n",
            "\u001b[?25hUsing cached skl2onnx-1.18.0-py2.py3-none-any.whl (300 kB)\n",
            "Installing collected packages: onnx, skl2onnx\n",
            "Successfully installed onnx-1.14.1 skl2onnx-1.18.0\n"
          ]
        }
      ]
    },
    {
      "cell_type": "code",
      "source": [
        "model_cpu = model.to('cpu')\n",
        "model_cpu.eval()\n",
        "\n",
        "# Dummy inputs on CPU too\n",
        "dummy_input_ids = torch.randint(0, tokenizer.vocab_size, (1, 128), dtype=torch.long)\n",
        "dummy_attention_mask = torch.ones((1, 128), dtype=torch.long)\n",
        "\n",
        "torch.onnx.export(\n",
        "    model_cpu,\n",
        "    (dummy_input_ids, dummy_attention_mask),\n",
        "    \"bangla_bert_finetuned.onnx\",\n",
        "    input_names=['input_ids', 'attention_mask'],\n",
        "    output_names=['output'],\n",
        "    dynamic_axes={\n",
        "        'input_ids': {0: 'batch_size', 1: 'sequence_length'},\n",
        "        'attention_mask': {0: 'batch_size', 1: 'sequence_length'},\n",
        "        'output': {0: 'batch_size'}\n",
        "    },\n",
        "    opset_version=14,\n",
        "    do_constant_folding=True\n",
        ")"
      ],
      "metadata": {
        "id": "53-pCiC4UxJj"
      },
      "execution_count": 44,
      "outputs": []
    }
  ],
  "metadata": {
    "colab": {
      "provenance": [],
      "gpuType": "T4"
    },
    "kernelspec": {
      "display_name": "Python 3",
      "name": "python3"
    },
    "language_info": {
      "name": "python"
    },
    "widgets": {
      "application/vnd.jupyter.widget-state+json": {
        "0a0a72d3a65a48798cfbf56926aa2214": {
          "model_module": "@jupyter-widgets/controls",
          "model_name": "HBoxModel",
          "model_module_version": "1.5.0",
          "state": {
            "_dom_classes": [],
            "_model_module": "@jupyter-widgets/controls",
            "_model_module_version": "1.5.0",
            "_model_name": "HBoxModel",
            "_view_count": null,
            "_view_module": "@jupyter-widgets/controls",
            "_view_module_version": "1.5.0",
            "_view_name": "HBoxView",
            "box_style": "",
            "children": [
              "IPY_MODEL_2f9dfacee1eb4b3393ba6b9027ac9cc4",
              "IPY_MODEL_e4b2f09e8d684c5c996616e96b27a3ff",
              "IPY_MODEL_626b5ab509884febadb67353f6471df3"
            ],
            "layout": "IPY_MODEL_a6c78fbf4e62424bac90b7e534ddefaf"
          }
        },
        "2f9dfacee1eb4b3393ba6b9027ac9cc4": {
          "model_module": "@jupyter-widgets/controls",
          "model_name": "HTMLModel",
          "model_module_version": "1.5.0",
          "state": {
            "_dom_classes": [],
            "_model_module": "@jupyter-widgets/controls",
            "_model_module_version": "1.5.0",
            "_model_name": "HTMLModel",
            "_view_count": null,
            "_view_module": "@jupyter-widgets/controls",
            "_view_module_version": "1.5.0",
            "_view_name": "HTMLView",
            "description": "",
            "description_tooltip": null,
            "layout": "IPY_MODEL_630b5acfbfa14d97ac158a3fe80bcb4c",
            "placeholder": "​",
            "style": "IPY_MODEL_9beb52d3848443729980140b012bd303",
            "value": "config.json: 100%"
          }
        },
        "e4b2f09e8d684c5c996616e96b27a3ff": {
          "model_module": "@jupyter-widgets/controls",
          "model_name": "FloatProgressModel",
          "model_module_version": "1.5.0",
          "state": {
            "_dom_classes": [],
            "_model_module": "@jupyter-widgets/controls",
            "_model_module_version": "1.5.0",
            "_model_name": "FloatProgressModel",
            "_view_count": null,
            "_view_module": "@jupyter-widgets/controls",
            "_view_module_version": "1.5.0",
            "_view_name": "ProgressView",
            "bar_style": "success",
            "description": "",
            "description_tooltip": null,
            "layout": "IPY_MODEL_983fff5f4dc94dd58aedebe096fae6f9",
            "max": 491,
            "min": 0,
            "orientation": "horizontal",
            "style": "IPY_MODEL_8c3500242d30409790ce064f66b8d623",
            "value": 491
          }
        },
        "626b5ab509884febadb67353f6471df3": {
          "model_module": "@jupyter-widgets/controls",
          "model_name": "HTMLModel",
          "model_module_version": "1.5.0",
          "state": {
            "_dom_classes": [],
            "_model_module": "@jupyter-widgets/controls",
            "_model_module_version": "1.5.0",
            "_model_name": "HTMLModel",
            "_view_count": null,
            "_view_module": "@jupyter-widgets/controls",
            "_view_module_version": "1.5.0",
            "_view_name": "HTMLView",
            "description": "",
            "description_tooltip": null,
            "layout": "IPY_MODEL_9827152534e041b09875a3a69f620966",
            "placeholder": "​",
            "style": "IPY_MODEL_c84efdf987ad482baf7cc2960ade41a0",
            "value": " 491/491 [00:00&lt;00:00, 47.0kB/s]"
          }
        },
        "a6c78fbf4e62424bac90b7e534ddefaf": {
          "model_module": "@jupyter-widgets/base",
          "model_name": "LayoutModel",
          "model_module_version": "1.2.0",
          "state": {
            "_model_module": "@jupyter-widgets/base",
            "_model_module_version": "1.2.0",
            "_model_name": "LayoutModel",
            "_view_count": null,
            "_view_module": "@jupyter-widgets/base",
            "_view_module_version": "1.2.0",
            "_view_name": "LayoutView",
            "align_content": null,
            "align_items": null,
            "align_self": null,
            "border": null,
            "bottom": null,
            "display": null,
            "flex": null,
            "flex_flow": null,
            "grid_area": null,
            "grid_auto_columns": null,
            "grid_auto_flow": null,
            "grid_auto_rows": null,
            "grid_column": null,
            "grid_gap": null,
            "grid_row": null,
            "grid_template_areas": null,
            "grid_template_columns": null,
            "grid_template_rows": null,
            "height": null,
            "justify_content": null,
            "justify_items": null,
            "left": null,
            "margin": null,
            "max_height": null,
            "max_width": null,
            "min_height": null,
            "min_width": null,
            "object_fit": null,
            "object_position": null,
            "order": null,
            "overflow": null,
            "overflow_x": null,
            "overflow_y": null,
            "padding": null,
            "right": null,
            "top": null,
            "visibility": null,
            "width": null
          }
        },
        "630b5acfbfa14d97ac158a3fe80bcb4c": {
          "model_module": "@jupyter-widgets/base",
          "model_name": "LayoutModel",
          "model_module_version": "1.2.0",
          "state": {
            "_model_module": "@jupyter-widgets/base",
            "_model_module_version": "1.2.0",
            "_model_name": "LayoutModel",
            "_view_count": null,
            "_view_module": "@jupyter-widgets/base",
            "_view_module_version": "1.2.0",
            "_view_name": "LayoutView",
            "align_content": null,
            "align_items": null,
            "align_self": null,
            "border": null,
            "bottom": null,
            "display": null,
            "flex": null,
            "flex_flow": null,
            "grid_area": null,
            "grid_auto_columns": null,
            "grid_auto_flow": null,
            "grid_auto_rows": null,
            "grid_column": null,
            "grid_gap": null,
            "grid_row": null,
            "grid_template_areas": null,
            "grid_template_columns": null,
            "grid_template_rows": null,
            "height": null,
            "justify_content": null,
            "justify_items": null,
            "left": null,
            "margin": null,
            "max_height": null,
            "max_width": null,
            "min_height": null,
            "min_width": null,
            "object_fit": null,
            "object_position": null,
            "order": null,
            "overflow": null,
            "overflow_x": null,
            "overflow_y": null,
            "padding": null,
            "right": null,
            "top": null,
            "visibility": null,
            "width": null
          }
        },
        "9beb52d3848443729980140b012bd303": {
          "model_module": "@jupyter-widgets/controls",
          "model_name": "DescriptionStyleModel",
          "model_module_version": "1.5.0",
          "state": {
            "_model_module": "@jupyter-widgets/controls",
            "_model_module_version": "1.5.0",
            "_model_name": "DescriptionStyleModel",
            "_view_count": null,
            "_view_module": "@jupyter-widgets/base",
            "_view_module_version": "1.2.0",
            "_view_name": "StyleView",
            "description_width": ""
          }
        },
        "983fff5f4dc94dd58aedebe096fae6f9": {
          "model_module": "@jupyter-widgets/base",
          "model_name": "LayoutModel",
          "model_module_version": "1.2.0",
          "state": {
            "_model_module": "@jupyter-widgets/base",
            "_model_module_version": "1.2.0",
            "_model_name": "LayoutModel",
            "_view_count": null,
            "_view_module": "@jupyter-widgets/base",
            "_view_module_version": "1.2.0",
            "_view_name": "LayoutView",
            "align_content": null,
            "align_items": null,
            "align_self": null,
            "border": null,
            "bottom": null,
            "display": null,
            "flex": null,
            "flex_flow": null,
            "grid_area": null,
            "grid_auto_columns": null,
            "grid_auto_flow": null,
            "grid_auto_rows": null,
            "grid_column": null,
            "grid_gap": null,
            "grid_row": null,
            "grid_template_areas": null,
            "grid_template_columns": null,
            "grid_template_rows": null,
            "height": null,
            "justify_content": null,
            "justify_items": null,
            "left": null,
            "margin": null,
            "max_height": null,
            "max_width": null,
            "min_height": null,
            "min_width": null,
            "object_fit": null,
            "object_position": null,
            "order": null,
            "overflow": null,
            "overflow_x": null,
            "overflow_y": null,
            "padding": null,
            "right": null,
            "top": null,
            "visibility": null,
            "width": null
          }
        },
        "8c3500242d30409790ce064f66b8d623": {
          "model_module": "@jupyter-widgets/controls",
          "model_name": "ProgressStyleModel",
          "model_module_version": "1.5.0",
          "state": {
            "_model_module": "@jupyter-widgets/controls",
            "_model_module_version": "1.5.0",
            "_model_name": "ProgressStyleModel",
            "_view_count": null,
            "_view_module": "@jupyter-widgets/base",
            "_view_module_version": "1.2.0",
            "_view_name": "StyleView",
            "bar_color": null,
            "description_width": ""
          }
        },
        "9827152534e041b09875a3a69f620966": {
          "model_module": "@jupyter-widgets/base",
          "model_name": "LayoutModel",
          "model_module_version": "1.2.0",
          "state": {
            "_model_module": "@jupyter-widgets/base",
            "_model_module_version": "1.2.0",
            "_model_name": "LayoutModel",
            "_view_count": null,
            "_view_module": "@jupyter-widgets/base",
            "_view_module_version": "1.2.0",
            "_view_name": "LayoutView",
            "align_content": null,
            "align_items": null,
            "align_self": null,
            "border": null,
            "bottom": null,
            "display": null,
            "flex": null,
            "flex_flow": null,
            "grid_area": null,
            "grid_auto_columns": null,
            "grid_auto_flow": null,
            "grid_auto_rows": null,
            "grid_column": null,
            "grid_gap": null,
            "grid_row": null,
            "grid_template_areas": null,
            "grid_template_columns": null,
            "grid_template_rows": null,
            "height": null,
            "justify_content": null,
            "justify_items": null,
            "left": null,
            "margin": null,
            "max_height": null,
            "max_width": null,
            "min_height": null,
            "min_width": null,
            "object_fit": null,
            "object_position": null,
            "order": null,
            "overflow": null,
            "overflow_x": null,
            "overflow_y": null,
            "padding": null,
            "right": null,
            "top": null,
            "visibility": null,
            "width": null
          }
        },
        "c84efdf987ad482baf7cc2960ade41a0": {
          "model_module": "@jupyter-widgets/controls",
          "model_name": "DescriptionStyleModel",
          "model_module_version": "1.5.0",
          "state": {
            "_model_module": "@jupyter-widgets/controls",
            "_model_module_version": "1.5.0",
            "_model_name": "DescriptionStyleModel",
            "_view_count": null,
            "_view_module": "@jupyter-widgets/base",
            "_view_module_version": "1.2.0",
            "_view_name": "StyleView",
            "description_width": ""
          }
        },
        "803a8132324340b7b8932b351987de2a": {
          "model_module": "@jupyter-widgets/controls",
          "model_name": "HBoxModel",
          "model_module_version": "1.5.0",
          "state": {
            "_dom_classes": [],
            "_model_module": "@jupyter-widgets/controls",
            "_model_module_version": "1.5.0",
            "_model_name": "HBoxModel",
            "_view_count": null,
            "_view_module": "@jupyter-widgets/controls",
            "_view_module_version": "1.5.0",
            "_view_name": "HBoxView",
            "box_style": "",
            "children": [
              "IPY_MODEL_f9b1e8f007f84de29f8288f7b2511f64",
              "IPY_MODEL_5c7c3c976317429eb73d835d4e6839a5",
              "IPY_MODEL_1b92c6b281f045c784cfba2ca4370870"
            ],
            "layout": "IPY_MODEL_fabf2920dea5443ea5677cc5321917bb"
          }
        },
        "f9b1e8f007f84de29f8288f7b2511f64": {
          "model_module": "@jupyter-widgets/controls",
          "model_name": "HTMLModel",
          "model_module_version": "1.5.0",
          "state": {
            "_dom_classes": [],
            "_model_module": "@jupyter-widgets/controls",
            "_model_module_version": "1.5.0",
            "_model_name": "HTMLModel",
            "_view_count": null,
            "_view_module": "@jupyter-widgets/controls",
            "_view_module_version": "1.5.0",
            "_view_name": "HTMLView",
            "description": "",
            "description_tooltip": null,
            "layout": "IPY_MODEL_8536a1cbafd6496bb00a5e075b1adb65",
            "placeholder": "​",
            "style": "IPY_MODEL_6e47f07afe534cc9ac10b5d1fdaf2ac3",
            "value": "vocab.txt: 100%"
          }
        },
        "5c7c3c976317429eb73d835d4e6839a5": {
          "model_module": "@jupyter-widgets/controls",
          "model_name": "FloatProgressModel",
          "model_module_version": "1.5.0",
          "state": {
            "_dom_classes": [],
            "_model_module": "@jupyter-widgets/controls",
            "_model_module_version": "1.5.0",
            "_model_name": "FloatProgressModel",
            "_view_count": null,
            "_view_module": "@jupyter-widgets/controls",
            "_view_module_version": "1.5.0",
            "_view_name": "ProgressView",
            "bar_style": "success",
            "description": "",
            "description_tooltip": null,
            "layout": "IPY_MODEL_cc4e73b38eda46a597cb6d63a1910e13",
            "max": 2237676,
            "min": 0,
            "orientation": "horizontal",
            "style": "IPY_MODEL_7d4293a5f86e41df93b66b1b73b5ebfb",
            "value": 2237676
          }
        },
        "1b92c6b281f045c784cfba2ca4370870": {
          "model_module": "@jupyter-widgets/controls",
          "model_name": "HTMLModel",
          "model_module_version": "1.5.0",
          "state": {
            "_dom_classes": [],
            "_model_module": "@jupyter-widgets/controls",
            "_model_module_version": "1.5.0",
            "_model_name": "HTMLModel",
            "_view_count": null,
            "_view_module": "@jupyter-widgets/controls",
            "_view_module_version": "1.5.0",
            "_view_name": "HTMLView",
            "description": "",
            "description_tooltip": null,
            "layout": "IPY_MODEL_28f710860b4d4883b84c449ffc43cc35",
            "placeholder": "​",
            "style": "IPY_MODEL_812190c429dd4b399e2186a44861f55b",
            "value": " 2.24M/2.24M [00:00&lt;00:00, 21.6MB/s]"
          }
        },
        "fabf2920dea5443ea5677cc5321917bb": {
          "model_module": "@jupyter-widgets/base",
          "model_name": "LayoutModel",
          "model_module_version": "1.2.0",
          "state": {
            "_model_module": "@jupyter-widgets/base",
            "_model_module_version": "1.2.0",
            "_model_name": "LayoutModel",
            "_view_count": null,
            "_view_module": "@jupyter-widgets/base",
            "_view_module_version": "1.2.0",
            "_view_name": "LayoutView",
            "align_content": null,
            "align_items": null,
            "align_self": null,
            "border": null,
            "bottom": null,
            "display": null,
            "flex": null,
            "flex_flow": null,
            "grid_area": null,
            "grid_auto_columns": null,
            "grid_auto_flow": null,
            "grid_auto_rows": null,
            "grid_column": null,
            "grid_gap": null,
            "grid_row": null,
            "grid_template_areas": null,
            "grid_template_columns": null,
            "grid_template_rows": null,
            "height": null,
            "justify_content": null,
            "justify_items": null,
            "left": null,
            "margin": null,
            "max_height": null,
            "max_width": null,
            "min_height": null,
            "min_width": null,
            "object_fit": null,
            "object_position": null,
            "order": null,
            "overflow": null,
            "overflow_x": null,
            "overflow_y": null,
            "padding": null,
            "right": null,
            "top": null,
            "visibility": null,
            "width": null
          }
        },
        "8536a1cbafd6496bb00a5e075b1adb65": {
          "model_module": "@jupyter-widgets/base",
          "model_name": "LayoutModel",
          "model_module_version": "1.2.0",
          "state": {
            "_model_module": "@jupyter-widgets/base",
            "_model_module_version": "1.2.0",
            "_model_name": "LayoutModel",
            "_view_count": null,
            "_view_module": "@jupyter-widgets/base",
            "_view_module_version": "1.2.0",
            "_view_name": "LayoutView",
            "align_content": null,
            "align_items": null,
            "align_self": null,
            "border": null,
            "bottom": null,
            "display": null,
            "flex": null,
            "flex_flow": null,
            "grid_area": null,
            "grid_auto_columns": null,
            "grid_auto_flow": null,
            "grid_auto_rows": null,
            "grid_column": null,
            "grid_gap": null,
            "grid_row": null,
            "grid_template_areas": null,
            "grid_template_columns": null,
            "grid_template_rows": null,
            "height": null,
            "justify_content": null,
            "justify_items": null,
            "left": null,
            "margin": null,
            "max_height": null,
            "max_width": null,
            "min_height": null,
            "min_width": null,
            "object_fit": null,
            "object_position": null,
            "order": null,
            "overflow": null,
            "overflow_x": null,
            "overflow_y": null,
            "padding": null,
            "right": null,
            "top": null,
            "visibility": null,
            "width": null
          }
        },
        "6e47f07afe534cc9ac10b5d1fdaf2ac3": {
          "model_module": "@jupyter-widgets/controls",
          "model_name": "DescriptionStyleModel",
          "model_module_version": "1.5.0",
          "state": {
            "_model_module": "@jupyter-widgets/controls",
            "_model_module_version": "1.5.0",
            "_model_name": "DescriptionStyleModel",
            "_view_count": null,
            "_view_module": "@jupyter-widgets/base",
            "_view_module_version": "1.2.0",
            "_view_name": "StyleView",
            "description_width": ""
          }
        },
        "cc4e73b38eda46a597cb6d63a1910e13": {
          "model_module": "@jupyter-widgets/base",
          "model_name": "LayoutModel",
          "model_module_version": "1.2.0",
          "state": {
            "_model_module": "@jupyter-widgets/base",
            "_model_module_version": "1.2.0",
            "_model_name": "LayoutModel",
            "_view_count": null,
            "_view_module": "@jupyter-widgets/base",
            "_view_module_version": "1.2.0",
            "_view_name": "LayoutView",
            "align_content": null,
            "align_items": null,
            "align_self": null,
            "border": null,
            "bottom": null,
            "display": null,
            "flex": null,
            "flex_flow": null,
            "grid_area": null,
            "grid_auto_columns": null,
            "grid_auto_flow": null,
            "grid_auto_rows": null,
            "grid_column": null,
            "grid_gap": null,
            "grid_row": null,
            "grid_template_areas": null,
            "grid_template_columns": null,
            "grid_template_rows": null,
            "height": null,
            "justify_content": null,
            "justify_items": null,
            "left": null,
            "margin": null,
            "max_height": null,
            "max_width": null,
            "min_height": null,
            "min_width": null,
            "object_fit": null,
            "object_position": null,
            "order": null,
            "overflow": null,
            "overflow_x": null,
            "overflow_y": null,
            "padding": null,
            "right": null,
            "top": null,
            "visibility": null,
            "width": null
          }
        },
        "7d4293a5f86e41df93b66b1b73b5ebfb": {
          "model_module": "@jupyter-widgets/controls",
          "model_name": "ProgressStyleModel",
          "model_module_version": "1.5.0",
          "state": {
            "_model_module": "@jupyter-widgets/controls",
            "_model_module_version": "1.5.0",
            "_model_name": "ProgressStyleModel",
            "_view_count": null,
            "_view_module": "@jupyter-widgets/base",
            "_view_module_version": "1.2.0",
            "_view_name": "StyleView",
            "bar_color": null,
            "description_width": ""
          }
        },
        "28f710860b4d4883b84c449ffc43cc35": {
          "model_module": "@jupyter-widgets/base",
          "model_name": "LayoutModel",
          "model_module_version": "1.2.0",
          "state": {
            "_model_module": "@jupyter-widgets/base",
            "_model_module_version": "1.2.0",
            "_model_name": "LayoutModel",
            "_view_count": null,
            "_view_module": "@jupyter-widgets/base",
            "_view_module_version": "1.2.0",
            "_view_name": "LayoutView",
            "align_content": null,
            "align_items": null,
            "align_self": null,
            "border": null,
            "bottom": null,
            "display": null,
            "flex": null,
            "flex_flow": null,
            "grid_area": null,
            "grid_auto_columns": null,
            "grid_auto_flow": null,
            "grid_auto_rows": null,
            "grid_column": null,
            "grid_gap": null,
            "grid_row": null,
            "grid_template_areas": null,
            "grid_template_columns": null,
            "grid_template_rows": null,
            "height": null,
            "justify_content": null,
            "justify_items": null,
            "left": null,
            "margin": null,
            "max_height": null,
            "max_width": null,
            "min_height": null,
            "min_width": null,
            "object_fit": null,
            "object_position": null,
            "order": null,
            "overflow": null,
            "overflow_x": null,
            "overflow_y": null,
            "padding": null,
            "right": null,
            "top": null,
            "visibility": null,
            "width": null
          }
        },
        "812190c429dd4b399e2186a44861f55b": {
          "model_module": "@jupyter-widgets/controls",
          "model_name": "DescriptionStyleModel",
          "model_module_version": "1.5.0",
          "state": {
            "_model_module": "@jupyter-widgets/controls",
            "_model_module_version": "1.5.0",
            "_model_name": "DescriptionStyleModel",
            "_view_count": null,
            "_view_module": "@jupyter-widgets/base",
            "_view_module_version": "1.2.0",
            "_view_name": "StyleView",
            "description_width": ""
          }
        }
      }
    },
    "accelerator": "GPU"
  },
  "nbformat": 4,
  "nbformat_minor": 0
}