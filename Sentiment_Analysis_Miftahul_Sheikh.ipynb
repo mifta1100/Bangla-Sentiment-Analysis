{
  "cells": [
    {
      "cell_type": "markdown",
      "source": [
        "# **Essentials Libraries**"
      ],
      "metadata": {
        "id": "DR5eo9ow7KJW"
      }
    },
    {
      "cell_type": "markdown",
      "source": [
        "**Importing necessary libraries**\n",
        "*  **pandas:** Manipulate and analyze data tables.\n",
        "*  **re (regular expressions):** Search and manipulate strings using patterns.\n",
        "*  **unicodedata:** Normalize and process Unicode text.\n",
        "*  **transformers (AutoTokenizer):** Tokenize text using pre-trained NLP models.\n",
        "*  **imblearn.over_sampling (SMOTE):** Balance dataset by creating synthetic samples of the minority class.\n",
        "*  **imblearn.under_sampling (RandomUnderSampler):** Reduce majority class to balance dataset.\n",
        "*  **sklearn.model_selection (train_test_split):** Split dataset into training and testing sets.\n",
        "*  **sklearn.feature_extraction.text (TfidfVectorizer):** Convert text to numerical features using TF-IDF.\n",
        "*  **sklearn.linear_model (LogisticRegression):** Train a classification model using logistic regression.\n",
        "*  **sklearn.metrics:** Evaluate model performance (accuracy, precision, recall, F1, confusion matrix, report).\n",
        "*  **random:** Perform random operations like shuffling and sampling.\n",
        "*  **matplotlib.pyplot:** Create visualizations and plots.\n",
        "*  **seaborn:** Enhanced statistical data visualization based on matplotlib.\n",
        "*  **joblib:** Save and load Python objects efficiently\n"
      ],
      "metadata": {
        "id": "VSt7NfQB_9K9"
      }
    },
    {
      "cell_type": "code",
      "source": [
        "import pandas as pd\n",
        "import re\n",
        "import unicodedata\n",
        "from transformers import AutoTokenizer\n",
        "from imblearn.over_sampling import SMOTE\n",
        "from sklearn.model_selection import train_test_split\n",
        "from sklearn.feature_extraction.text import TfidfVectorizer\n",
        "from imblearn.under_sampling import RandomUnderSampler\n",
        "from sklearn.linear_model import LogisticRegression\n",
        "from sklearn.metrics import accuracy_score, precision_score, recall_score, f1_score, confusion_matrix, classification_report\n",
        "import random\n",
        "import matplotlib.pyplot as plt\n",
        "import seaborn as sns\n",
        "from joblib import dump"
      ],
      "metadata": {
        "id": "ZoGEFz5A7OzA"
      },
      "execution_count": 1,
      "outputs": []
    },
    {
      "cell_type": "markdown",
      "metadata": {
        "id": "r-ZAV3-MqyVI"
      },
      "source": [
        "# **Mount from Drive**"
      ]
    },
    {
      "cell_type": "code",
      "execution_count": 2,
      "metadata": {
        "colab": {
          "base_uri": "https://localhost:8080/"
        },
        "id": "G1op7bFvm-8l",
        "outputId": "14aec05a-ee71-44a0-8905-59424ce42b9b"
      },
      "outputs": [
        {
          "output_type": "stream",
          "name": "stdout",
          "text": [
            "Mounted at /content/drive\n"
          ]
        }
      ],
      "source": [
        "from google.colab import drive\n",
        "drive.mount('/content/drive')"
      ]
    },
    {
      "cell_type": "markdown",
      "metadata": {
        "id": "uTvnV-0Kq4q8"
      },
      "source": [
        "# **Load the Dataset**"
      ]
    },
    {
      "cell_type": "code",
      "execution_count": 3,
      "metadata": {
        "colab": {
          "base_uri": "https://localhost:8080/",
          "height": 388
        },
        "id": "oJGhEBZgnDVk",
        "outputId": "fcd34bdf-b9e8-4fb9-b210-6a4aa82c8214"
      },
      "outputs": [
        {
          "output_type": "stream",
          "name": "stdout",
          "text": [
            "First few rows of the dataset:\n"
          ]
        },
        {
          "output_type": "execute_result",
          "data": {
            "text/plain": [
              "                                             comment    Category  Gender  \\\n",
              "0  ওই হালার পুত এখন কি মদ খাওয়ার সময় রাতের বেলা...       Actor  Female   \n",
              "1  ঘরে বসে শুট করতে কেমন লেগেছে? ক্যামেরাতে কে ছি...      Singer    Male   \n",
              "2                       অরে বাবা, এই টা কোন পাগল????       Actor  Female   \n",
              "3                              ক্যাপ্টেন অফ বাংলাদেশ      Sports    Male   \n",
              "4                                           পটকা মাছ  Politician    Male   \n",
              "5                         অন্যরকম .. ভালো লাগলো ..❤️      Singer    Male   \n",
              "6  সাংবাদিক ভাইদের বলছি এই সংবাদ গুলি প্রচার না ক...       Actor  Female   \n",
              "7  মোহাম্মদ কফিল উদ্দীন মাহমুদRidwan RomelDwaipay...       Actor  Female   \n",
              "8  ঢাকায় এত ঘনো ঘনো আগুন লাগার মূল কারন টা এতদিনে...       Actor  Female   \n",
              "9      হিরো আলম তুমি এগিয়ে চলো, আমরা আছি তোমার সাথে।      Social    Male   \n",
              "\n",
              "   comment react number      label  \n",
              "0                   1.0     sexual  \n",
              "1                   2.0  not bully  \n",
              "2                   2.0  not bully  \n",
              "3                   0.0  not bully  \n",
              "4                   0.0      troll  \n",
              "5                   1.0  not bully  \n",
              "6                   9.0      troll  \n",
              "7                   0.0  not bully  \n",
              "8                   4.0  religious  \n",
              "9                   0.0  not bully  "
            ],
            "text/html": [
              "\n",
              "  <div id=\"df-c9c78003-21c1-4613-b4a4-b8bb82cb0205\" class=\"colab-df-container\">\n",
              "    <div>\n",
              "<style scoped>\n",
              "    .dataframe tbody tr th:only-of-type {\n",
              "        vertical-align: middle;\n",
              "    }\n",
              "\n",
              "    .dataframe tbody tr th {\n",
              "        vertical-align: top;\n",
              "    }\n",
              "\n",
              "    .dataframe thead th {\n",
              "        text-align: right;\n",
              "    }\n",
              "</style>\n",
              "<table border=\"1\" class=\"dataframe\">\n",
              "  <thead>\n",
              "    <tr style=\"text-align: right;\">\n",
              "      <th></th>\n",
              "      <th>comment</th>\n",
              "      <th>Category</th>\n",
              "      <th>Gender</th>\n",
              "      <th>comment react number</th>\n",
              "      <th>label</th>\n",
              "    </tr>\n",
              "  </thead>\n",
              "  <tbody>\n",
              "    <tr>\n",
              "      <th>0</th>\n",
              "      <td>ওই হালার পুত এখন কি মদ খাওয়ার সময় রাতের বেলা...</td>\n",
              "      <td>Actor</td>\n",
              "      <td>Female</td>\n",
              "      <td>1.0</td>\n",
              "      <td>sexual</td>\n",
              "    </tr>\n",
              "    <tr>\n",
              "      <th>1</th>\n",
              "      <td>ঘরে বসে শুট করতে কেমন লেগেছে? ক্যামেরাতে কে ছি...</td>\n",
              "      <td>Singer</td>\n",
              "      <td>Male</td>\n",
              "      <td>2.0</td>\n",
              "      <td>not bully</td>\n",
              "    </tr>\n",
              "    <tr>\n",
              "      <th>2</th>\n",
              "      <td>অরে বাবা, এই টা কোন পাগল????</td>\n",
              "      <td>Actor</td>\n",
              "      <td>Female</td>\n",
              "      <td>2.0</td>\n",
              "      <td>not bully</td>\n",
              "    </tr>\n",
              "    <tr>\n",
              "      <th>3</th>\n",
              "      <td>ক্যাপ্টেন অফ বাংলাদেশ</td>\n",
              "      <td>Sports</td>\n",
              "      <td>Male</td>\n",
              "      <td>0.0</td>\n",
              "      <td>not bully</td>\n",
              "    </tr>\n",
              "    <tr>\n",
              "      <th>4</th>\n",
              "      <td>পটকা মাছ</td>\n",
              "      <td>Politician</td>\n",
              "      <td>Male</td>\n",
              "      <td>0.0</td>\n",
              "      <td>troll</td>\n",
              "    </tr>\n",
              "    <tr>\n",
              "      <th>5</th>\n",
              "      <td>অন্যরকম .. ভালো লাগলো ..❤️</td>\n",
              "      <td>Singer</td>\n",
              "      <td>Male</td>\n",
              "      <td>1.0</td>\n",
              "      <td>not bully</td>\n",
              "    </tr>\n",
              "    <tr>\n",
              "      <th>6</th>\n",
              "      <td>সাংবাদিক ভাইদের বলছি এই সংবাদ গুলি প্রচার না ক...</td>\n",
              "      <td>Actor</td>\n",
              "      <td>Female</td>\n",
              "      <td>9.0</td>\n",
              "      <td>troll</td>\n",
              "    </tr>\n",
              "    <tr>\n",
              "      <th>7</th>\n",
              "      <td>মোহাম্মদ কফিল উদ্দীন মাহমুদRidwan RomelDwaipay...</td>\n",
              "      <td>Actor</td>\n",
              "      <td>Female</td>\n",
              "      <td>0.0</td>\n",
              "      <td>not bully</td>\n",
              "    </tr>\n",
              "    <tr>\n",
              "      <th>8</th>\n",
              "      <td>ঢাকায় এত ঘনো ঘনো আগুন লাগার মূল কারন টা এতদিনে...</td>\n",
              "      <td>Actor</td>\n",
              "      <td>Female</td>\n",
              "      <td>4.0</td>\n",
              "      <td>religious</td>\n",
              "    </tr>\n",
              "    <tr>\n",
              "      <th>9</th>\n",
              "      <td>হিরো আলম তুমি এগিয়ে চলো, আমরা আছি তোমার সাথে।</td>\n",
              "      <td>Social</td>\n",
              "      <td>Male</td>\n",
              "      <td>0.0</td>\n",
              "      <td>not bully</td>\n",
              "    </tr>\n",
              "  </tbody>\n",
              "</table>\n",
              "</div>\n",
              "    <div class=\"colab-df-buttons\">\n",
              "\n",
              "  <div class=\"colab-df-container\">\n",
              "    <button class=\"colab-df-convert\" onclick=\"convertToInteractive('df-c9c78003-21c1-4613-b4a4-b8bb82cb0205')\"\n",
              "            title=\"Convert this dataframe to an interactive table.\"\n",
              "            style=\"display:none;\">\n",
              "\n",
              "  <svg xmlns=\"http://www.w3.org/2000/svg\" height=\"24px\" viewBox=\"0 -960 960 960\">\n",
              "    <path d=\"M120-120v-720h720v720H120Zm60-500h600v-160H180v160Zm220 220h160v-160H400v160Zm0 220h160v-160H400v160ZM180-400h160v-160H180v160Zm440 0h160v-160H620v160ZM180-180h160v-160H180v160Zm440 0h160v-160H620v160Z\"/>\n",
              "  </svg>\n",
              "    </button>\n",
              "\n",
              "  <style>\n",
              "    .colab-df-container {\n",
              "      display:flex;\n",
              "      gap: 12px;\n",
              "    }\n",
              "\n",
              "    .colab-df-convert {\n",
              "      background-color: #E8F0FE;\n",
              "      border: none;\n",
              "      border-radius: 50%;\n",
              "      cursor: pointer;\n",
              "      display: none;\n",
              "      fill: #1967D2;\n",
              "      height: 32px;\n",
              "      padding: 0 0 0 0;\n",
              "      width: 32px;\n",
              "    }\n",
              "\n",
              "    .colab-df-convert:hover {\n",
              "      background-color: #E2EBFA;\n",
              "      box-shadow: 0px 1px 2px rgba(60, 64, 67, 0.3), 0px 1px 3px 1px rgba(60, 64, 67, 0.15);\n",
              "      fill: #174EA6;\n",
              "    }\n",
              "\n",
              "    .colab-df-buttons div {\n",
              "      margin-bottom: 4px;\n",
              "    }\n",
              "\n",
              "    [theme=dark] .colab-df-convert {\n",
              "      background-color: #3B4455;\n",
              "      fill: #D2E3FC;\n",
              "    }\n",
              "\n",
              "    [theme=dark] .colab-df-convert:hover {\n",
              "      background-color: #434B5C;\n",
              "      box-shadow: 0px 1px 3px 1px rgba(0, 0, 0, 0.15);\n",
              "      filter: drop-shadow(0px 1px 2px rgba(0, 0, 0, 0.3));\n",
              "      fill: #FFFFFF;\n",
              "    }\n",
              "  </style>\n",
              "\n",
              "    <script>\n",
              "      const buttonEl =\n",
              "        document.querySelector('#df-c9c78003-21c1-4613-b4a4-b8bb82cb0205 button.colab-df-convert');\n",
              "      buttonEl.style.display =\n",
              "        google.colab.kernel.accessAllowed ? 'block' : 'none';\n",
              "\n",
              "      async function convertToInteractive(key) {\n",
              "        const element = document.querySelector('#df-c9c78003-21c1-4613-b4a4-b8bb82cb0205');\n",
              "        const dataTable =\n",
              "          await google.colab.kernel.invokeFunction('convertToInteractive',\n",
              "                                                    [key], {});\n",
              "        if (!dataTable) return;\n",
              "\n",
              "        const docLinkHtml = 'Like what you see? Visit the ' +\n",
              "          '<a target=\"_blank\" href=https://colab.research.google.com/notebooks/data_table.ipynb>data table notebook</a>'\n",
              "          + ' to learn more about interactive tables.';\n",
              "        element.innerHTML = '';\n",
              "        dataTable['output_type'] = 'display_data';\n",
              "        await google.colab.output.renderOutput(dataTable, element);\n",
              "        const docLink = document.createElement('div');\n",
              "        docLink.innerHTML = docLinkHtml;\n",
              "        element.appendChild(docLink);\n",
              "      }\n",
              "    </script>\n",
              "  </div>\n",
              "\n",
              "\n",
              "    <div id=\"df-566021ec-8c23-42dc-82cf-3cae0d71e4e7\">\n",
              "      <button class=\"colab-df-quickchart\" onclick=\"quickchart('df-566021ec-8c23-42dc-82cf-3cae0d71e4e7')\"\n",
              "                title=\"Suggest charts\"\n",
              "                style=\"display:none;\">\n",
              "\n",
              "<svg xmlns=\"http://www.w3.org/2000/svg\" height=\"24px\"viewBox=\"0 0 24 24\"\n",
              "     width=\"24px\">\n",
              "    <g>\n",
              "        <path d=\"M19 3H5c-1.1 0-2 .9-2 2v14c0 1.1.9 2 2 2h14c1.1 0 2-.9 2-2V5c0-1.1-.9-2-2-2zM9 17H7v-7h2v7zm4 0h-2V7h2v10zm4 0h-2v-4h2v4z\"/>\n",
              "    </g>\n",
              "</svg>\n",
              "      </button>\n",
              "\n",
              "<style>\n",
              "  .colab-df-quickchart {\n",
              "      --bg-color: #E8F0FE;\n",
              "      --fill-color: #1967D2;\n",
              "      --hover-bg-color: #E2EBFA;\n",
              "      --hover-fill-color: #174EA6;\n",
              "      --disabled-fill-color: #AAA;\n",
              "      --disabled-bg-color: #DDD;\n",
              "  }\n",
              "\n",
              "  [theme=dark] .colab-df-quickchart {\n",
              "      --bg-color: #3B4455;\n",
              "      --fill-color: #D2E3FC;\n",
              "      --hover-bg-color: #434B5C;\n",
              "      --hover-fill-color: #FFFFFF;\n",
              "      --disabled-bg-color: #3B4455;\n",
              "      --disabled-fill-color: #666;\n",
              "  }\n",
              "\n",
              "  .colab-df-quickchart {\n",
              "    background-color: var(--bg-color);\n",
              "    border: none;\n",
              "    border-radius: 50%;\n",
              "    cursor: pointer;\n",
              "    display: none;\n",
              "    fill: var(--fill-color);\n",
              "    height: 32px;\n",
              "    padding: 0;\n",
              "    width: 32px;\n",
              "  }\n",
              "\n",
              "  .colab-df-quickchart:hover {\n",
              "    background-color: var(--hover-bg-color);\n",
              "    box-shadow: 0 1px 2px rgba(60, 64, 67, 0.3), 0 1px 3px 1px rgba(60, 64, 67, 0.15);\n",
              "    fill: var(--button-hover-fill-color);\n",
              "  }\n",
              "\n",
              "  .colab-df-quickchart-complete:disabled,\n",
              "  .colab-df-quickchart-complete:disabled:hover {\n",
              "    background-color: var(--disabled-bg-color);\n",
              "    fill: var(--disabled-fill-color);\n",
              "    box-shadow: none;\n",
              "  }\n",
              "\n",
              "  .colab-df-spinner {\n",
              "    border: 2px solid var(--fill-color);\n",
              "    border-color: transparent;\n",
              "    border-bottom-color: var(--fill-color);\n",
              "    animation:\n",
              "      spin 1s steps(1) infinite;\n",
              "  }\n",
              "\n",
              "  @keyframes spin {\n",
              "    0% {\n",
              "      border-color: transparent;\n",
              "      border-bottom-color: var(--fill-color);\n",
              "      border-left-color: var(--fill-color);\n",
              "    }\n",
              "    20% {\n",
              "      border-color: transparent;\n",
              "      border-left-color: var(--fill-color);\n",
              "      border-top-color: var(--fill-color);\n",
              "    }\n",
              "    30% {\n",
              "      border-color: transparent;\n",
              "      border-left-color: var(--fill-color);\n",
              "      border-top-color: var(--fill-color);\n",
              "      border-right-color: var(--fill-color);\n",
              "    }\n",
              "    40% {\n",
              "      border-color: transparent;\n",
              "      border-right-color: var(--fill-color);\n",
              "      border-top-color: var(--fill-color);\n",
              "    }\n",
              "    60% {\n",
              "      border-color: transparent;\n",
              "      border-right-color: var(--fill-color);\n",
              "    }\n",
              "    80% {\n",
              "      border-color: transparent;\n",
              "      border-right-color: var(--fill-color);\n",
              "      border-bottom-color: var(--fill-color);\n",
              "    }\n",
              "    90% {\n",
              "      border-color: transparent;\n",
              "      border-bottom-color: var(--fill-color);\n",
              "    }\n",
              "  }\n",
              "</style>\n",
              "\n",
              "      <script>\n",
              "        async function quickchart(key) {\n",
              "          const quickchartButtonEl =\n",
              "            document.querySelector('#' + key + ' button');\n",
              "          quickchartButtonEl.disabled = true;  // To prevent multiple clicks.\n",
              "          quickchartButtonEl.classList.add('colab-df-spinner');\n",
              "          try {\n",
              "            const charts = await google.colab.kernel.invokeFunction(\n",
              "                'suggestCharts', [key], {});\n",
              "          } catch (error) {\n",
              "            console.error('Error during call to suggestCharts:', error);\n",
              "          }\n",
              "          quickchartButtonEl.classList.remove('colab-df-spinner');\n",
              "          quickchartButtonEl.classList.add('colab-df-quickchart-complete');\n",
              "        }\n",
              "        (() => {\n",
              "          let quickchartButtonEl =\n",
              "            document.querySelector('#df-566021ec-8c23-42dc-82cf-3cae0d71e4e7 button');\n",
              "          quickchartButtonEl.style.display =\n",
              "            google.colab.kernel.accessAllowed ? 'block' : 'none';\n",
              "        })();\n",
              "      </script>\n",
              "    </div>\n",
              "\n",
              "    </div>\n",
              "  </div>\n"
            ],
            "application/vnd.google.colaboratory.intrinsic+json": {
              "type": "dataframe",
              "variable_name": "df",
              "summary": "{\n  \"name\": \"df\",\n  \"rows\": 44001,\n  \"fields\": [\n    {\n      \"column\": \"comment\",\n      \"properties\": {\n        \"dtype\": \"string\",\n        \"num_unique_values\": 43567,\n        \"samples\": [\n          \"\\u09a4\\u09c7\\u09be\\u09b0 \\u09ac\\u09be\\u09aa \\u09af\\u09c7 \\u09a4\\u09c7\\u09be\\u09b0\\u09c7 \\u099c\\u09a8\\u09cd\\u09ae \\u09a6\\u09bf\\u099b\\u09c7 \\u09b8\\u09c7\\u099f\\u09be \\u0995\\u09bf \\u09a4\\u09c1\\u0987 \\u09a6\\u09c7\\u0996\\u099b\\u09c7\\u09be\\u09b8.......\\u09b8\\u09c7\\u09b9\\u09c7\\u09a4\\u09c1 \\u09a4\\u09c1\\u0987 \\u09a6\\u09c7\\u0996\\u09c7\\u09be\\u09b8 \\u09a8\\u09be\\u0987 ...\\u09a4\\u09be\\u09b9\\u09b2\\u09c7 \\u09a4\\u09c7\\u09be\\u09b0 \\u098f\\u0987 \\u09ac\\u09be\\u09aa \\u09a4\\u09c7\\u09be\\u09b0 \\u0986\\u09b8\\u09b2 \\u09ac\\u09be\\u09aa \\u09a8\\u09be....\\u09a4\\u09be\\u0987 \\u098f\\u09b0 \\u09ae\\u09be\\u09a8\\u09c7 \\u09a6\\u09be\\u09dc\\u09be\\u09b2\\u09cb \\u09a4\\u09c1\\u0987 \\u099c\\u09be\\u09b0\\u099c \\u09b8\\u09a8\\u09cd\\u09a4\\u09be\\u09a8....\\u09a4\\u09c7\\u09be\\u09b0 \\u099c\\u09a8\\u09cd\\u09ae \\u0995\\u09a8\\u09a1\\u09ae \\u09b0\\u09cd\\u09a6\\u09c2\\u0998\\u099f\\u09a8\\u09be\\u09df....\",\n          \"\\u098f\\u09b8\\u09ac \\u0995\\u09c1\\u09b2\\u09be\\u0999\\u09cd\\u0997\\u09be\\u09b0\\u09a6\\u09c7\\u09b0 \\u099c\\u09a8\\u09cd\\u09af\\u0987 \\u0986\\u099c\\u0995\\u09be\\u09b2 \\u09af\\u09a4 \\u09a6\\u09c1\\u09b0\\u09cd\\u09af\\u09cb\\u0997 \\u0986\\u09b0 \\u09a6\\u09c1\\u09b0\\u09cd\\u09ad\\u09cb\\u0997\",\n          \"\\u0986\\u09b2\\u09cd\\u09b2\\u09be\\u09b9 \\u09ac\\u09b2\\u09c7 \\u09a6\\u09bf\\u09df\\u09c7\\u099b\\u09c7\\u09a8,, \\u0986\\u09b0\\u09ac \\u099c\\u09be\\u09a4\\u09bf \\u098f\\u0995\\u09a6\\u09bf\\u09a8 \\u0985\\u09a8\\u09c7\\u0995 \\u09ac\\u09dc\\u09b2\\u09cb\\u0995 \\u09b9\\u09ac\\u09c7, \\u09a4\\u09be\\u09b0\\u09be \\u099c\\u09c0\\u09a8\\u09be \\u09ac\\u09cd\\u09af\\u09be\\u09ad\\u09bf\\u099a\\u09be\\u09b0\\u09c7 \\u09b2\\u09bf\\u09aa\\u09cd\\u09a4 \\u09b9\\u09ac\\u09c7, \\u0986\\u0995\\u09be\\u09b6\\u099a\\u09c1\\u09ae\\u09cd\\u09ac\\u09bf \\u09a6\\u09be\\u09b2\\u09be\\u09a8 \\u09ac\\u09be\\u09a8\\u09be\\u09ac\\u09c7, \\u0987\\u09b9\\u09c1\\u09a6\\u09c0\\u09b0\\u09be \\u09a5\\u09be\\u09b0\\u09cd\\u09a1 \\u099f\\u09cd\\u09af\\u09be\\u09ae\\u09cd\\u09aa\\u09b2 \\u09ac\\u09be\\u09a8\\u09be\\u09ac\\u09c7, \\u09ae\\u09b9\\u09bf\\u09b2\\u09be\\u09a6\\u09c7\\u09b0 \\u09ac\\u09bf\\u0995\\u09cd\\u09b0\\u09df\\u0995\\u09b0\\u09cd\\u09ae\\u09c0 \\u09ac\\u09be\\u09a8\\u09bf\\u09df\\u09c7 \\u0995\\u09cd\\u09b0\\u09c7\\u09a4\\u09be \\u0986\\u0995\\u09b0\\u09cd\\u09b7\\u09a8 \\u0995\\u09b0\\u09be \\u09b9\\u09ac\\u09c7\\u0964 \\u098f\\u09b8\\u09ac \\u0995\\u09bf\\u09a8\\u09cd\\u09a4\\u09c1 \\u0986\\u09b2\\u09cd\\u09b2\\u09be\\u09b9 \\u09b9\\u09be\\u099c\\u09be\\u09b0 \\u09ac\\u099b\\u09b0 \\u0986\\u0997\\u09c7\\u0987 \\u09ac\\u09b2\\u09c7 \\u09a6\\u09bf\\u09df\\u09c7\\u099b\\u09bf\\u09b2\\u09c7\\u09a8\\u0964 \\u09af\\u09be \\u098f\\u0996\\u09a8 \\u09aa\\u09cd\\u09b0\\u09ae\\u09be\\u09a8\\u09bf\\u09a4 \\u09b9\\u09df\\u0964 \\u098f\\u09b8\\u09ac \\u099c\\u09bf\\u09a8\\u09bf\\u09b8 \\u0995\\u09cb\\u09a8 \\u09a7\\u09b0\\u09cd\\u09ae \\u09a4\\u09c7 \\u0986\\u0997\\u09c7\\u0987 \\u09ac\\u09b2\\u09be \\u0986\\u099b\\u09c7 \\u0986\\u09ae\\u09bf \\u099c\\u09be\\u09a8\\u09bf \\u09a8\\u09be\\u0964 \\u0995\\u09bf\\u09a8\\u09cd\\u09a4\\u09c1 \\u098f\\u0997\\u09c1\\u09b2\\u09cb \\u09a6\\u09c7\\u0996\\u09be\\u09b0 \\u09aa\\u09b0\\u09c7\\u0993 \\u09af\\u09be\\u09a6\\u09c7\\u09b0 \\u099a\\u09cb\\u0996 \\u0996\\u09cb\\u09b2\\u09c7 \\u09a8\\u09be \\u09a4\\u09be\\u09b0\\u09be \\u09a4\\u09cb \\u09ac\\u09dc\\u0987 \\u09ae\\u09c2\\u09b0\\u09cd\\u0996\\u0964\\u0995\\u09be\\u09b0\\u09a8 \\u0986\\u09b2\\u09cd\\u09b2\\u09be\\u09b9 \\u09ac\\u09b2\\u09c7\\u099b\\u09c7\\u09a8, \\u0995\\u09c1\\u09b0\\u0986\\u09a8 \\u09b6\\u09b0\\u09c0\\u09ab \\u09a4\\u09bf\\u09a8\\u09bf \\u0995\\u09bf\\u09df\\u09be\\u09ae\\u09a4\\u09c7\\u09b0 \\u0986\\u0997 \\u09aa\\u09b0\\u09cd\\u09af\\u09a8\\u09cd\\u09a4 \\u09ac\\u09b2\\u09ac\\u09a4 \\u09b0\\u09be\\u0996\\u09ac\\u09c7\\u09a8\\u0964 \\u0987\\u09b8\\u09b2\\u09be\\u09ae\\u09c7 \\u09ea\\u099f\\u09be \\u09ac\\u09bf\\u09df\\u09c7 \\u0995\\u09b0\\u09a4\\u09c7 \\u09ac\\u09b2\\u09be \\u0986\\u099b\\u09c7 \\u09af\\u09be\\u09a4\\u09c7 \\u09a8\\u099c\\u09b0 \\u09a8\\u09bf\\u099a\\u09c1 \\u09b9\\u09df\\u0964 \\u09aa\\u09b0\\u09a8\\u09be\\u09b0\\u09c0\\u09b0 \\u09a6\\u09bf\\u0995\\u09c7 \\u09a4\\u09be\\u0995\\u09be\\u09a4\\u09c7 \\u09a8\\u09be \\u09b9\\u09df\\u0964 \\u09aa\\u09b0\\u0995\\u09c0\\u09df\\u09be \\u0995\\u09b0\\u09a4\\u09c7 \\u09ac\\u09b2\\u09be \\u09b9\\u09df\\u09a8\\u09bf \\u09a4\\u09cb! \\u098f\\u0995\\u099f\\u09be \\u0985\\u09ac\\u09c8\\u09a7 \\u09b8\\u09ae\\u09cd\\u09aa\\u09b0\\u09cd\\u0995\\u09c7\\u09b0 \\u099a\\u09c7\\u09df\\u09c7 \\u09ea\\u099f\\u09be \\u09ac\\u09c8\\u09a7 \\u09b8\\u09ae\\u09cd\\u09aa\\u09b0\\u09cd\\u0995 \\u0985\\u09a8\\u09c7\\u0995 \\u09ad\\u09be\\u09b2\\u09cb\\u0964\"\n        ],\n        \"semantic_type\": \"\",\n        \"description\": \"\"\n      }\n    },\n    {\n      \"column\": \"Category\",\n      \"properties\": {\n        \"dtype\": \"category\",\n        \"num_unique_values\": 5,\n        \"samples\": [\n          \"Singer\",\n          \"Social\",\n          \"Sports\"\n        ],\n        \"semantic_type\": \"\",\n        \"description\": \"\"\n      }\n    },\n    {\n      \"column\": \"Gender\",\n      \"properties\": {\n        \"dtype\": \"category\",\n        \"num_unique_values\": 2,\n        \"samples\": [\n          \"Male\",\n          \"Female\"\n        ],\n        \"semantic_type\": \"\",\n        \"description\": \"\"\n      }\n    },\n    {\n      \"column\": \"comment react number\",\n      \"properties\": {\n        \"dtype\": \"number\",\n        \"std\": 6.671492115197327,\n        \"min\": 0.0,\n        \"max\": 428.0,\n        \"num_unique_values\": 114,\n        \"samples\": [\n          91.0,\n          4.0\n        ],\n        \"semantic_type\": \"\",\n        \"description\": \"\"\n      }\n    },\n    {\n      \"column\": \"label\",\n      \"properties\": {\n        \"dtype\": \"category\",\n        \"num_unique_values\": 5,\n        \"samples\": [\n          \"not bully\",\n          \"threat\"\n        ],\n        \"semantic_type\": \"\",\n        \"description\": \"\"\n      }\n    }\n  ]\n}"
            }
          },
          "metadata": {},
          "execution_count": 3
        }
      ],
      "source": [
        "# Load the dataset\n",
        "file_path = '/content/drive/MyDrive/Technohaven/Bangla-Text-Dataset-main/dataset.csv'\n",
        "df = pd.read_csv(file_path)\n",
        "\n",
        "# Display the dataset\n",
        "print(\"First few rows of the dataset:\")\n",
        "df.head(10)"
      ]
    },
    {
      "cell_type": "markdown",
      "source": [
        "# **Data Analysis**"
      ],
      "metadata": {
        "id": "FQNfaOSCBp9R"
      }
    },
    {
      "cell_type": "markdown",
      "source": [
        "**Print the shape of the dataset**"
      ],
      "metadata": {
        "id": "rREvXZgIAiXj"
      }
    },
    {
      "cell_type": "code",
      "source": [
        "df.shape"
      ],
      "metadata": {
        "colab": {
          "base_uri": "https://localhost:8080/"
        },
        "id": "rFxdwb0GAkKC",
        "outputId": "ce584e83-53f4-40f6-8210-277c6071f0f5"
      },
      "execution_count": 4,
      "outputs": [
        {
          "output_type": "execute_result",
          "data": {
            "text/plain": [
              "(44001, 5)"
            ]
          },
          "metadata": {},
          "execution_count": 4
        }
      ]
    },
    {
      "cell_type": "markdown",
      "source": [
        "**Calculate the percentage of Male and Female members and plot**"
      ],
      "metadata": {
        "id": "OjdxZTFXBJMB"
      }
    },
    {
      "cell_type": "code",
      "source": [
        "# Calculate the total number of entries\n",
        "total_entries = len(df)\n",
        "\n",
        "# Count the number of males and females\n",
        "gender_counts = df['Gender'].value_counts()\n",
        "\n",
        "# Calculate the percentage of each class\n",
        "gender_percentages = (gender_counts / total_entries) * 100\n",
        "\n",
        "# Print the results\n",
        "for gender, percentage in gender_percentages.items():\n",
        "    print(f\"Percentage of gender '{gender}': {percentage:.2f}%\")\n",
        "\n",
        "print()"
      ],
      "metadata": {
        "colab": {
          "base_uri": "https://localhost:8080/"
        },
        "id": "SkBapaDZA2qw",
        "outputId": "557a1f85-a3eb-4ca1-9b2d-d5008f230bfb"
      },
      "execution_count": 5,
      "outputs": [
        {
          "output_type": "stream",
          "name": "stdout",
          "text": [
            "Percentage of gender 'Female': 68.07%\n",
            "Percentage of gender 'Male': 31.93%\n",
            "\n"
          ]
        }
      ]
    },
    {
      "cell_type": "code",
      "source": [
        "# Plot the pie chart\n",
        "plt.figure(figsize=(5, 5))\n",
        "plt.pie(gender_percentages, labels=gender_percentages.index, autopct='%1.1f%%', startangle=140, colors=['#ff0000','#0000ff'])\n",
        "plt.title('Gender Distribution')\n",
        "plt.axis('equal')  # Equal aspect ratio ensures that pie is drawn as a circle.\n",
        "plt.show()"
      ],
      "metadata": {
        "colab": {
          "base_uri": "https://localhost:8080/",
          "height": 450
        },
        "id": "hhyrFxrvBPAC",
        "outputId": "ca533ea4-f993-406c-9bcb-41ed1014d784"
      },
      "execution_count": 6,
      "outputs": [
        {
          "output_type": "display_data",
          "data": {
            "text/plain": [
              "<Figure size 500x500 with 1 Axes>"
            ],
            "image/png": "[encoded data removed]"
          },
          "metadata": {}
        }
      ]
    },
    {
      "cell_type": "markdown",
      "metadata": {
        "id": "GbW-Rcqi9O3z"
      },
      "source": [
        "**Dataset Review:**\n",
        "The dataset consists of social media comments written in Bangla, which serve as the input texts. Each comment represents an individual piece of text expressing opinions, reactions, or statements related to celebrities, politicians, athletes, or social issues.\n",
        "\n",
        "\n",
        "**Comment:** The comment column holds the actual text from social media that will be analyzed or classified.\n",
        "\n",
        "**Label:** The label column shows the category of each comment. such as:\n",
        "*   sexual\n",
        "*   not bully\n",
        "*   troll\n",
        "*   religious\n",
        "*   threat"
      ]
    },
    {
      "cell_type": "markdown",
      "metadata": {
        "id": "bOyXKcLvquf6"
      },
      "source": [
        "**label structure:**\n",
        "The dataset uses a multiclass label structure because the comments are categorized into different types of bullying or sentiments. This means that each comment is labeled with one specific category, such as offensive language, hate speech, neutral, positive, or negative."
      ]
    },
    {
      "cell_type": "markdown",
      "source": [
        "**Calculate the percentage of each classes and plot**"
      ],
      "metadata": {
        "id": "7Bb9S6SxBgXr"
      }
    },
    {
      "cell_type": "code",
      "source": [
        "# Get distinct classes in the label\n",
        "distinct_classes = df['label'].nunique()\n",
        "\n",
        "# Print result\n",
        "print(f\"Number of classes: {distinct_classes}\")\n",
        "\n",
        "# Count of each distinct class\n",
        "class_counts = df['label'].value_counts()\n",
        "\n",
        "# Calculate the percentage of each class\n",
        "class_percentages = (class_counts / total_entries) * 100\n",
        "\n",
        "# Print results\n",
        "for label, percentage in class_percentages.items():\n",
        "    print(f\"Percentage of class '{label}': {percentage:.2f}%\")\n",
        "\n",
        "print()"
      ],
      "metadata": {
        "colab": {
          "base_uri": "https://localhost:8080/"
        },
        "id": "o9Xi2xArBYbd",
        "outputId": "40c1c95c-3270-4e59-d562-a892d367d877"
      },
      "execution_count": 7,
      "outputs": [
        {
          "output_type": "stream",
          "name": "stdout",
          "text": [
            "Number of classes: 5\n",
            "Percentage of class 'not bully': 34.86%\n",
            "Percentage of class 'troll': 23.78%\n",
            "Percentage of class 'sexual': 20.29%\n",
            "Percentage of class 'religious': 17.22%\n",
            "Percentage of class 'threat': 3.85%\n",
            "\n"
          ]
        }
      ]
    },
    {
      "cell_type": "code",
      "source": [
        "# Plot the histogram\n",
        "plt.figure(figsize=(7,4))\n",
        "plt.bar(class_percentages.index, class_percentages, color='orange')\n",
        "plt.xlabel('Class Labels')\n",
        "plt.ylabel('Percentage')\n",
        "plt.title('Distribution of Classes')\n",
        "plt.xticks(rotation=45)\n",
        "plt.show()"
      ],
      "metadata": {
        "colab": {
          "base_uri": "https://localhost:8080/",
          "height": 449
        },
        "id": "kH88lHpzBaOZ",
        "outputId": "920cda8d-3729-463b-a61b-4fc3a1bdd600"
      },
      "execution_count": 8,
      "outputs": [
        {
          "output_type": "display_data",
          "data": {
            "text/plain": [
              "<Figure size 700x400 with 1 Axes>"
            ],
            "image/png": "[encoded data removed]"
          },
          "metadata": {}
        }
      ]
    },
    {
      "cell_type": "markdown",
      "metadata": {
        "id": "Z3UrBY8gqwmn"
      },
      "source": [
        "# **Data Preprocessing**"
      ]
    },
    {
      "cell_type": "markdown",
      "source": [
        "**Normalization**"
      ],
      "metadata": {
        "id": "OT8ge0xl53Tt"
      }
    },
    {
      "cell_type": "markdown",
      "metadata": {
        "id": "rSa4boxa_Ke_"
      },
      "source": [
        "**Remove: Digits, Punctuations, Web Links, Non-Bengali Letters and Emoji's**"
      ]
    },
    {
      "cell_type": "code",
      "execution_count": 9,
      "metadata": {
        "id": "wbZs8qRI_JwD"
      },
      "outputs": [],
      "source": [
        "def normalize_bangla_text(text):\n",
        "    text = str(text)\n",
        "\n",
        "    # Remove Links\n",
        "    text = re.sub(r'http\\S+|www\\S+|https\\S+', '', text, flags=re.MULTILINE)\n",
        "\n",
        "    # Remove digits\n",
        "    text = re.sub(r'\\d+', '', text)\n",
        "\n",
        "    # Remove punctuation and symbols\n",
        "    text = re.sub(r'[^\\u0980-\\u09FF\\s]', '', text)\n",
        "\n",
        "    # Remove Non-Bengali letters\n",
        "    text = re.sub(r'[a-zA-Z]', '', text)\n",
        "\n",
        "    # Remove extra spaces\n",
        "    text = re.sub(r'\\s+', ' ', text).strip()\n",
        "\n",
        "    return text"
      ]
    },
    {
      "cell_type": "code",
      "source": [
        "df['comment_normalized'] = df['comment'].apply(normalize_bangla_text)"
      ],
      "metadata": {
        "id": "Snpw9--Z5miq"
      },
      "execution_count": 10,
      "outputs": []
    },
    {
      "cell_type": "markdown",
      "source": [
        "**Test Normalized Data**"
      ],
      "metadata": {
        "id": "cS0P2wjc421B"
      }
    },
    {
      "cell_type": "code",
      "execution_count": 11,
      "metadata": {
        "colab": {
          "base_uri": "https://localhost:8080/"
        },
        "id": "INRS8jPCESIm",
        "outputId": "7ef531f4-6dd3-42bd-fd81-512d9ee89474"
      },
      "outputs": [
        {
          "output_type": "stream",
          "name": "stdout",
          "text": [
            "Original: ওই হালার পুত এখন কি মদ খাওয়ার সময় রাতের বেলা মদ খাই দিনের বেলাও মাঝেমধ্যে খায় এখন ম*** চ**** সময় safa কে একটু চুদাম যার ইচ্ছা আছে চুদার লাইনে দারা একজন একজন করে জাবি\n",
            "Normalized: ওই হালার পুত এখন কি মদ খাওয়ার সময় রাতের বেলা মদ খাই দিনের বেলাও মাঝেমধ্যে খায় এখন ম চ সময় কে একটু চুদাম যার ইচ্ছা আছে চুদার লাইনে দারা একজন একজন করে জাবি\n",
            "--------------------------------------------------\n",
            "Original: ঘরে বসে শুট করতে কেমন লেগেছে? ক্যামেরাতে কে ছিলেন?\n",
            "Normalized: ঘরে বসে শুট করতে কেমন লেগেছে ক্যামেরাতে কে ছিলেন\n",
            "--------------------------------------------------\n",
            "Original: অরে বাবা, এই টা কোন পাগল????\n",
            "Normalized: অরে বাবা এই টা কোন পাগল\n",
            "--------------------------------------------------\n",
            "Original: ক্যাপ্টেন অফ বাংলাদেশ\n",
            "Normalized: ক্যাপ্টেন অফ বাংলাদেশ\n",
            "--------------------------------------------------\n",
            "Original: পটকা মাছ\n",
            "Normalized: পটকা মাছ\n",
            "--------------------------------------------------\n",
            "Original: অন্যরকম .. ভালো লাগলো ..❤️\n",
            "Normalized: অন্যরকম ভালো লাগলো\n",
            "--------------------------------------------------\n",
            "Original: সাংবাদিক ভাইদের বলছি এই সংবাদ গুলি প্রচার না করলেই নয় কি?আর এই সব ৪ থ গ্রেডের অভিনেত্রী অভিনেতা দের আপনারা জনপ্রিয় শব্দটা কেন ব্যবহার করছেন।এরা কি জনপ্রিয়? এরা কাস্টিং কাউচের সুযোগে অভিনেত্রী বা অভিনেতা। প্লিজ তেলবাজি নিউজ আর এদের ইম্পোরটেন্ট দেয়া বন্ধ করুন।\n",
            "Normalized: সাংবাদিক ভাইদের বলছি এই সংবাদ গুলি প্রচার না করলেই নয় কিআর এই সব থ গ্রেডের অভিনেত্রী অভিনেতা দের আপনারা জনপ্রিয় শব্দটা কেন ব্যবহার করছেনএরা কি জনপ্রিয় এরা কাস্টিং কাউচের সুযোগে অভিনেত্রী বা অভিনেতা প্লিজ তেলবাজি নিউজ আর এদের ইম্পোরটেন্ট দেয়া বন্ধ করুন\n",
            "--------------------------------------------------\n",
            "Original: মোহাম্মদ কফিল উদ্দীন মাহমুদRidwan RomelDwaipayan PaulEku ChowdhuryKamrul HasanJony Jony\n",
            "Normalized: মোহাম্মদ কফিল উদ্দীন মাহমুদ\n",
            "--------------------------------------------------\n",
            "Original: ঢাকায় এত ঘনো ঘনো আগুন লাগার মূল কারন টা এতদিনে জানতে পারলাম..এই সবই আল্লাহর গজব..ফাবি আইয়ে আলায়ে রাব্বি কুমাতু কায্জিবান\n",
            "Normalized: ঢাকায় এত ঘনো ঘনো আগুন লাগার মূল কারন টা এতদিনে জানতে পারলামএই সবই আল্লাহর গজবফাবি আইয়ে আলায়ে রাব্বি কুমাতু কায্জিবান\n",
            "--------------------------------------------------\n",
            "Original: হিরো আলম তুমি এগিয়ে চলো, আমরা আছি তোমার সাথে।\n",
            "Normalized: হিরো আলম তুমি এগিয়ে চলো আমরা আছি তোমার সাথে\n",
            "--------------------------------------------------\n"
          ]
        }
      ],
      "source": [
        "for i, row in df[['comment', 'comment_normalized']].head(10).iterrows():\n",
        "    print(f\"Original: {row['comment']}\")\n",
        "    print(f\"Normalized: {row['comment_normalized']}\")\n",
        "    print(\"-\" * 50)"
      ]
    },
    {
      "cell_type": "markdown",
      "metadata": {
        "id": "vQuTLK42B5Ny"
      },
      "source": [
        "**Remove Stopwords**"
      ]
    },
    {
      "cell_type": "markdown",
      "source": [
        "Here, I have used a Bangla Stopword Dataset for better Preprocessing. I have attatched the dataset in the data folder of my project."
      ],
      "metadata": {
        "id": "LlhGeGHaJsRj"
      }
    },
    {
      "cell_type": "code",
      "execution_count": 12,
      "metadata": {
        "id": "WIhgWvbhBTB4"
      },
      "outputs": [],
      "source": [
        "# Load Bangla stopwords\n",
        "stopwords_df = pd.read_excel('/content/drive/MyDrive/Technohaven/Bangla-Text-Dataset-main/Stopwords.xlsx')\n",
        "stopwords_list = stopwords_df.iloc[:, 0].astype(str).tolist()\n",
        "\n",
        "def remove_stopwords(text):\n",
        "    words = text.split()\n",
        "    filtered_words = [word for word in words if word not in stopwords_list]\n",
        "    return ' '.join(filtered_words)"
      ]
    },
    {
      "cell_type": "code",
      "source": [
        "df['comment_no_stopwords'] = df['comment_normalized'].apply(remove_stopwords)"
      ],
      "metadata": {
        "id": "w8JVTd-15kBM"
      },
      "execution_count": 13,
      "outputs": []
    },
    {
      "cell_type": "markdown",
      "source": [
        "**Test Normalized Data**"
      ],
      "metadata": {
        "id": "fRlPlfoh5S3d"
      }
    },
    {
      "cell_type": "code",
      "execution_count": 14,
      "metadata": {
        "colab": {
          "base_uri": "https://localhost:8080/"
        },
        "id": "obTP_G_AEd1L",
        "outputId": "6f6a8d1b-63ed-4ec6-e5b6-98d77e1bb5a1"
      },
      "outputs": [
        {
          "output_type": "stream",
          "name": "stdout",
          "text": [
            "Normalized: ওই হালার পুত এখন কি মদ খাওয়ার সময় রাতের বেলা মদ খাই দিনের বেলাও মাঝেমধ্যে খায় এখন ম চ সময় কে একটু চুদাম যার ইচ্ছা আছে চুদার লাইনে দারা একজন একজন করে জাবি\n",
            "Without Stopwords: হালার পুত মদ খাওয়ার সময় রাতের বেলা মদ খাই দিনের বেলাও মাঝেমধ্যে খায় ম চ সময় একটু চুদাম ইচ্ছা চুদার লাইনে দারা একজন একজন জাবি\n",
            "--------------------------------------------------\n",
            "Normalized: ঘরে বসে শুট করতে কেমন লেগেছে ক্যামেরাতে কে ছিলেন\n",
            "Without Stopwords: ঘরে শুট কেমন লেগেছে ক্যামেরাতে\n",
            "--------------------------------------------------\n",
            "Normalized: অরে বাবা এই টা কোন পাগল\n",
            "Without Stopwords: অরে বাবা টা পাগল\n",
            "--------------------------------------------------\n",
            "Normalized: ক্যাপ্টেন অফ বাংলাদেশ\n",
            "Without Stopwords: ক্যাপ্টেন অফ বাংলাদেশ\n",
            "--------------------------------------------------\n",
            "Normalized: পটকা মাছ\n",
            "Without Stopwords: পটকা মাছ\n",
            "--------------------------------------------------\n"
          ]
        }
      ],
      "source": [
        "for i, row in df[['comment_normalized', 'comment_no_stopwords']].head(5).iterrows():\n",
        "    print(f\"Normalized: {row['comment_normalized']}\")\n",
        "    print(f\"Without Stopwords: {row['comment_no_stopwords']}\")\n",
        "    print(\"-\" * 50)"
      ]
    },
    {
      "cell_type": "markdown",
      "metadata": {
        "id": "qjSfGUocBxwC"
      },
      "source": [
        "**Unicode Normalization**"
      ]
    },
    {
      "cell_type": "code",
      "execution_count": 15,
      "metadata": {
        "id": "0SkPEmXVB3ma"
      },
      "outputs": [],
      "source": [
        "def unicode_normalize(text):\n",
        "    return unicodedata.normalize('NFC', text)"
      ]
    },
    {
      "cell_type": "code",
      "source": [
        "df['comment_unicode_normalized'] = df['comment_no_stopwords'].apply(unicode_normalize)"
      ],
      "metadata": {
        "id": "rAkT063n5sWL"
      },
      "execution_count": 16,
      "outputs": []
    },
    {
      "cell_type": "markdown",
      "metadata": {
        "id": "JoYk_0IRCGAJ"
      },
      "source": [
        "**Spell Correction**"
      ]
    },
    {
      "cell_type": "markdown",
      "source": [
        "I skipped this stage because after applying SpellChecker it decreases my models accuracy."
      ],
      "metadata": {
        "id": "qcav3l2NKDxs"
      }
    },
    {
      "cell_type": "code",
      "execution_count": null,
      "metadata": {
        "id": "IudW6MFMCHBn"
      },
      "outputs": [],
      "source": [
        "'''\n",
        "from spellchecker import SpellChecker\n",
        "\n",
        "spell = SpellChecker(language=None)  # None because Bangla is unsupported by default\n",
        "# Load Bangla dictionary words from your stopwords or custom word list\n",
        "spell.word_frequency.load_words(stopwords_list)\n",
        "\n",
        "def bangla_spell_correct(text):\n",
        "    corrected_words = []\n",
        "    for word in text.split():\n",
        "        corrected_word = spell.correction(word)\n",
        "        corrected_words.append(corrected_word if corrected_word else word)\n",
        "    return ' '.join(corrected_words)\n",
        "\n",
        "# Apply spell correction (optional, experimental)\n",
        "df['comment_spell_corrected'] = df['comment_unicode_normalized'].apply(bangla_spell_correct)\n",
        "\n",
        "'''"
      ]
    },
    {
      "cell_type": "markdown",
      "source": [
        "**Save the Final Preprocessed data**"
      ],
      "metadata": {
        "id": "yS4njBWOEk9m"
      }
    },
    {
      "cell_type": "code",
      "source": [
        "# Save the preprocessed DataFrame to CSV\n",
        "output_file = '/content/drive/MyDrive/Technohaven/Bangla-Text-Dataset-main/preprocessed_dataset.csv'\n",
        "df.to_csv(output_file, index=False, encoding='utf-8-sig')\n",
        "print(f\"Preprocessed data saved to {output_file}\")"
      ],
      "metadata": {
        "colab": {
          "base_uri": "https://localhost:8080/"
        },
        "id": "ojER0giJEolp",
        "outputId": "e720614b-3c3d-4983-e361-7a62d50f32ee"
      },
      "execution_count": 17,
      "outputs": [
        {
          "output_type": "stream",
          "name": "stdout",
          "text": [
            "Preprocessed data saved to /content/drive/MyDrive/Technohaven/Bangla-Text-Dataset-main/preprocessed_dataset.csv\n"
          ]
        }
      ]
    },
    {
      "cell_type": "markdown",
      "source": [
        "# **Tokenization**"
      ],
      "metadata": {
        "id": "RZboGquB6DoW"
      }
    },
    {
      "cell_type": "markdown",
      "metadata": {
        "id": "dD46i4KmCN1I"
      },
      "source": [
        "**Tokenize Using Bangla-Bert:**"
      ]
    },
    {
      "cell_type": "code",
      "execution_count": 18,
      "metadata": {
        "colab": {
          "base_uri": "https://localhost:8080/",
          "height": 344,
          "referenced_widgets": [
            "f2feb7f99c5745aa8d433f2b341e4a59",
            "32386289d8de43459029f5605e22af91",
            "cb21dfb2f7a34661b1a35ba8fe352f45",
            "47e7e6f1b661452789409d81aa089dba",
            "54d55109a8ba4de5bc60cb594601bf17",
            "358c4838ff024fe9b625dc7e4e1ab9f5",
            "4ab3cc64aeb04351baff3d71e7818108",
            "66215334799c4b6a82b5348da82e116b",
            "3a3ed1c921db4e6c92c3624da5c55c47",
            "15b8d9de9fce494ea46c0ca9e2bf5479",
            "d63b34c0f0fd4fbd9fb154388131aab8",
            "264d424e443344aab0e8b455c7fdbd52",
            "8a50e797ff104aedb86d0ac9e974921f",
            "341032e7e27147b68260a91dd58bf27b",
            "e45c08527bca453f8e15a873c7d0ab51",
            "63b38412bd9f4821a2d3244968c97882",
            "75d0c6ead28e4fd3b4e05c29d26fe479",
            "d21bf8ad31424730a034543656b1719a",
            "dba2f4e43b214d45871de547edc8e2ff",
            "67d9d30785254b18a943823fc3ff6f8f",
            "8db66e7607fc408aa9e8619bc31a3487",
            "854aadbf07634dafabc6feb0fb6784f0"
          ]
        },
        "id": "iOdD4TtFDTqz",
        "outputId": "9b5c7d46-25ab-475b-8eb8-89b7b7d4e119"
      },
      "outputs": [
        {
          "output_type": "stream",
          "name": "stderr",
          "text": [
            "/usr/local/lib/python3.11/dist-packages/huggingface_hub/utils/_auth.py:94: UserWarning: \n",
            "The secret `HF_TOKEN` does not exist in your Colab secrets.\n",
            "To authenticate with the Hugging Face Hub, create a token in your settings tab (https://huggingface.co/settings/tokens), set it as secret in your Google Colab and restart your session.\n",
            "You will be able to reuse this secret in all of your notebooks.\n",
            "Please note that authentication is recommended but still optional to access public models or datasets.\n",
            "  warnings.warn(\n"
          ]
        },
        {
          "output_type": "display_data",
          "data": {
            "text/plain": [
              "config.json:   0%|          | 0.00/491 [00:00<?, ?B/s]"
            ],
            "application/vnd.jupyter.widget-view+json": {
              "version_major": 2,
              "version_minor": 0,
              "model_id": "f2feb7f99c5745aa8d433f2b341e4a59"
            }
          },
          "metadata": {}
        },
        {
          "output_type": "display_data",
          "data": {
            "text/plain": [
              "vocab.txt:   0%|          | 0.00/2.24M [00:00<?, ?B/s]"
            ],
            "application/vnd.jupyter.widget-view+json": {
              "version_major": 2,
              "version_minor": 0,
              "model_id": "264d424e443344aab0e8b455c7fdbd52"
            }
          },
          "metadata": {}
        },
        {
          "output_type": "stream",
          "name": "stdout",
          "text": [
            "Original Text:\n",
            " হালার পুত মদ খাওয়ার সময় রাতের বেলা মদ খাই দিনের বেলাও মাঝেমধ্যে খায় ম চ সময় একটু চুদাম ইচ্ছা চুদার লাইনে দারা একজন একজন জাবি\n",
            "\n",
            "Tokens:\n",
            " ['হালা', '##র', 'পত', 'মদ', 'খাও', '##যার', 'সময', 'রাতের', 'বেলা', 'মদ', 'খাই', 'দিনের', 'বেলা', '##ও', 'মাঝে', '##মধ', '##যে', 'খা', '##য', 'ম', 'চ', 'সময', 'একট', 'চ', '##দাম', 'ইচ', '##ছা', 'চ', '##দার', 'লাইনে', 'দারা', 'একজন', 'একজন', 'জাবি']\n",
            "\n",
            "Token IDs:\n",
            " [68013, 2046, 55923, 5589, 31331, 14979, 94306, 5226, 2918, 5589, 11978, 2522, 2918, 2058, 3025, 97718, 8844, 18362, 9294, 3110, 10273, 94306, 50364, 10273, 19251, 67305, 14380, 10273, 7538, 8710, 22055, 2141, 2141, 34904]\n"
          ]
        }
      ],
      "source": [
        "# Load Bangla-BERT tokenizer\n",
        "tokenizer = AutoTokenizer.from_pretrained(\"sagorsarker/bangla-bert-base\")\n",
        "\n",
        "sample_text = df.loc[0, 'comment_unicode_normalized']\n",
        "\n",
        "tokens = tokenizer.tokenize(sample_text)\n",
        "token_ids = tokenizer.convert_tokens_to_ids(tokens)\n",
        "\n",
        "print(\"Original Text:\\n\", sample_text)\n",
        "print(\"\\nTokens:\\n\", tokens)\n",
        "print(\"\\nToken IDs:\\n\", token_ids)"
      ]
    },
    {
      "cell_type": "markdown",
      "source": [
        "**Test Tokenized Data**"
      ],
      "metadata": {
        "id": "88Jea1N-6P2e"
      }
    },
    {
      "cell_type": "code",
      "execution_count": 19,
      "metadata": {
        "colab": {
          "base_uri": "https://localhost:8080/"
        },
        "id": "IO3vTRs7Dtqj",
        "outputId": "fdde5d31-3b47-4847-b60c-2b32be1cf7ae"
      },
      "outputs": [
        {
          "output_type": "stream",
          "name": "stdout",
          "text": [
            "Comment 1 Original Text:\n",
            "হালার পুত মদ খাওয়ার সময় রাতের বেলা মদ খাই দিনের বেলাও মাঝেমধ্যে খায় ম চ সময় একটু চুদাম ইচ্ছা চুদার লাইনে দারা একজন একজন জাবি\n",
            "\n",
            "Tokens:\n",
            "['হালা', '##র', 'পত', 'মদ', 'খাও', '##যার', 'সময', 'রাতের', 'বেলা', 'মদ', 'খাই', 'দিনের', 'বেলা', '##ও', 'মাঝে', '##মধ', '##যে', 'খা', '##য', 'ম', 'চ', 'সময', 'একট', 'চ', '##দাম', 'ইচ', '##ছা', 'চ', '##দার', 'লাইনে', 'দারা', 'একজন', 'একজন', 'জাবি']\n",
            "\n",
            "--------------------------------------------------\n",
            "Comment 2 Original Text:\n",
            "ঘরে শুট কেমন লেগেছে ক্যামেরাতে\n",
            "\n",
            "Tokens:\n",
            "['ঘরে', 'শট', 'কেমন', 'লেগেছে', 'ক', '##যাম', '##েরা', '##তে']\n",
            "\n",
            "--------------------------------------------------\n",
            "Comment 3 Original Text:\n",
            "অরে বাবা টা পাগল\n",
            "\n",
            "Tokens:\n",
            "['অর', '##ে', 'বাবা', 'টা', 'পাগল']\n",
            "\n",
            "--------------------------------------------------\n",
            "Comment 4 Original Text:\n",
            "ক্যাপ্টেন অফ বাংলাদেশ\n",
            "\n",
            "Tokens:\n",
            "['ক', '##যা', '##পটে', '##ন', 'অফ', 'বাংলাদেশ']\n",
            "\n",
            "--------------------------------------------------\n",
            "Comment 5 Original Text:\n",
            "পটকা মাছ\n",
            "\n",
            "Tokens:\n",
            "['পটকা', 'মাছ']\n",
            "\n",
            "--------------------------------------------------\n",
            "Comment 6 Original Text:\n",
            "অন্যরকম ভালো লাগলো\n",
            "\n",
            "Tokens:\n",
            "['অন', '##যর', '##কম', 'ভাল', '##ে', '##া', 'লাগলে', '##া']\n",
            "\n",
            "--------------------------------------------------\n",
            "Comment 7 Original Text:\n",
            "সাংবাদিক ভাইদের বলছি সংবাদ প্রচার করলেই কিআর থ গ্রেডের অভিনেত্রী অভিনেতা দের আপনারা জনপ্রিয় শব্দটা করছেনএরা জনপ্রিয় কাস্টিং কাউচের সুযোগে অভিনেত্রী অভিনেতা প্লিজ তেলবাজি নিউজ ইম্পোরটেন্ট দেয়া বন্ধ করুন\n",
            "\n",
            "Tokens:\n",
            "['সাংবাদিক', 'ভাইদের', 'বলছি', 'সংবাদ', 'পরচা', '##র', 'করলেই', 'কি', '##আর', 'থ', 'গর', '##েড', '##ের', 'অভিন', '##েত', '##রী', 'অভিনেতা', 'দে', '##র', 'আপনারা', 'জন', '##পরি', '##য', 'শব', '##দ', '##টা', 'করছেন', '##এরা', 'জন', '##পরি', '##য', 'কাস', '##টিং', 'কাউচ', '##ের', 'স', '##যে', '##াগ', '##ে', 'অভিন', '##েত', '##রী', 'অভিনেতা', 'পলি', '##জ', 'তেল', '##বাজি', 'নিউজ', 'ইমপে', '##ার', '##টেন', '##ট', 'দে', '##যা', 'বনধ', 'করন']\n",
            "\n",
            "--------------------------------------------------\n",
            "Comment 8 Original Text:\n",
            "মোহাম্মদ কফিল উদ্দীন মাহমুদ\n",
            "\n",
            "Tokens:\n",
            "['মে', '##াহা', '##মম', '##দ', 'কফিল', 'উদ', '##দীন', 'মাহ', '##মদ']\n",
            "\n",
            "--------------------------------------------------\n",
            "Comment 9 Original Text:\n",
            "ঢাকায় ঘনো ঘনো আগুন লাগার মূল কারন টা এতদিনে পারলামএই সবই আল্লাহর গজবফাবি আইয়ে আলায়ে রাব্বি কুমাতু কায্জিবান\n",
            "\n",
            "Tokens:\n",
            "['ঢাকা', '##য', 'ঘন', '##ে', '##া', 'ঘন', '##ে', '##া', 'আগ', '##ন', 'লাগার', 'মল', 'কারন', 'টা', 'এতদিন', '##ে', 'পারলাম', '##এই', 'সবই', 'আল', '##লাহ', '##র', 'গজব', '##ফা', '##বি', 'আই', '##যে', 'আলা', '##যে', 'রাব', '##বি', 'কমা', '##ত', 'কায', '##জিব', '##ান']\n",
            "\n",
            "--------------------------------------------------\n",
            "Comment 10 Original Text:\n",
            "হিরো আলম এগিয়ে চলো আছি সাথে\n",
            "\n",
            "Tokens:\n",
            "['হিরে', '##া', 'আলম', 'এগ', '##িয', '##ে', 'চলে', '##া', 'আছি', 'সাথে']\n",
            "\n",
            "--------------------------------------------------\n"
          ]
        }
      ],
      "source": [
        "for i in range(10):\n",
        "    text = df.loc[i, 'comment_unicode_normalized']\n",
        "    tokens = tokenizer.tokenize(text)\n",
        "    print(f\"Comment {i+1} Original Text:\\n{text}\\n\")\n",
        "    print(f\"Tokens:\\n{tokens}\\n\")\n",
        "    print(\"-\" * 50)"
      ]
    },
    {
      "cell_type": "markdown",
      "metadata": {
        "id": "HF9p2bdhFx9v"
      },
      "source": [
        "**Encode to Binary**"
      ]
    },
    {
      "cell_type": "code",
      "execution_count": 20,
      "metadata": {
        "colab": {
          "base_uri": "https://localhost:8080/"
        },
        "id": "2fmcjacoFxWx",
        "outputId": "15b0ce61-76f6-4308-992a-d5e9d214a269"
      },
      "outputs": [
        {
          "output_type": "stream",
          "name": "stdout",
          "text": [
            "binary_label\n",
            "0    24268\n",
            "1    19733\n",
            "Name: count, dtype: int64\n",
            "       label  binary_label\n",
            "0     sexual             0\n",
            "1  not bully             0\n",
            "2  not bully             0\n",
            "3  not bully             0\n",
            "4      troll             1\n",
            "5  not bully             0\n",
            "6      troll             1\n",
            "7  not bully             0\n",
            "8  religious             1\n",
            "9  not bully             0\n"
          ]
        }
      ],
      "source": [
        "# Define bullying labels\n",
        "bullying_labels = ['threat', 'religious', 'bully', 'troll']\n",
        "\n",
        "df['binary_label'] = df['label'].apply(lambda x: 1 if x in bullying_labels else 0)\n",
        "\n",
        "# Check label counts\n",
        "print(df['binary_label'].value_counts())\n",
        "\n",
        "print(df[['label', 'binary_label']].head(10))"
      ]
    },
    {
      "cell_type": "markdown",
      "metadata": {
        "id": "Yc8krCqNGAKl"
      },
      "source": [
        "1.   Positive class (1) = threat, religious, bully, troll\n",
        "2.   Negative class (0) = not bully"
      ]
    },
    {
      "cell_type": "markdown",
      "source": [
        "**After Binarization**"
      ],
      "metadata": {
        "id": "nbThkxApHzfc"
      }
    },
    {
      "cell_type": "code",
      "source": [
        "# Count plot for binary_label\n",
        "plt.figure(figsize=(6, 4))\n",
        "sns.countplot(data=df, x='binary_label', palette='Set2')\n",
        "\n",
        "# Set axis labels and title\n",
        "plt.xticks([0, 1], ['Non-Bullying', 'Bullying'])\n",
        "plt.xlabel('Class')\n",
        "plt.ylabel('Count')\n",
        "plt.title('Distribution of Bullying vs Non-Bullying Labels')\n",
        "\n",
        "# Display the plot\n",
        "plt.tight_layout()\n",
        "plt.show()"
      ],
      "metadata": {
        "colab": {
          "base_uri": "https://localhost:8080/",
          "height": 494
        },
        "id": "kWN9rWY9Hu8S",
        "outputId": "388646cc-c55d-4665-9d58-9d3762baef62"
      },
      "execution_count": 21,
      "outputs": [
        {
          "output_type": "stream",
          "name": "stderr",
          "text": [
            "<ipython-input-21-6a6634380cd4>:3: FutureWarning: \n",
            "\n",
            "Passing `palette` without assigning `hue` is deprecated and will be removed in v0.14.0. Assign the `x` variable to `hue` and set `legend=False` for the same effect.\n",
            "\n",
            "  sns.countplot(data=df, x='binary_label', palette='Set2')\n"
          ]
        },
        {
          "output_type": "display_data",
          "data": {
            "text/plain": [
              "<Figure size 600x400 with 1 Axes>"
            ],
            "image/png": "[encoded data removed]"
          },
          "metadata": {}
        }
      ]
    },
    {
      "cell_type": "markdown",
      "metadata": {
        "id": "EahsgGhnHcIl"
      },
      "source": [
        "**Encode to Multiclass**"
      ]
    },
    {
      "cell_type": "code",
      "execution_count": 22,
      "metadata": {
        "colab": {
          "base_uri": "https://localhost:8080/"
        },
        "id": "Pja0gdzvHZbe",
        "outputId": "326234c6-800a-45f8-82a3-80065c034535"
      },
      "outputs": [
        {
          "output_type": "stream",
          "name": "stdout",
          "text": [
            "Label to ID mapping:\n",
            "{'not bully': np.int64(0), 'religious': np.int64(1), 'sexual': np.int64(2), 'threat': np.int64(3), 'troll': np.int64(4)}\n",
            "        label  multiclass_label\n",
            "0      sexual                 2\n",
            "1   not bully                 0\n",
            "2   not bully                 0\n",
            "3   not bully                 0\n",
            "4       troll                 4\n",
            "5   not bully                 0\n",
            "6       troll                 4\n",
            "7   not bully                 0\n",
            "8   religious                 1\n",
            "9   not bully                 0\n",
            "10  religious                 1\n",
            "11  religious                 1\n",
            "12  not bully                 0\n",
            "13  not bully                 0\n",
            "14  not bully                 0\n",
            "15     sexual                 2\n",
            "16     sexual                 2\n",
            "17  not bully                 0\n",
            "18      troll                 4\n",
            "19     sexual                 2\n"
          ]
        }
      ],
      "source": [
        "from sklearn.preprocessing import LabelEncoder\n",
        "\n",
        "# Initialize the encoder\n",
        "le = LabelEncoder()\n",
        "\n",
        "df['multiclass_label'] = le.fit_transform(df['label'])\n",
        "\n",
        "# Check the mapping\n",
        "label_mapping = dict(zip(le.classes_, le.transform(le.classes_)))\n",
        "print(\"Label to ID mapping:\")\n",
        "print(label_mapping)\n",
        "\n",
        "print(df[['label', 'multiclass_label']].head(20))"
      ]
    },
    {
      "cell_type": "markdown",
      "source": [
        "**After Multi-Class Classification**"
      ],
      "metadata": {
        "id": "z1nWFn3aIDHm"
      }
    },
    {
      "cell_type": "code",
      "source": [
        "# Set figure size\n",
        "plt.figure(figsize=(8, 5))\n",
        "\n",
        "# Count plot for multiclass labels\n",
        "sns.countplot(data=df, x='multiclass_label', palette='Set3')\n",
        "\n",
        "# Add labels and title\n",
        "plt.xlabel('Label Categories')\n",
        "plt.ylabel('Count')\n",
        "plt.title('Distribution of Multiclass Labels')\n",
        "\n",
        "# Display plot\n",
        "plt.tight_layout()\n",
        "plt.show()"
      ],
      "metadata": {
        "colab": {
          "base_uri": "https://localhost:8080/",
          "height": 594
        },
        "id": "G2PQT9QjIGqQ",
        "outputId": "70ac29b6-a2a5-45e2-8424-0793fd4b602c"
      },
      "execution_count": 23,
      "outputs": [
        {
          "output_type": "stream",
          "name": "stderr",
          "text": [
            "<ipython-input-23-fddda02c4bf9>:5: FutureWarning: \n",
            "\n",
            "Passing `palette` without assigning `hue` is deprecated and will be removed in v0.14.0. Assign the `x` variable to `hue` and set `legend=False` for the same effect.\n",
            "\n",
            "  sns.countplot(data=df, x='multiclass_label', palette='Set3')\n"
          ]
        },
        {
          "output_type": "display_data",
          "data": {
            "text/plain": [
              "<Figure size 800x500 with 1 Axes>"
            ],
            "image/png": "[encoded data removed]"
          },
          "metadata": {}
        }
      ]
    },
    {
      "cell_type": "markdown",
      "source": [
        "\n",
        "\n",
        "---\n",
        "\n",
        "\n",
        "\n",
        "***Note: Although I encode the labels for both binary and multiclass classification, I focus only on the binary labels for feature extraction.***\n",
        "\n",
        "\n",
        "\n",
        "---\n",
        "\n"
      ],
      "metadata": {
        "id": "Q3cslUvUCh4k"
      }
    },
    {
      "cell_type": "markdown",
      "source": [
        "**Data Imbalance Problem Solve**"
      ],
      "metadata": {
        "id": "4fm2zNSUsTSV"
      }
    },
    {
      "cell_type": "code",
      "source": [
        "!pip install imbalanced-learn"
      ],
      "metadata": {
        "colab": {
          "base_uri": "https://localhost:8080/"
        },
        "id": "hgBk35wp7uu6",
        "outputId": "75c83738-75b3-434c-e585-f182898ecec0"
      },
      "execution_count": 24,
      "outputs": [
        {
          "output_type": "stream",
          "name": "stdout",
          "text": [
            "Requirement already satisfied: imbalanced-learn in /usr/local/lib/python3.11/dist-packages (0.13.0)\n",
            "Requirement already satisfied: numpy<3,>=1.24.3 in /usr/local/lib/python3.11/dist-packages (from imbalanced-learn) (2.0.2)\n",
            "Requirement already satisfied: scipy<2,>=1.10.1 in /usr/local/lib/python3.11/dist-packages (from imbalanced-learn) (1.15.3)\n",
            "Requirement already satisfied: scikit-learn<2,>=1.3.2 in /usr/local/lib/python3.11/dist-packages (from imbalanced-learn) (1.6.1)\n",
            "Requirement already satisfied: sklearn-compat<1,>=0.1 in /usr/local/lib/python3.11/dist-packages (from imbalanced-learn) (0.1.3)\n",
            "Requirement already satisfied: joblib<2,>=1.1.1 in /usr/local/lib/python3.11/dist-packages (from imbalanced-learn) (1.5.0)\n",
            "Requirement already satisfied: threadpoolctl<4,>=2.0.0 in /usr/local/lib/python3.11/dist-packages (from imbalanced-learn) (3.6.0)\n"
          ]
        }
      ]
    },
    {
      "cell_type": "code",
      "source": [
        "# Vectorize normalized text into TF-IDF\n",
        "vectorizer = TfidfVectorizer(max_features=5000)\n",
        "X_vectorized = vectorizer.fit_transform(df['comment_unicode_normalized'])\n",
        "\n",
        "y = df['binary_label']\n",
        "\n",
        "\n",
        "# Split data\n",
        "X_train, X_test, y_train, y_test = train_test_split(X_vectorized, y, test_size=0.2, stratify=y, random_state=42)\n",
        "\n",
        "# Apply SMOTE on training set\n",
        "smote = SMOTE(random_state=42)\n",
        "X_train_res, y_train_res = smote.fit_resample(X_train, y_train)\n",
        "\n",
        "print(\"Before SMOTE:\", y_train.value_counts())\n",
        "print(\"After SMOTE:\", y_train_res.value_counts())"
      ],
      "metadata": {
        "colab": {
          "base_uri": "https://localhost:8080/"
        },
        "id": "pss7r-jKsZtX",
        "outputId": "82849631-eadb-46ba-bbd7-7c750bfb6192"
      },
      "execution_count": 25,
      "outputs": [
        {
          "output_type": "stream",
          "name": "stdout",
          "text": [
            "Before SMOTE: binary_label\n",
            "0    19414\n",
            "1    15786\n",
            "Name: count, dtype: int64\n",
            "After SMOTE: binary_label\n",
            "0    19414\n",
            "1    19414\n",
            "Name: count, dtype: int64\n"
          ]
        }
      ]
    },
    {
      "cell_type": "code",
      "source": [
        "rus = RandomUnderSampler(random_state=42)\n",
        "X_res, y_res = rus.fit_resample(X_vectorized, y)\n",
        "\n",
        "print(\"After undersampling:\", y_res.value_counts())"
      ],
      "metadata": {
        "colab": {
          "base_uri": "https://localhost:8080/"
        },
        "id": "oAaIejg18JPV",
        "outputId": "a3eeb852-eeaf-42c2-92b6-3af082d44a48"
      },
      "execution_count": 26,
      "outputs": [
        {
          "output_type": "stream",
          "name": "stdout",
          "text": [
            "After undersampling: binary_label\n",
            "0    19733\n",
            "1    19733\n",
            "Name: count, dtype: int64\n"
          ]
        }
      ]
    },
    {
      "cell_type": "markdown",
      "source": [
        "**Visualization**"
      ],
      "metadata": {
        "id": "ubwRkrD9Bydp"
      }
    },
    {
      "cell_type": "code",
      "source": [
        "# Count the classes after undersampling\n",
        "class_counts = y_res.value_counts()\n",
        "\n",
        "# Plot\n",
        "plt.figure(figsize=(6,4))\n",
        "class_counts.plot(kind='bar')\n",
        "plt.title('Class Distribution After Undersampling')\n",
        "plt.xlabel('Class')\n",
        "plt.ylabel('Number of Samples')\n",
        "plt.xticks(rotation=0)\n",
        "plt.show()"
      ],
      "metadata": {
        "colab": {
          "base_uri": "https://localhost:8080/",
          "height": 410
        },
        "id": "n2r0iHfFB0CH",
        "outputId": "08bcf744-b196-4670-a206-a5d2942061a4"
      },
      "execution_count": 27,
      "outputs": [
        {
          "output_type": "display_data",
          "data": {
            "text/plain": [
              "<Figure size 600x400 with 1 Axes>"
            ],
            "image/png": "[encoded data removed]"
          },
          "metadata": {}
        }
      ]
    },
    {
      "cell_type": "markdown",
      "source": [
        "# **Feature Extraction**"
      ],
      "metadata": {
        "id": "TWfoD9UG8TBg"
      }
    },
    {
      "cell_type": "markdown",
      "source": [
        "**TF-IDF**"
      ],
      "metadata": {
        "id": "YhH3LvNavWxe"
      }
    },
    {
      "cell_type": "code",
      "source": [
        "X = df['comment_unicode_normalized']\n",
        "y = df['binary_label']\n",
        "\n",
        "# train-test split\n",
        "X_train_text, X_test_text, y_train, y_test = train_test_split(\n",
        "    X, y, test_size=0.2, stratify=y, random_state=42\n",
        ")\n",
        "\n",
        "vectorizer = TfidfVectorizer(max_features=5000)\n",
        "\n",
        "# Fit on training data\n",
        "X_train = vectorizer.fit_transform(X_train_text)\n",
        "X_test = vectorizer.transform(X_test_text)"
      ],
      "metadata": {
        "id": "-AJO1c7Kwv6f"
      },
      "execution_count": null,
      "outputs": []
    },
    {
      "cell_type": "code",
      "source": [
        "# Check shapes\n",
        "print(f\"Training set size: {X_train.shape}\")\n",
        "print(f\"Testing set size: {X_test.shape}\")\n",
        "print(f\"Training labels distribution:\\n{y_train.value_counts()}\")\n",
        "print(f\"Testing labels distribution:\\n{y_test.value_counts()}\")"
      ],
      "metadata": {
        "colab": {
          "base_uri": "https://localhost:8080/"
        },
        "id": "tdsAOSfp800-",
        "outputId": "1df0c7df-b84d-4bbb-c15a-b2c591652fc3"
      },
      "execution_count": null,
      "outputs": [
        {
          "output_type": "stream",
          "name": "stdout",
          "text": [
            "Training set size: (35200, 5000)\n",
            "Testing set size: (8801, 5000)\n",
            "Training labels distribution:\n",
            "binary_label\n",
            "0    19414\n",
            "1    15786\n",
            "Name: count, dtype: int64\n",
            "Testing labels distribution:\n",
            "binary_label\n",
            "0    4854\n",
            "1    3947\n",
            "Name: count, dtype: int64\n"
          ]
        }
      ]
    },
    {
      "cell_type": "markdown",
      "source": [
        "**Logistic Regression**"
      ],
      "metadata": {
        "id": "1gDGVPTi-j3d"
      }
    },
    {
      "cell_type": "code",
      "source": [
        "# Initialize LR model\n",
        "model = LogisticRegression(max_iter=1000, random_state=42)\n",
        "\n",
        "# Train the model\n",
        "model.fit(X_train, y_train)\n",
        "\n",
        "# Predict on test data\n",
        "y_pred = model.predict(X_test)\n",
        "\n",
        "# Evaluate performance\n",
        "accuracy = accuracy_score(y_test, y_pred)\n",
        "precision = precision_score(y_test, y_pred)\n",
        "recall = recall_score(y_test, y_pred)\n",
        "f1 = f1_score(y_test, y_pred)\n",
        "conf_matrix = confusion_matrix(y_test, y_pred)\n",
        "\n",
        "print(f\"Accuracy:  {accuracy:.4f}\")\n",
        "print(f\"Precision: {precision:.4f}\")\n",
        "print(f\"Recall:    {recall:.4f}\")\n",
        "print(f\"F1-score:  {f1:.4f}\")\n",
        "print(\"\\nConfusion Matrix:\")\n",
        "print(conf_matrix)\n",
        "\n",
        "# Optional: Detailed classification report\n",
        "print(\"\\nClassification Report:\")\n",
        "print(classification_report(y_test, y_pred))"
      ],
      "metadata": {
        "colab": {
          "base_uri": "https://localhost:8080/"
        },
        "id": "1FYIBexd-mnm",
        "outputId": "d3ec822f-0609-416b-ae83-e0a13730cfbe"
      },
      "execution_count": null,
      "outputs": [
        {
          "output_type": "stream",
          "name": "stdout",
          "text": [
            "Accuracy:  0.6925\n",
            "Precision: 0.6835\n",
            "Recall:    0.5855\n",
            "F1-score:  0.6307\n",
            "\n",
            "Confusion Matrix:\n",
            "[[3784 1070]\n",
            " [1636 2311]]\n",
            "\n",
            "Classification Report:\n",
            "              precision    recall  f1-score   support\n",
            "\n",
            "           0       0.70      0.78      0.74      4854\n",
            "           1       0.68      0.59      0.63      3947\n",
            "\n",
            "    accuracy                           0.69      8801\n",
            "   macro avg       0.69      0.68      0.68      8801\n",
            "weighted avg       0.69      0.69      0.69      8801\n",
            "\n"
          ]
        }
      ]
    },
    {
      "cell_type": "markdown",
      "source": [
        "**Plot Confusion Matrix**"
      ],
      "metadata": {
        "id": "pJnfPT6sGMX-"
      }
    },
    {
      "cell_type": "code",
      "source": [
        "# Plotting the confusion matrix\n",
        "plt.figure(figsize=(6, 5))\n",
        "sns.heatmap(conf_matrix, annot=True, fmt='d', cmap='Blues', cbar=False)\n",
        "plt.title('Confusion Matrix')\n",
        "plt.xlabel('Predicted Labels')\n",
        "plt.ylabel('True Labels')\n",
        "plt.tight_layout()\n",
        "plt.show()"
      ],
      "metadata": {
        "colab": {
          "base_uri": "https://localhost:8080/",
          "height": 507
        },
        "id": "e_DyD1KhGPq9",
        "outputId": "82488dec-42e7-4780-cf34-048fae893480"
      },
      "execution_count": null,
      "outputs": [
        {
          "output_type": "display_data",
          "data": {
            "text/plain": [
              "<Figure size 600x500 with 1 Axes>"
            ],
            "image/png": "[encoded data removed]"
          },
          "metadata": {}
        }
      ]
    },
    {
      "cell_type": "markdown",
      "source": [
        "**Prediction Test:**"
      ],
      "metadata": {
        "id": "2CCM_mnk_azr"
      }
    },
    {
      "cell_type": "code",
      "source": [
        "# Number of random samples\n",
        "num_samples = 20\n",
        "\n",
        "# Randomly choose indices from the test set\n",
        "random_indices = random.sample(range(X_test.shape[0]), num_samples)\n",
        "\n",
        "# Map binary labels to human-readable form\n",
        "label_map = {0: \"Not Bully\", 1: \"Bully\"}\n",
        "\n",
        "print(f\"{'Sample Text':<80} {'Actual':<10} {'Predicted':<10}\")\n",
        "print(\"-\" * 110)\n",
        "\n",
        "for idx in random_indices:\n",
        "    original_text = X_test_text.iloc[idx]  # Original raw text (before vectorization)\n",
        "    actual_label = y_test.iloc[idx]\n",
        "    pred_label = model.predict(X_test[idx])[0]\n",
        "\n",
        "    print(f\"{original_text[:75]:<80} {label_map[actual_label]:<10} {label_map[pred_label]:<10}\")"
      ],
      "metadata": {
        "colab": {
          "base_uri": "https://localhost:8080/"
        },
        "id": "iUjDCBFLLG1j",
        "outputId": "cb4af96c-cd7b-4d5f-d8c4-ed67afd63792"
      },
      "execution_count": null,
      "outputs": [
        {
          "output_type": "stream",
          "name": "stdout",
          "text": [
            "Sample Text                                                                      Actual     Predicted \n",
            "--------------------------------------------------------------------------------------------------------------\n",
            "কুত্তা লাগবে                                                                     Bully      Not Bully \n",
            "আলম ভাই                                                                          Not Bully  Not Bully \n",
            "মেয়েটাকে কুত্তা চুদাতে                                                          Not Bully  Not Bully \n",
            "আরে পাগল                                                                         Bully      Bully     \n",
            "হিরু আলম এগিয়ে চলআমরা আছি সাথে                                                  Not Bully  Not Bully \n",
            "সাফা কবিরের ক্যারিয়ারের মর্মান্তিক মৃত্যুতে সবাই শোকাহতসাফাকবির তুই গেছিলী      Bully      Bully     \n",
            "মৃত্যর বুঝবি মাগী                                                                Not Bully  Not Bully \n",
            "পেইজ ডিসলাইক সবাই বুঝবে                                                          Bully      Bully     \n",
            "সালমান কুত্তাদিরের ভিডিও দেখেছি সানিলিওনের নিস্পাপ চেহেরা দেখেছি জনি ভাইয়ে      Not Bully  Not Bully \n",
            "নোবেল নো বাল                                                                     Not Bully  Not Bully \n",
            "দুধ বেরিয়ে হাজরো সিঙ্গেল ছেলেদের স্বপ্ন দোষের কারন                              Not Bully  Not Bully \n",
            "এমএইচ অয়ন অসতাগফিরুল্লাহ                                                        Bully      Not Bully \n",
            "হিতি এক জারজ সন্তান                                                              Not Bully  Not Bully \n",
            "এক বালতি আপসুস সকল দেশের সংখ্যায় লঘু যেসব সম্প্রদায় ডাকা হোয়াইট হাউজেসবা      Bully      Not Bully \n",
            "একি মুরগী চোর কবিরের মেয়ে                                                       Bully      Bully     \n",
            "বালময়                                                                           Bully      Not Bully \n",
            "কমেন্ট পড়তে আসচি বাড়ারা                                                        Bully      Not Bully \n",
            "দ্যাখেন নাতা বিশ্বাস নাতখন বল্লেন যেপরকালে বিশ্বাস নাএখন আল্লাহ হাতে সবমাথা      Bully      Not Bully \n",
            "ডাইরেক পতিতার মাগির মত লাগছে                                                     Not Bully  Not Bully \n",
            "আসুন জনি ভাই ছেড়ে দেই                                                           Not Bully  Bully     \n"
          ]
        }
      ]
    },
    {
      "cell_type": "code",
      "source": [
        "def preprocess_input(text):\n",
        "    text = normalize_bangla_text(text)\n",
        "    text = remove_stopwords(text)\n",
        "    text = unicode_normalize(text)\n",
        "    return text\n",
        "\n",
        "# User input for prediction\n",
        "user_text = input(\"Enter a Bangla comment: \")\n",
        "\n",
        "# Preprocess user input\n",
        "clean_text = preprocess_input(user_text)\n",
        "\n",
        "\n",
        "text_vector = vectorizer.transform([clean_text])\n",
        "predicted_label = model.predict(text_vector)[0]\n",
        "label_mapping = {0: \"Not Bully\", 1: \"Bully\"}\n",
        "print(f\"Predicted label: {label_mapping[predicted_label]}\")"
      ],
      "metadata": {
        "colab": {
          "base_uri": "https://localhost:8080/"
        },
        "id": "bnpECEDpLmaZ",
        "outputId": "69306b21-5612-4fbb-820b-ea5423d34d4b"
      },
      "execution_count": null,
      "outputs": [
        {
          "output_type": "stream",
          "name": "stdout",
          "text": [
            "Enter a Bangla comment: আসুন জনি ভাই ছেড়ে দেই\n",
            "Predicted label: Bully\n"
          ]
        }
      ]
    },
    {
      "cell_type": "markdown",
      "source": [
        "**Save the Model**"
      ],
      "metadata": {
        "id": "-7JyOuGKVtK_"
      }
    },
    {
      "cell_type": "code",
      "source": [
        "dump(model, 'logistic_regression_model.joblib')"
      ],
      "metadata": {
        "colab": {
          "base_uri": "https://localhost:8080/"
        },
        "id": "DapqFUcfVViH",
        "outputId": "5399722d-2055-43db-d04c-eff87f3c9d59"
      },
      "execution_count": null,
      "outputs": [
        {
          "output_type": "execute_result",
          "data": {
            "text/plain": [
              "['logistic_regression_model.joblib']"
            ]
          },
          "metadata": {},
          "execution_count": 73
        }
      ]
    },
    {
      "cell_type": "markdown",
      "source": [
        "# **Convert to ONNX**"
      ],
      "metadata": {
        "id": "ofnGzcvlczWJ"
      }
    },
    {
      "cell_type": "markdown",
      "source": [
        "**Essentials:**"
      ],
      "metadata": {
        "id": "-Bj95c1d-dVw"
      }
    },
    {
      "cell_type": "code",
      "source": [
        "!pip install skl2onnx onnxruntime"
      ],
      "metadata": {
        "colab": {
          "base_uri": "https://localhost:8080/"
        },
        "id": "JMkOWvHHc3KU",
        "outputId": "649b6f45-ac64-4576-b310-5e0228afeaf3"
      },
      "execution_count": null,
      "outputs": [
        {
          "output_type": "stream",
          "name": "stdout",
          "text": [
            "Collecting skl2onnx\n",
            "  Downloading skl2onnx-1.18.0-py2.py3-none-any.whl.metadata (3.2 kB)\n",
            "Collecting onnxruntime\n",
            "  Downloading onnxruntime-1.22.0-cp311-cp311-manylinux_2_27_x86_64.manylinux_2_28_x86_64.whl.metadata (4.5 kB)\n",
            "Collecting onnx>=1.2.1 (from skl2onnx)\n",
            "  Downloading onnx-1.18.0-cp311-cp311-manylinux_2_17_x86_64.manylinux2014_x86_64.whl.metadata (6.9 kB)\n",
            "Requirement already satisfied: scikit-learn>=1.1 in /usr/local/lib/python3.11/dist-packages (from skl2onnx) (1.6.1)\n",
            "Collecting onnxconverter-common>=1.7.0 (from skl2onnx)\n",
            "  Downloading onnxconverter_common-1.14.0-py2.py3-none-any.whl.metadata (4.2 kB)\n",
            "Collecting coloredlogs (from onnxruntime)\n",
            "  Downloading coloredlogs-15.0.1-py2.py3-none-any.whl.metadata (12 kB)\n",
            "Requirement already satisfied: flatbuffers in /usr/local/lib/python3.11/dist-packages (from onnxruntime) (25.2.10)\n",
            "Requirement already satisfied: numpy>=1.21.6 in /usr/local/lib/python3.11/dist-packages (from onnxruntime) (2.0.2)\n",
            "Requirement already satisfied: packaging in /usr/local/lib/python3.11/dist-packages (from onnxruntime) (24.2)\n",
            "Requirement already satisfied: protobuf in /usr/local/lib/python3.11/dist-packages (from onnxruntime) (5.29.4)\n",
            "Requirement already satisfied: sympy in /usr/local/lib/python3.11/dist-packages (from onnxruntime) (1.13.1)\n",
            "Requirement already satisfied: typing_extensions>=4.7.1 in /usr/local/lib/python3.11/dist-packages (from onnx>=1.2.1->skl2onnx) (4.13.2)\n",
            "INFO: pip is looking at multiple versions of onnxconverter-common to determine which version is compatible with other requirements. This could take a while.\n",
            "Collecting onnxconverter-common>=1.7.0 (from skl2onnx)\n",
            "  Downloading onnxconverter_common-1.13.0-py2.py3-none-any.whl.metadata (2.6 kB)\n",
            "Requirement already satisfied: scipy>=1.6.0 in /usr/local/lib/python3.11/dist-packages (from scikit-learn>=1.1->skl2onnx) (1.15.3)\n",
            "Requirement already satisfied: joblib>=1.2.0 in /usr/local/lib/python3.11/dist-packages (from scikit-learn>=1.1->skl2onnx) (1.5.0)\n",
            "Requirement already satisfied: threadpoolctl>=3.1.0 in /usr/local/lib/python3.11/dist-packages (from scikit-learn>=1.1->skl2onnx) (3.6.0)\n",
            "Collecting humanfriendly>=9.1 (from coloredlogs->onnxruntime)\n",
            "  Downloading humanfriendly-10.0-py2.py3-none-any.whl.metadata (9.2 kB)\n",
            "Requirement already satisfied: mpmath<1.4,>=1.1.0 in /usr/local/lib/python3.11/dist-packages (from sympy->onnxruntime) (1.3.0)\n",
            "Downloading skl2onnx-1.18.0-py2.py3-none-any.whl (300 kB)\n",
            "\u001b[2K   \u001b[90m━━━━━━━━━━━━━━━━━━━━━━━━━━━━━━━━━━━━━━━━\u001b[0m \u001b[32m300.3/300.3 kB\u001b[0m \u001b[31m4.4 MB/s\u001b[0m eta \u001b[36m0:00:00\u001b[0m\n",
            "\u001b[?25hDownloading onnxruntime-1.22.0-cp311-cp311-manylinux_2_27_x86_64.manylinux_2_28_x86_64.whl (16.4 MB)\n",
            "\u001b[2K   \u001b[90m━━━━━━━━━━━━━━━━━━━━━━━━━━━━━━━━━━━━━━━━\u001b[0m \u001b[32m16.4/16.4 MB\u001b[0m \u001b[31m43.7 MB/s\u001b[0m eta \u001b[36m0:00:00\u001b[0m\n",
            "\u001b[?25hDownloading onnx-1.18.0-cp311-cp311-manylinux_2_17_x86_64.manylinux2014_x86_64.whl (17.6 MB)\n",
            "\u001b[2K   \u001b[90m━━━━━━━━━━━━━━━━━━━━━━━━━━━━━━━━━━━━━━━━\u001b[0m \u001b[32m17.6/17.6 MB\u001b[0m \u001b[31m30.5 MB/s\u001b[0m eta \u001b[36m0:00:00\u001b[0m\n",
            "\u001b[?25hDownloading onnxconverter_common-1.13.0-py2.py3-none-any.whl (83 kB)\n",
            "\u001b[2K   \u001b[90m━━━━━━━━━━━━━━━━━━━━━━━━━━━━━━━━━━━━━━━━\u001b[0m \u001b[32m83.8/83.8 kB\u001b[0m \u001b[31m3.4 MB/s\u001b[0m eta \u001b[36m0:00:00\u001b[0m\n",
            "\u001b[?25hDownloading coloredlogs-15.0.1-py2.py3-none-any.whl (46 kB)\n",
            "\u001b[2K   \u001b[90m━━━━━━━━━━━━━━━━━━━━━━━━━━━━━━━━━━━━━━━━\u001b[0m \u001b[32m46.0/46.0 kB\u001b[0m \u001b[31m1.6 MB/s\u001b[0m eta \u001b[36m0:00:00\u001b[0m\n",
            "\u001b[?25hDownloading humanfriendly-10.0-py2.py3-none-any.whl (86 kB)\n",
            "\u001b[2K   \u001b[90m━━━━━━━━━━━━━━━━━━━━━━━━━━━━━━━━━━━━━━━━\u001b[0m \u001b[32m86.8/86.8 kB\u001b[0m \u001b[31m3.5 MB/s\u001b[0m eta \u001b[36m0:00:00\u001b[0m\n",
            "\u001b[?25hInstalling collected packages: onnx, humanfriendly, onnxconverter-common, coloredlogs, skl2onnx, onnxruntime\n",
            "Successfully installed coloredlogs-15.0.1 humanfriendly-10.0 onnx-1.18.0 onnxconverter-common-1.13.0 onnxruntime-1.22.0 skl2onnx-1.18.0\n"
          ]
        }
      ]
    },
    {
      "cell_type": "code",
      "source": [
        "pip uninstall onnx skl2onnx -y"
      ],
      "metadata": {
        "colab": {
          "base_uri": "https://localhost:8080/"
        },
        "id": "LWjbRR4idouz",
        "outputId": "360a5654-b3ce-446c-d394-87f4984970af"
      },
      "execution_count": null,
      "outputs": [
        {
          "output_type": "stream",
          "name": "stdout",
          "text": [
            "Found existing installation: onnx 1.18.0\n",
            "Uninstalling onnx-1.18.0:\n",
            "  Successfully uninstalled onnx-1.18.0\n",
            "Found existing installation: skl2onnx 1.18.0\n",
            "Uninstalling skl2onnx-1.18.0:\n",
            "  Successfully uninstalled skl2onnx-1.18.0\n"
          ]
        }
      ]
    },
    {
      "cell_type": "code",
      "source": [
        "pip install onnx==1.14.1 skl2onnx==1.18.0"
      ],
      "metadata": {
        "colab": {
          "base_uri": "https://localhost:8080/"
        },
        "id": "I32_f57jdrJH",
        "outputId": "eb473369-9ebe-4b34-d06a-e31b89e58291"
      },
      "execution_count": null,
      "outputs": [
        {
          "output_type": "stream",
          "name": "stdout",
          "text": [
            "Collecting onnx==1.14.1\n",
            "  Downloading onnx-1.14.1-cp311-cp311-manylinux_2_17_x86_64.manylinux2014_x86_64.whl.metadata (15 kB)\n",
            "Collecting skl2onnx==1.18.0\n",
            "  Using cached skl2onnx-1.18.0-py2.py3-none-any.whl.metadata (3.2 kB)\n",
            "Requirement already satisfied: numpy in /usr/local/lib/python3.11/dist-packages (from onnx==1.14.1) (2.0.2)\n",
            "Requirement already satisfied: protobuf>=3.20.2 in /usr/local/lib/python3.11/dist-packages (from onnx==1.14.1) (5.29.4)\n",
            "Requirement already satisfied: typing-extensions>=3.6.2.1 in /usr/local/lib/python3.11/dist-packages (from onnx==1.14.1) (4.13.2)\n",
            "Requirement already satisfied: scikit-learn>=1.1 in /usr/local/lib/python3.11/dist-packages (from skl2onnx==1.18.0) (1.6.1)\n",
            "Requirement already satisfied: onnxconverter-common>=1.7.0 in /usr/local/lib/python3.11/dist-packages (from skl2onnx==1.18.0) (1.13.0)\n",
            "Requirement already satisfied: packaging in /usr/local/lib/python3.11/dist-packages (from onnxconverter-common>=1.7.0->skl2onnx==1.18.0) (24.2)\n",
            "Requirement already satisfied: scipy>=1.6.0 in /usr/local/lib/python3.11/dist-packages (from scikit-learn>=1.1->skl2onnx==1.18.0) (1.15.3)\n",
            "Requirement already satisfied: joblib>=1.2.0 in /usr/local/lib/python3.11/dist-packages (from scikit-learn>=1.1->skl2onnx==1.18.0) (1.5.0)\n",
            "Requirement already satisfied: threadpoolctl>=3.1.0 in /usr/local/lib/python3.11/dist-packages (from scikit-learn>=1.1->skl2onnx==1.18.0) (3.6.0)\n",
            "Downloading onnx-1.14.1-cp311-cp311-manylinux_2_17_x86_64.manylinux2014_x86_64.whl (14.6 MB)\n",
            "\u001b[2K   \u001b[90m━━━━━━━━━━━━━━━━━━━━━━━━━━━━━━━━━━━━━━━━\u001b[0m \u001b[32m14.6/14.6 MB\u001b[0m \u001b[31m51.3 MB/s\u001b[0m eta \u001b[36m0:00:00\u001b[0m\n",
            "\u001b[?25hUsing cached skl2onnx-1.18.0-py2.py3-none-any.whl (300 kB)\n",
            "Installing collected packages: onnx, skl2onnx\n",
            "Successfully installed onnx-1.14.1 skl2onnx-1.18.0\n"
          ]
        }
      ]
    },
    {
      "cell_type": "code",
      "source": [
        "from skl2onnx import convert_sklearn\n",
        "from skl2onnx.common.data_types import StringTensorType\n",
        "import onnxruntime as ort\n",
        "from sklearn.pipeline import Pipeline"
      ],
      "metadata": {
        "id": "kw1iP1ai-isU"
      },
      "execution_count": null,
      "outputs": []
    },
    {
      "cell_type": "code",
      "source": [
        "pipeline = Pipeline([\n",
        "    ('vectorizer', vectorizer),\n",
        "    ('classifier', model)\n",
        "])\n",
        "\n",
        "# Define initial type for input: a batch of strings\n",
        "initial_type = [('input', StringTensorType([None, 1]))]\n",
        "\n",
        "# Convert the pipeline to ONNX\n",
        "onnx_model = convert_sklearn(pipeline, initial_types=initial_type)"
      ],
      "metadata": {
        "id": "Q-clzvmoc1X9"
      },
      "execution_count": null,
      "outputs": []
    },
    {
      "cell_type": "markdown",
      "source": [
        "**Save the Model**"
      ],
      "metadata": {
        "id": "N5JOVZBq-uO5"
      }
    },
    {
      "cell_type": "code",
      "source": [
        "# Save to file\n",
        "with open(\"bangla_logistic_regression.onnx\", \"wb\") as f:\n",
        "    f.write(onnx_model.SerializeToString())\n",
        "\n",
        "print(\"Model successfully converted to ONNX and saved as bangla_logistic_regression.onnx\")"
      ],
      "metadata": {
        "colab": {
          "base_uri": "https://localhost:8080/"
        },
        "id": "T5MM5KDt-s-N",
        "outputId": "19fb5dad-0830-4932-8ce5-5f7ee41bc866"
      },
      "execution_count": null,
      "outputs": [
        {
          "output_type": "stream",
          "name": "stdout",
          "text": [
            "Model successfully converted to ONNX and saved as bangla_logistic_regression.onnx\n"
          ]
        }
      ]
    },
    {
      "cell_type": "markdown",
      "source": [
        "# **FastAPI**"
      ],
      "metadata": {
        "id": "rv7AhWQQjRR_"
      }
    },
    {
      "cell_type": "markdown",
      "source": [
        "**Essentials**"
      ],
      "metadata": {
        "id": "yYq0Eg069CBI"
      }
    },
    {
      "cell_type": "code",
      "source": [
        "pip install fastapi uvicorn onnxruntime"
      ],
      "metadata": {
        "colab": {
          "base_uri": "https://localhost:8080/"
        },
        "id": "ka0ri3VpWxR5",
        "outputId": "68c61261-7183-4b79-acd2-3ab0e3a6a206"
      },
      "execution_count": null,
      "outputs": [
        {
          "output_type": "stream",
          "name": "stdout",
          "text": [
            "Collecting fastapi\n",
            "  Downloading fastapi-0.115.12-py3-none-any.whl.metadata (27 kB)\n",
            "Collecting uvicorn\n",
            "  Downloading uvicorn-0.34.2-py3-none-any.whl.metadata (6.5 kB)\n",
            "Requirement already satisfied: onnxruntime in /usr/local/lib/python3.11/dist-packages (1.22.0)\n",
            "Collecting starlette<0.47.0,>=0.40.0 (from fastapi)\n",
            "  Downloading starlette-0.46.2-py3-none-any.whl.metadata (6.2 kB)\n",
            "Requirement already satisfied: pydantic!=1.8,!=1.8.1,!=2.0.0,!=2.0.1,!=2.1.0,<3.0.0,>=1.7.4 in /usr/local/lib/python3.11/dist-packages (from fastapi) (2.11.4)\n",
            "Requirement already satisfied: typing-extensions>=4.8.0 in /usr/local/lib/python3.11/dist-packages (from fastapi) (4.13.2)\n",
            "Requirement already satisfied: click>=7.0 in /usr/local/lib/python3.11/dist-packages (from uvicorn) (8.2.0)\n",
            "Requirement already satisfied: h11>=0.8 in /usr/local/lib/python3.11/dist-packages (from uvicorn) (0.16.0)\n",
            "Requirement already satisfied: coloredlogs in /usr/local/lib/python3.11/dist-packages (from onnxruntime) (15.0.1)\n",
            "Requirement already satisfied: flatbuffers in /usr/local/lib/python3.11/dist-packages (from onnxruntime) (25.2.10)\n",
            "Requirement already satisfied: numpy>=1.21.6 in /usr/local/lib/python3.11/dist-packages (from onnxruntime) (2.0.2)\n",
            "Requirement already satisfied: packaging in /usr/local/lib/python3.11/dist-packages (from onnxruntime) (24.2)\n",
            "Requirement already satisfied: protobuf in /usr/local/lib/python3.11/dist-packages (from onnxruntime) (5.29.4)\n",
            "Requirement already satisfied: sympy in /usr/local/lib/python3.11/dist-packages (from onnxruntime) (1.13.1)\n",
            "Requirement already satisfied: annotated-types>=0.6.0 in /usr/local/lib/python3.11/dist-packages (from pydantic!=1.8,!=1.8.1,!=2.0.0,!=2.0.1,!=2.1.0,<3.0.0,>=1.7.4->fastapi) (0.7.0)\n",
            "Requirement already satisfied: pydantic-core==2.33.2 in /usr/local/lib/python3.11/dist-packages (from pydantic!=1.8,!=1.8.1,!=2.0.0,!=2.0.1,!=2.1.0,<3.0.0,>=1.7.4->fastapi) (2.33.2)\n",
            "Requirement already satisfied: typing-inspection>=0.4.0 in /usr/local/lib/python3.11/dist-packages (from pydantic!=1.8,!=1.8.1,!=2.0.0,!=2.0.1,!=2.1.0,<3.0.0,>=1.7.4->fastapi) (0.4.0)\n",
            "Requirement already satisfied: anyio<5,>=3.6.2 in /usr/local/lib/python3.11/dist-packages (from starlette<0.47.0,>=0.40.0->fastapi) (4.9.0)\n",
            "Requirement already satisfied: humanfriendly>=9.1 in /usr/local/lib/python3.11/dist-packages (from coloredlogs->onnxruntime) (10.0)\n",
            "Requirement already satisfied: mpmath<1.4,>=1.1.0 in /usr/local/lib/python3.11/dist-packages (from sympy->onnxruntime) (1.3.0)\n",
            "Requirement already satisfied: idna>=2.8 in /usr/local/lib/python3.11/dist-packages (from anyio<5,>=3.6.2->starlette<0.47.0,>=0.40.0->fastapi) (3.10)\n",
            "Requirement already satisfied: sniffio>=1.1 in /usr/local/lib/python3.11/dist-packages (from anyio<5,>=3.6.2->starlette<0.47.0,>=0.40.0->fastapi) (1.3.1)\n",
            "Downloading fastapi-0.115.12-py3-none-any.whl (95 kB)\n",
            "\u001b[2K   \u001b[90m━━━━━━━━━━━━━━━━━━━━━━━━━━━━━━━━━━━━━━━━\u001b[0m \u001b[32m95.2/95.2 kB\u001b[0m \u001b[31m3.7 MB/s\u001b[0m eta \u001b[36m0:00:00\u001b[0m\n",
            "\u001b[?25hDownloading uvicorn-0.34.2-py3-none-any.whl (62 kB)\n",
            "\u001b[2K   \u001b[90m━━━━━━━━━━━━━━━━━━━━━━━━━━━━━━━━━━━━━━━━\u001b[0m \u001b[32m62.5/62.5 kB\u001b[0m \u001b[31m1.9 MB/s\u001b[0m eta \u001b[36m0:00:00\u001b[0m\n",
            "\u001b[?25hDownloading starlette-0.46.2-py3-none-any.whl (72 kB)\n",
            "\u001b[2K   \u001b[90m━━━━━━━━━━━━━━━━━━━━━━━━━━━━━━━━━━━━━━━━\u001b[0m \u001b[32m72.0/72.0 kB\u001b[0m \u001b[31m3.0 MB/s\u001b[0m eta \u001b[36m0:00:00\u001b[0m\n",
            "\u001b[?25hInstalling collected packages: uvicorn, starlette, fastapi\n",
            "Successfully installed fastapi-0.115.12 starlette-0.46.2 uvicorn-0.34.2\n"
          ]
        }
      ]
    },
    {
      "cell_type": "code",
      "source": [
        "from fastapi import FastAPI, HTTPException\n",
        "from pydantic import BaseModel\n",
        "import onnxruntime as ort\n",
        "import unicodedata"
      ],
      "metadata": {
        "id": "h60hU1SO9SKu"
      },
      "execution_count": null,
      "outputs": []
    },
    {
      "cell_type": "code",
      "source": [
        "# Load Bangla stopwords\n",
        "stopwords_df = pd.read_excel('Stopwords.xlsx')\n",
        "stopwords_list = stopwords_df.iloc[:, 0].astype(str).tolist()\n",
        "\n",
        "\n",
        "def preprocess_input(text):\n",
        "    text = normalize_bangla_text(text)\n",
        "    text = remove_stopwords(text)\n",
        "    text = unicode_normalize(text)\n",
        "    return text\n",
        "\n",
        "\n",
        "# Define input data model for POST request\n",
        "class Comment(BaseModel):\n",
        "    text: str\n",
        "\n",
        "app = FastAPI(title=\"Bangla Comment Sentiment Prediction\")\n",
        "\n",
        "# Load ONNX model session globally\n",
        "onnx_session = ort.InferenceSession(\"bangla_logistic_regression.onnx\")\n",
        "\n",
        "def unicode_normalize(text):\n",
        "    return unicodedata.normalize('NFC', text)\n",
        "\n",
        "def remove_stopwords(text):\n",
        "    words = text.split()\n",
        "    filtered_words = [word for word in words if word not in stopwords_list]\n",
        "    return ' '.join(filtered_words)\n",
        "\n",
        "def normalize_bangla_text(text):\n",
        "    # Convert to string in case of NaN\n",
        "    text = str(text)\n",
        "\n",
        "    # Remove web links\n",
        "    text = re.sub(r'http\\S+|www\\S+|https\\S+', '', text, flags=re.MULTILINE)\n",
        "\n",
        "    # Remove digits\n",
        "    text = re.sub(r'\\d+', '', text)\n",
        "\n",
        "    # Remove punctuation and symbols\n",
        "    text = re.sub(r'[^\\u0980-\\u09FF\\s]', '', text)\n",
        "\n",
        "    # Remove English letters\n",
        "    text = re.sub(r'[a-zA-Z]', '', text)\n",
        "\n",
        "    # Remove extra spaces\n",
        "    text = re.sub(r'\\s+', ' ', text).strip()\n",
        "\n",
        "    return text\n",
        "\n",
        "\n",
        "# Helper function: preprocess text\n",
        "def preprocess_text(text):\n",
        "    processed_text = preprocess_input(text)\n",
        "    return processed_text\n",
        "\n",
        "# Endpoint to accept comment and return predicted label\n",
        "@app.post(\"/predict\")\n",
        "async def predict_sentiment(comment: Comment):\n",
        "    try:\n",
        "        # Preprocess input\n",
        "        processed_text = preprocess_text(comment.text)\n",
        "\n",
        "        # Prepare input for ONNX model\n",
        "        input_name = onnx_session.get_inputs()[0].name\n",
        "        inputs = {input_name: [[processed_text]]}  # shape (1,1)\n",
        "\n",
        "        # Run inference\n",
        "        pred_onx = onnx_session.run(None, inputs)\n",
        "        pred_label = int(pred_onx[0][0])\n",
        "\n",
        "        # Map label id to text\n",
        "        label_map = {0: \"Not Bully\", 1: \"Bully\"}\n",
        "\n",
        "        return {\"predicted_label\": label_map.get(pred_label, \"Unknown\")}\n",
        "\n",
        "    except Exception as e:\n",
        "        raise HTTPException(status_code=500, detail=str(e))"
      ],
      "metadata": {
        "id": "9ydrz1YsYm1K"
      },
      "execution_count": null,
      "outputs": []
    },
    {
      "cell_type": "markdown",
      "source": [
        "\n",
        "\n",
        "---\n",
        "\n",
        "\n",
        "\n",
        "***Below, I have also attached a screenshot of my Postman Backend Tester.***\n",
        "\n",
        "\n",
        "\n",
        "---\n",
        "\n"
      ],
      "metadata": {
        "id": "Y_YVCF-7DGA5"
      }
    },
    {
      "cell_type": "markdown",
      "source": [
        "![Test.jpeg](data:image/jpeg;base64,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)"
      ],
      "metadata": {
        "id": "ZvRNM4kSDCpc"
      }
    },
    {
      "cell_type": "markdown",
      "source": [
        "**How to Run the API:**\n",
        "\n",
        "**Code organization:**\n",
        "1. I separated all necessary preprocessing functions such as: text normalization, stopword removal into a dedicated Python file.\n",
        "2. This file is imported into the main FastAPI app script.\n",
        "3. The ONNX model file and stopwords dataset are placed in the same directory on the EC2 instance.\n",
        "\n",
        "**Virtual Environment Setup:**\n",
        "1. On the EC2 instance, I created a Python virtual environment (venv) to isolate dependencies.\n",
        "2. This avoids version conflicts because different projects often require different package versions.\n",
        "3. After creating the virtual environment, I activated it.\n",
        "4. Inside the activated environment, I installed all required Python packages such as: fastapi, uvicorn, onnxruntime, pandas, openpyxl, etc.\n",
        "\n",
        "**Running the FastAPI app:**\n",
        "1. With the virtual environment activated, I ran the FastAPI server using Uvicorn.\n",
        "2. I specified the host as 0.0.0.0 to allow external access and the port as 8000.\n",
        "3. The server started successfully and was listening on port 8000.\n",
        "\n",
        "**Testing the API with Postman:**\n",
        "1. I used Postman to test the API.\n",
        "2. In Postman, I set the method to POST and the URL to http://122.248.240.219:8000/predict.\n",
        "3. In the request body, I selected raw and set the format to JSON.\n",
        "4. I wrote the JSON payload with a \"text\" field containing the Bangla comment to analyze.\n",
        "5. After sending the request, I received the predicted label in the JSON response.\n",
        "\n",
        "\n",
        "**Example POST Request:**\n",
        "\n",
        "1. In POSTMAN, use the http://122.248.240.219:8000/predict\n",
        "2. Content-Type: application/json\n",
        "\n",
        "3. {\n",
        "  \"text\": \"তুমি খুব খারাপ একজন মানুষ\"\n",
        "}\n",
        "\n",
        "4. {\n",
        "  \"predicted_label\": \"Bully\"\n",
        "}"
      ],
      "metadata": {
        "id": "RelRmI2gxoab"
      }
    }
  ],
  "metadata": {
    "colab": {
      "provenance": []
    },
    "kernelspec": {
      "display_name": "Python 3",
      "name": "python3"
    },
    "language_info": {
      "name": "python"
    },
    "widgets": {
      "application/vnd.jupyter.widget-state+json": {
        "f2feb7f99c5745aa8d433f2b341e4a59": {
          "model_module": "@jupyter-widgets/controls",
          "model_name": "HBoxModel",
          "model_module_version": "1.5.0",
          "state": {
            "_dom_classes": [],
            "_model_module": "@jupyter-widgets/controls",
            "_model_module_version": "1.5.0",
            "_model_name": "HBoxModel",
            "_view_count": null,
            "_view_module": "@jupyter-widgets/controls",
            "_view_module_version": "1.5.0",
            "_view_name": "HBoxView",
            "box_style": "",
            "children": [
              "IPY_MODEL_32386289d8de43459029f5605e22af91",
              "IPY_MODEL_cb21dfb2f7a34661b1a35ba8fe352f45",
              "IPY_MODEL_47e7e6f1b661452789409d81aa089dba"
            ],
            "layout": "IPY_MODEL_54d55109a8ba4de5bc60cb594601bf17"
          }
        },
        "32386289d8de43459029f5605e22af91": {
          "model_module": "@jupyter-widgets/controls",
          "model_name": "HTMLModel",
          "model_module_version": "1.5.0",
          "state": {
            "_dom_classes": [],
            "_model_module": "@jupyter-widgets/controls",
            "_model_module_version": "1.5.0",
            "_model_name": "HTMLModel",
            "_view_count": null,
            "_view_module": "@jupyter-widgets/controls",
            "_view_module_version": "1.5.0",
            "_view_name": "HTMLView",
            "description": "",
            "description_tooltip": null,
            "layout": "IPY_MODEL_358c4838ff024fe9b625dc7e4e1ab9f5",
            "placeholder": "​",
            "style": "IPY_MODEL_4ab3cc64aeb04351baff3d71e7818108",
            "value": "config.json: 100%"
          }
        },
        "cb21dfb2f7a34661b1a35ba8fe352f45": {
          "model_module": "@jupyter-widgets/controls",
          "model_name": "FloatProgressModel",
          "model_module_version": "1.5.0",
          "state": {
            "_dom_classes": [],
            "_model_module": "@jupyter-widgets/controls",
            "_model_module_version": "1.5.0",
            "_model_name": "FloatProgressModel",
            "_view_count": null,
            "_view_module": "@jupyter-widgets/controls",
            "_view_module_version": "1.5.0",
            "_view_name": "ProgressView",
            "bar_style": "success",
            "description": "",
            "description_tooltip": null,
            "layout": "IPY_MODEL_66215334799c4b6a82b5348da82e116b",
            "max": 491,
            "min": 0,
            "orientation": "horizontal",
            "style": "IPY_MODEL_3a3ed1c921db4e6c92c3624da5c55c47",
            "value": 491
          }
        },
        "47e7e6f1b661452789409d81aa089dba": {
          "model_module": "@jupyter-widgets/controls",
          "model_name": "HTMLModel",
          "model_module_version": "1.5.0",
          "state": {
            "_dom_classes": [],
            "_model_module": "@jupyter-widgets/controls",
            "_model_module_version": "1.5.0",
            "_model_name": "HTMLModel",
            "_view_count": null,
            "_view_module": "@jupyter-widgets/controls",
            "_view_module_version": "1.5.0",
            "_view_name": "HTMLView",
            "description": "",
            "description_tooltip": null,
            "layout": "IPY_MODEL_15b8d9de9fce494ea46c0ca9e2bf5479",
            "placeholder": "​",
            "style": "IPY_MODEL_d63b34c0f0fd4fbd9fb154388131aab8",
            "value": " 491/491 [00:00&lt;00:00, 34.8kB/s]"
          }
        },
        "54d55109a8ba4de5bc60cb594601bf17": {
          "model_module": "@jupyter-widgets/base",
          "model_name": "LayoutModel",
          "model_module_version": "1.2.0",
          "state": {
            "_model_module": "@jupyter-widgets/base",
            "_model_module_version": "1.2.0",
            "_model_name": "LayoutModel",
            "_view_count": null,
            "_view_module": "@jupyter-widgets/base",
            "_view_module_version": "1.2.0",
            "_view_name": "LayoutView",
            "align_content": null,
            "align_items": null,
            "align_self": null,
            "border": null,
            "bottom": null,
            "display": null,
            "flex": null,
            "flex_flow": null,
            "grid_area": null,
            "grid_auto_columns": null,
            "grid_auto_flow": null,
            "grid_auto_rows": null,
            "grid_column": null,
            "grid_gap": null,
            "grid_row": null,
            "grid_template_areas": null,
            "grid_template_columns": null,
            "grid_template_rows": null,
            "height": null,
            "justify_content": null,
            "justify_items": null,
            "left": null,
            "margin": null,
            "max_height": null,
            "max_width": null,
            "min_height": null,
            "min_width": null,
            "object_fit": null,
            "object_position": null,
            "order": null,
            "overflow": null,
            "overflow_x": null,
            "overflow_y": null,
            "padding": null,
            "right": null,
            "top": null,
            "visibility": null,
            "width": null
          }
        },
        "358c4838ff024fe9b625dc7e4e1ab9f5": {
          "model_module": "@jupyter-widgets/base",
          "model_name": "LayoutModel",
          "model_module_version": "1.2.0",
          "state": {
            "_model_module": "@jupyter-widgets/base",
            "_model_module_version": "1.2.0",
            "_model_name": "LayoutModel",
            "_view_count": null,
            "_view_module": "@jupyter-widgets/base",
            "_view_module_version": "1.2.0",
            "_view_name": "LayoutView",
            "align_content": null,
            "align_items": null,
            "align_self": null,
            "border": null,
            "bottom": null,
            "display": null,
            "flex": null,
            "flex_flow": null,
            "grid_area": null,
            "grid_auto_columns": null,
            "grid_auto_flow": null,
            "grid_auto_rows": null,
            "grid_column": null,
            "grid_gap": null,
            "grid_row": null,
            "grid_template_areas": null,
            "grid_template_columns": null,
            "grid_template_rows": null,
            "height": null,
            "justify_content": null,
            "justify_items": null,
            "left": null,
            "margin": null,
            "max_height": null,
            "max_width": null,
            "min_height": null,
            "min_width": null,
            "object_fit": null,
            "object_position": null,
            "order": null,
            "overflow": null,
            "overflow_x": null,
            "overflow_y": null,
            "padding": null,
            "right": null,
            "top": null,
            "visibility": null,
            "width": null
          }
        },
        "4ab3cc64aeb04351baff3d71e7818108": {
          "model_module": "@jupyter-widgets/controls",
          "model_name": "DescriptionStyleModel",
          "model_module_version": "1.5.0",
          "state": {
            "_model_module": "@jupyter-widgets/controls",
            "_model_module_version": "1.5.0",
            "_model_name": "DescriptionStyleModel",
            "_view_count": null,
            "_view_module": "@jupyter-widgets/base",
            "_view_module_version": "1.2.0",
            "_view_name": "StyleView",
            "description_width": ""
          }
        },
        "66215334799c4b6a82b5348da82e116b": {
          "model_module": "@jupyter-widgets/base",
          "model_name": "LayoutModel",
          "model_module_version": "1.2.0",
          "state": {
            "_model_module": "@jupyter-widgets/base",
            "_model_module_version": "1.2.0",
            "_model_name": "LayoutModel",
            "_view_count": null,
            "_view_module": "@jupyter-widgets/base",
            "_view_module_version": "1.2.0",
            "_view_name": "LayoutView",
            "align_content": null,
            "align_items": null,
            "align_self": null,
            "border": null,
            "bottom": null,
            "display": null,
            "flex": null,
            "flex_flow": null,
            "grid_area": null,
            "grid_auto_columns": null,
            "grid_auto_flow": null,
            "grid_auto_rows": null,
            "grid_column": null,
            "grid_gap": null,
            "grid_row": null,
            "grid_template_areas": null,
            "grid_template_columns": null,
            "grid_template_rows": null,
            "height": null,
            "justify_content": null,
            "justify_items": null,
            "left": null,
            "margin": null,
            "max_height": null,
            "max_width": null,
            "min_height": null,
            "min_width": null,
            "object_fit": null,
            "object_position": null,
            "order": null,
            "overflow": null,
            "overflow_x": null,
            "overflow_y": null,
            "padding": null,
            "right": null,
            "top": null,
            "visibility": null,
            "width": null
          }
        },
        "3a3ed1c921db4e6c92c3624da5c55c47": {
          "model_module": "@jupyter-widgets/controls",
          "model_name": "ProgressStyleModel",
          "model_module_version": "1.5.0",
          "state": {
            "_model_module": "@jupyter-widgets/controls",
            "_model_module_version": "1.5.0",
            "_model_name": "ProgressStyleModel",
            "_view_count": null,
            "_view_module": "@jupyter-widgets/base",
            "_view_module_version": "1.2.0",
            "_view_name": "StyleView",
            "bar_color": null,
            "description_width": ""
          }
        },
        "15b8d9de9fce494ea46c0ca9e2bf5479": {
          "model_module": "@jupyter-widgets/base",
          "model_name": "LayoutModel",
          "model_module_version": "1.2.0",
          "state": {
            "_model_module": "@jupyter-widgets/base",
            "_model_module_version": "1.2.0",
            "_model_name": "LayoutModel",
            "_view_count": null,
            "_view_module": "@jupyter-widgets/base",
            "_view_module_version": "1.2.0",
            "_view_name": "LayoutView",
            "align_content": null,
            "align_items": null,
            "align_self": null,
            "border": null,
            "bottom": null,
            "display": null,
            "flex": null,
            "flex_flow": null,
            "grid_area": null,
            "grid_auto_columns": null,
            "grid_auto_flow": null,
            "grid_auto_rows": null,
            "grid_column": null,
            "grid_gap": null,
            "grid_row": null,
            "grid_template_areas": null,
            "grid_template_columns": null,
            "grid_template_rows": null,
            "height": null,
            "justify_content": null,
            "justify_items": null,
            "left": null,
            "margin": null,
            "max_height": null,
            "max_width": null,
            "min_height": null,
            "min_width": null,
            "object_fit": null,
            "object_position": null,
            "order": null,
            "overflow": null,
            "overflow_x": null,
            "overflow_y": null,
            "padding": null,
            "right": null,
            "top": null,
            "visibility": null,
            "width": null
          }
        },
        "d63b34c0f0fd4fbd9fb154388131aab8": {
          "model_module": "@jupyter-widgets/controls",
          "model_name": "DescriptionStyleModel",
          "model_module_version": "1.5.0",
          "state": {
            "_model_module": "@jupyter-widgets/controls",
            "_model_module_version": "1.5.0",
            "_model_name": "DescriptionStyleModel",
            "_view_count": null,
            "_view_module": "@jupyter-widgets/base",
            "_view_module_version": "1.2.0",
            "_view_name": "StyleView",
            "description_width": ""
          }
        },
        "264d424e443344aab0e8b455c7fdbd52": {
          "model_module": "@jupyter-widgets/controls",
          "model_name": "HBoxModel",
          "model_module_version": "1.5.0",
          "state": {
            "_dom_classes": [],
            "_model_module": "@jupyter-widgets/controls",
            "_model_module_version": "1.5.0",
            "_model_name": "HBoxModel",
            "_view_count": null,
            "_view_module": "@jupyter-widgets/controls",
            "_view_module_version": "1.5.0",
            "_view_name": "HBoxView",
            "box_style": "",
            "children": [
              "IPY_MODEL_8a50e797ff104aedb86d0ac9e974921f",
              "IPY_MODEL_341032e7e27147b68260a91dd58bf27b",
              "IPY_MODEL_e45c08527bca453f8e15a873c7d0ab51"
            ],
            "layout": "IPY_MODEL_63b38412bd9f4821a2d3244968c97882"
          }
        },
        "8a50e797ff104aedb86d0ac9e974921f": {
          "model_module": "@jupyter-widgets/controls",
          "model_name": "HTMLModel",
          "model_module_version": "1.5.0",
          "state": {
            "_dom_classes": [],
            "_model_module": "@jupyter-widgets/controls",
            "_model_module_version": "1.5.0",
            "_model_name": "HTMLModel",
            "_view_count": null,
            "_view_module": "@jupyter-widgets/controls",
            "_view_module_version": "1.5.0",
            "_view_name": "HTMLView",
            "description": "",
            "description_tooltip": null,
            "layout": "IPY_MODEL_75d0c6ead28e4fd3b4e05c29d26fe479",
            "placeholder": "​",
            "style": "IPY_MODEL_d21bf8ad31424730a034543656b1719a",
            "value": "vocab.txt: 100%"
          }
        },
        "341032e7e27147b68260a91dd58bf27b": {
          "model_module": "@jupyter-widgets/controls",
          "model_name": "FloatProgressModel",
          "model_module_version": "1.5.0",
          "state": {
            "_dom_classes": [],
            "_model_module": "@jupyter-widgets/controls",
            "_model_module_version": "1.5.0",
            "_model_name": "FloatProgressModel",
            "_view_count": null,
            "_view_module": "@jupyter-widgets/controls",
            "_view_module_version": "1.5.0",
            "_view_name": "ProgressView",
            "bar_style": "success",
            "description": "",
            "description_tooltip": null,
            "layout": "IPY_MODEL_dba2f4e43b214d45871de547edc8e2ff",
            "max": 2237676,
            "min": 0,
            "orientation": "horizontal",
            "style": "IPY_MODEL_67d9d30785254b18a943823fc3ff6f8f",
            "value": 2237676
          }
        },
        "e45c08527bca453f8e15a873c7d0ab51": {
          "model_module": "@jupyter-widgets/controls",
          "model_name": "HTMLModel",
          "model_module_version": "1.5.0",
          "state": {
            "_dom_classes": [],
            "_model_module": "@jupyter-widgets/controls",
            "_model_module_version": "1.5.0",
            "_model_name": "HTMLModel",
            "_view_count": null,
            "_view_module": "@jupyter-widgets/controls",
            "_view_module_version": "1.5.0",
            "_view_name": "HTMLView",
            "description": "",
            "description_tooltip": null,
            "layout": "IPY_MODEL_8db66e7607fc408aa9e8619bc31a3487",
            "placeholder": "​",
            "style": "IPY_MODEL_854aadbf07634dafabc6feb0fb6784f0",
            "value": " 2.24M/2.24M [00:00&lt;00:00, 11.9MB/s]"
          }
        },
        "63b38412bd9f4821a2d3244968c97882": {
          "model_module": "@jupyter-widgets/base",
          "model_name": "LayoutModel",
          "model_module_version": "1.2.0",
          "state": {
            "_model_module": "@jupyter-widgets/base",
            "_model_module_version": "1.2.0",
            "_model_name": "LayoutModel",
            "_view_count": null,
            "_view_module": "@jupyter-widgets/base",
            "_view_module_version": "1.2.0",
            "_view_name": "LayoutView",
            "align_content": null,
            "align_items": null,
            "align_self": null,
            "border": null,
            "bottom": null,
            "display": null,
            "flex": null,
            "flex_flow": null,
            "grid_area": null,
            "grid_auto_columns": null,
            "grid_auto_flow": null,
            "grid_auto_rows": null,
            "grid_column": null,
            "grid_gap": null,
            "grid_row": null,
            "grid_template_areas": null,
            "grid_template_columns": null,
            "grid_template_rows": null,
            "height": null,
            "justify_content": null,
            "justify_items": null,
            "left": null,
            "margin": null,
            "max_height": null,
            "max_width": null,
            "min_height": null,
            "min_width": null,
            "object_fit": null,
            "object_position": null,
            "order": null,
            "overflow": null,
            "overflow_x": null,
            "overflow_y": null,
            "padding": null,
            "right": null,
            "top": null,
            "visibility": null,
            "width": null
          }
        },
        "75d0c6ead28e4fd3b4e05c29d26fe479": {
          "model_module": "@jupyter-widgets/base",
          "model_name": "LayoutModel",
          "model_module_version": "1.2.0",
          "state": {
            "_model_module": "@jupyter-widgets/base",
            "_model_module_version": "1.2.0",
            "_model_name": "LayoutModel",
            "_view_count": null,
            "_view_module": "@jupyter-widgets/base",
            "_view_module_version": "1.2.0",
            "_view_name": "LayoutView",
            "align_content": null,
            "align_items": null,
            "align_self": null,
            "border": null,
            "bottom": null,
            "display": null,
            "flex": null,
            "flex_flow": null,
            "grid_area": null,
            "grid_auto_columns": null,
            "grid_auto_flow": null,
            "grid_auto_rows": null,
            "grid_column": null,
            "grid_gap": null,
            "grid_row": null,
            "grid_template_areas": null,
            "grid_template_columns": null,
            "grid_template_rows": null,
            "height": null,
            "justify_content": null,
            "justify_items": null,
            "left": null,
            "margin": null,
            "max_height": null,
            "max_width": null,
            "min_height": null,
            "min_width": null,
            "object_fit": null,
            "object_position": null,
            "order": null,
            "overflow": null,
            "overflow_x": null,
            "overflow_y": null,
            "padding": null,
            "right": null,
            "top": null,
            "visibility": null,
            "width": null
          }
        },
        "d21bf8ad31424730a034543656b1719a": {
          "model_module": "@jupyter-widgets/controls",
          "model_name": "DescriptionStyleModel",
          "model_module_version": "1.5.0",
          "state": {
            "_model_module": "@jupyter-widgets/controls",
            "_model_module_version": "1.5.0",
            "_model_name": "DescriptionStyleModel",
            "_view_count": null,
            "_view_module": "@jupyter-widgets/base",
            "_view_module_version": "1.2.0",
            "_view_name": "StyleView",
            "description_width": ""
          }
        },
        "dba2f4e43b214d45871de547edc8e2ff": {
          "model_module": "@jupyter-widgets/base",
          "model_name": "LayoutModel",
          "model_module_version": "1.2.0",
          "state": {
            "_model_module": "@jupyter-widgets/base",
            "_model_module_version": "1.2.0",
            "_model_name": "LayoutModel",
            "_view_count": null,
            "_view_module": "@jupyter-widgets/base",
            "_view_module_version": "1.2.0",
            "_view_name": "LayoutView",
            "align_content": null,
            "align_items": null,
            "align_self": null,
            "border": null,
            "bottom": null,
            "display": null,
            "flex": null,
            "flex_flow": null,
            "grid_area": null,
            "grid_auto_columns": null,
            "grid_auto_flow": null,
            "grid_auto_rows": null,
            "grid_column": null,
            "grid_gap": null,
            "grid_row": null,
            "grid_template_areas": null,
            "grid_template_columns": null,
            "grid_template_rows": null,
            "height": null,
            "justify_content": null,
            "justify_items": null,
            "left": null,
            "margin": null,
            "max_height": null,
            "max_width": null,
            "min_height": null,
            "min_width": null,
            "object_fit": null,
            "object_position": null,
            "order": null,
            "overflow": null,
            "overflow_x": null,
            "overflow_y": null,
            "padding": null,
            "right": null,
            "top": null,
            "visibility": null,
            "width": null
          }
        },
        "67d9d30785254b18a943823fc3ff6f8f": {
          "model_module": "@jupyter-widgets/controls",
          "model_name": "ProgressStyleModel",
          "model_module_version": "1.5.0",
          "state": {
            "_model_module": "@jupyter-widgets/controls",
            "_model_module_version": "1.5.0",
            "_model_name": "ProgressStyleModel",
            "_view_count": null,
            "_view_module": "@jupyter-widgets/base",
            "_view_module_version": "1.2.0",
            "_view_name": "StyleView",
            "bar_color": null,
            "description_width": ""
          }
        },
        "8db66e7607fc408aa9e8619bc31a3487": {
          "model_module": "@jupyter-widgets/base",
          "model_name": "LayoutModel",
          "model_module_version": "1.2.0",
          "state": {
            "_model_module": "@jupyter-widgets/base",
            "_model_module_version": "1.2.0",
            "_model_name": "LayoutModel",
            "_view_count": null,
            "_view_module": "@jupyter-widgets/base",
            "_view_module_version": "1.2.0",
            "_view_name": "LayoutView",
            "align_content": null,
            "align_items": null,
            "align_self": null,
            "border": null,
            "bottom": null,
            "display": null,
            "flex": null,
            "flex_flow": null,
            "grid_area": null,
            "grid_auto_columns": null,
            "grid_auto_flow": null,
            "grid_auto_rows": null,
            "grid_column": null,
            "grid_gap": null,
            "grid_row": null,
            "grid_template_areas": null,
            "grid_template_columns": null,
            "grid_template_rows": null,
            "height": null,
            "justify_content": null,
            "justify_items": null,
            "left": null,
            "margin": null,
            "max_height": null,
            "max_width": null,
            "min_height": null,
            "min_width": null,
            "object_fit": null,
            "object_position": null,
            "order": null,
            "overflow": null,
            "overflow_x": null,
            "overflow_y": null,
            "padding": null,
            "right": null,
            "top": null,
            "visibility": null,
            "width": null
          }
        },
        "854aadbf07634dafabc6feb0fb6784f0": {
          "model_module": "@jupyter-widgets/controls",
          "model_name": "DescriptionStyleModel",
          "model_module_version": "1.5.0",
          "state": {
            "_model_module": "@jupyter-widgets/controls",
            "_model_module_version": "1.5.0",
            "_model_name": "DescriptionStyleModel",
            "_view_count": null,
            "_view_module": "@jupyter-widgets/base",
            "_view_module_version": "1.2.0",
            "_view_name": "StyleView",
            "description_width": ""
          }
        }
      }
    }
  },
  "nbformat": 4,
  "nbformat_minor": 0
}